{
 "cells": [
  {
   "cell_type": "markdown",
   "metadata": {},
   "source": [
    "### <font color='red'> Project 2\n",
    "\n",
    "Project Description:\n",
    "- Use same datasets as Project 1.\n",
    "- Preprocess data: Explore data and apply data scaling.\n",
    "\n",
    "Regression Task:\n",
    "- Apply any two models with bagging and any two models with pasting.\n",
    "- Apply any two models with adaboost boosting\n",
    "- Apply one model with gradient boosting\n",
    "- Apply PCA on data and then apply all the models in project 1 again on data you get from PCA. Compare your results with results in project 2. You don't need to apply all the models twice. Just copy the result table from project 1, prepare similar table for all the models after PCA and compare both tables. Does PCA help in getting better results?\n",
    "- Apply deep learning models covered in class\n",
    "\n",
    "Classification Task:\n",
    "- Apply two voting classifiers - one with hard voting and one with soft voting\n",
    "- Apply any two models with bagging and any two models with pasting.\n",
    "- Apply any two models with adaboost boosting\n",
    "- Apply one model with gradient boosting\n",
    "- Apply PCA on data and then apply all the models in project 1 again on data you get from PCA. Compare your results with results in project 1. You don't need to apply all the models twice. Just copy the result table from project 1, prepare similar table for all the models after PCA and compare both tables. Does PCA help in getting better results?\n",
    "- Apply deep learning models covered in class\n",
    "\n",
    "Deliverables:\n",
    "- Use markdown to provide inline comments for this project.\n",
    "- Your outputs should be clearly executed in the notebook i.e. we should not need to rerun the code to obtain the outputs.\n",
    "- Visualization encouraged.\n",
    "- If you are submitting two different files, then please only one group member submit both the files. If you submit two files separately from different accounts, it will be submitted as two different attempts.\n",
    "- If you are submitting two different files, then please follow below naming convetion:\n",
    "    Project2_Regression_GroupXX_Firstname1_Firstname2.ipynb\n",
    "    Project2_Classification_GroupXX_Firstname1_Firstname2.ipynb\n",
    "- If you are submitting single file, then please follow below naming convetion:\n",
    "    Project2_Both_GroupXX_Firstname1_Firstname2.ipynb\n",
    "\n",
    "Questions regarding the project:\n",
    "- We have created a discussion board under Projects folder on e-learning. Create threads over there and post your queries related to project there.\n",
    "- We will also answer queries there. We will not be answering any project related queries through the mail."
   ]
  },
  {
   "cell_type": "code",
   "execution_count": 1,
   "metadata": {},
   "outputs": [],
   "source": [
    "import pandas as pd\n",
    "import numpy as np\n",
    "import matplotlib.pyplot as plt\n",
    "import seaborn as sns\n",
    "import warnings\n",
    "warnings.filterwarnings('ignore')\n",
    "%matplotlib inline"
   ]
  },
  {
   "cell_type": "code",
   "execution_count": 2,
   "metadata": {},
   "outputs": [],
   "source": [
    "# loading datasets\n",
    "audit_risk = pd.read_csv('audit_risk.csv')\n",
    "trial = pd.read_csv('trial.csv')"
   ]
  },
  {
   "cell_type": "code",
   "execution_count": 3,
   "metadata": {},
   "outputs": [
    {
     "name": "stdout",
     "output_type": "stream",
     "text": [
      "(776, 27)\n",
      "(776, 18)\n"
     ]
    }
   ],
   "source": [
    "# Exploring datasets\n",
    "print(audit_risk.shape)\n",
    "print(trial.shape)"
   ]
  },
  {
   "cell_type": "code",
   "execution_count": 4,
   "metadata": {},
   "outputs": [
    {
     "name": "stdout",
     "output_type": "stream",
     "text": [
      "<class 'pandas.core.frame.DataFrame'>\n",
      "RangeIndex: 776 entries, 0 to 775\n",
      "Data columns (total 27 columns):\n",
      "Sector_score      776 non-null float64\n",
      "LOCATION_ID       776 non-null object\n",
      "PARA_A            776 non-null float64\n",
      "Score_A           776 non-null float64\n",
      "Risk_A            776 non-null float64\n",
      "PARA_B            776 non-null float64\n",
      "Score_B           776 non-null float64\n",
      "Risk_B            776 non-null float64\n",
      "TOTAL             776 non-null float64\n",
      "numbers           776 non-null float64\n",
      "Score_B.1         776 non-null float64\n",
      "Risk_C            776 non-null float64\n",
      "Money_Value       775 non-null float64\n",
      "Score_MV          776 non-null float64\n",
      "Risk_D            776 non-null float64\n",
      "District_Loss     776 non-null int64\n",
      "PROB              776 non-null float64\n",
      "RiSk_E            776 non-null float64\n",
      "History           776 non-null int64\n",
      "Prob              776 non-null float64\n",
      "Risk_F            776 non-null float64\n",
      "Score             776 non-null float64\n",
      "Inherent_Risk     776 non-null float64\n",
      "CONTROL_RISK      776 non-null float64\n",
      "Detection_Risk    776 non-null float64\n",
      "Audit_Risk        776 non-null float64\n",
      "Risk              776 non-null int64\n",
      "dtypes: float64(23), int64(3), object(1)\n",
      "memory usage: 163.8+ KB\n"
     ]
    }
   ],
   "source": [
    "audit_risk.info() \n",
    "#one missing values in Money_Value, and Location_ID dtype is object; need to be fixed"
   ]
  },
  {
   "cell_type": "code",
   "execution_count": 5,
   "metadata": {},
   "outputs": [
    {
     "data": {
      "text/html": [
       "<div>\n",
       "<style scoped>\n",
       "    .dataframe tbody tr th:only-of-type {\n",
       "        vertical-align: middle;\n",
       "    }\n",
       "\n",
       "    .dataframe tbody tr th {\n",
       "        vertical-align: top;\n",
       "    }\n",
       "\n",
       "    .dataframe thead th {\n",
       "        text-align: right;\n",
       "    }\n",
       "</style>\n",
       "<table border=\"1\" class=\"dataframe\">\n",
       "  <thead>\n",
       "    <tr style=\"text-align: right;\">\n",
       "      <th></th>\n",
       "      <th>Sector_score</th>\n",
       "      <th>PARA_A</th>\n",
       "      <th>Score_A</th>\n",
       "      <th>Risk_A</th>\n",
       "      <th>PARA_B</th>\n",
       "      <th>Score_B</th>\n",
       "      <th>Risk_B</th>\n",
       "      <th>TOTAL</th>\n",
       "      <th>numbers</th>\n",
       "      <th>Score_B.1</th>\n",
       "      <th>...</th>\n",
       "      <th>RiSk_E</th>\n",
       "      <th>History</th>\n",
       "      <th>Prob</th>\n",
       "      <th>Risk_F</th>\n",
       "      <th>Score</th>\n",
       "      <th>Inherent_Risk</th>\n",
       "      <th>CONTROL_RISK</th>\n",
       "      <th>Detection_Risk</th>\n",
       "      <th>Audit_Risk</th>\n",
       "      <th>Risk</th>\n",
       "    </tr>\n",
       "  </thead>\n",
       "  <tbody>\n",
       "    <tr>\n",
       "      <th>count</th>\n",
       "      <td>776.000000</td>\n",
       "      <td>776.000000</td>\n",
       "      <td>776.000000</td>\n",
       "      <td>776.000000</td>\n",
       "      <td>776.000000</td>\n",
       "      <td>776.000000</td>\n",
       "      <td>776.000000</td>\n",
       "      <td>776.000000</td>\n",
       "      <td>776.000000</td>\n",
       "      <td>776.000000</td>\n",
       "      <td>...</td>\n",
       "      <td>776.000000</td>\n",
       "      <td>776.000000</td>\n",
       "      <td>776.000000</td>\n",
       "      <td>776.000000</td>\n",
       "      <td>776.000000</td>\n",
       "      <td>776.000000</td>\n",
       "      <td>776.000000</td>\n",
       "      <td>776.0</td>\n",
       "      <td>776.000000</td>\n",
       "      <td>776.000000</td>\n",
       "    </tr>\n",
       "    <tr>\n",
       "      <th>mean</th>\n",
       "      <td>20.184536</td>\n",
       "      <td>2.450194</td>\n",
       "      <td>0.351289</td>\n",
       "      <td>1.351029</td>\n",
       "      <td>10.799988</td>\n",
       "      <td>0.313144</td>\n",
       "      <td>6.334008</td>\n",
       "      <td>13.218481</td>\n",
       "      <td>5.067655</td>\n",
       "      <td>0.223711</td>\n",
       "      <td>...</td>\n",
       "      <td>0.519072</td>\n",
       "      <td>0.104381</td>\n",
       "      <td>0.216753</td>\n",
       "      <td>0.053608</td>\n",
       "      <td>2.702577</td>\n",
       "      <td>17.680612</td>\n",
       "      <td>0.572680</td>\n",
       "      <td>0.5</td>\n",
       "      <td>7.168158</td>\n",
       "      <td>0.393041</td>\n",
       "    </tr>\n",
       "    <tr>\n",
       "      <th>std</th>\n",
       "      <td>24.319017</td>\n",
       "      <td>5.678870</td>\n",
       "      <td>0.174055</td>\n",
       "      <td>3.440447</td>\n",
       "      <td>50.083624</td>\n",
       "      <td>0.169804</td>\n",
       "      <td>30.072845</td>\n",
       "      <td>51.312829</td>\n",
       "      <td>0.264449</td>\n",
       "      <td>0.080352</td>\n",
       "      <td>...</td>\n",
       "      <td>0.290312</td>\n",
       "      <td>0.531031</td>\n",
       "      <td>0.067987</td>\n",
       "      <td>0.305835</td>\n",
       "      <td>0.858923</td>\n",
       "      <td>54.740244</td>\n",
       "      <td>0.444581</td>\n",
       "      <td>0.0</td>\n",
       "      <td>38.667494</td>\n",
       "      <td>0.488741</td>\n",
       "    </tr>\n",
       "    <tr>\n",
       "      <th>min</th>\n",
       "      <td>1.850000</td>\n",
       "      <td>0.000000</td>\n",
       "      <td>0.200000</td>\n",
       "      <td>0.000000</td>\n",
       "      <td>0.000000</td>\n",
       "      <td>0.200000</td>\n",
       "      <td>0.000000</td>\n",
       "      <td>0.000000</td>\n",
       "      <td>5.000000</td>\n",
       "      <td>0.200000</td>\n",
       "      <td>...</td>\n",
       "      <td>0.400000</td>\n",
       "      <td>0.000000</td>\n",
       "      <td>0.200000</td>\n",
       "      <td>0.000000</td>\n",
       "      <td>2.000000</td>\n",
       "      <td>1.400000</td>\n",
       "      <td>0.400000</td>\n",
       "      <td>0.5</td>\n",
       "      <td>0.280000</td>\n",
       "      <td>0.000000</td>\n",
       "    </tr>\n",
       "    <tr>\n",
       "      <th>25%</th>\n",
       "      <td>2.370000</td>\n",
       "      <td>0.210000</td>\n",
       "      <td>0.200000</td>\n",
       "      <td>0.042000</td>\n",
       "      <td>0.000000</td>\n",
       "      <td>0.200000</td>\n",
       "      <td>0.000000</td>\n",
       "      <td>0.537500</td>\n",
       "      <td>5.000000</td>\n",
       "      <td>0.200000</td>\n",
       "      <td>...</td>\n",
       "      <td>0.400000</td>\n",
       "      <td>0.000000</td>\n",
       "      <td>0.200000</td>\n",
       "      <td>0.000000</td>\n",
       "      <td>2.000000</td>\n",
       "      <td>1.583500</td>\n",
       "      <td>0.400000</td>\n",
       "      <td>0.5</td>\n",
       "      <td>0.316700</td>\n",
       "      <td>0.000000</td>\n",
       "    </tr>\n",
       "    <tr>\n",
       "      <th>50%</th>\n",
       "      <td>3.890000</td>\n",
       "      <td>0.875000</td>\n",
       "      <td>0.200000</td>\n",
       "      <td>0.175000</td>\n",
       "      <td>0.405000</td>\n",
       "      <td>0.200000</td>\n",
       "      <td>0.081000</td>\n",
       "      <td>1.370000</td>\n",
       "      <td>5.000000</td>\n",
       "      <td>0.200000</td>\n",
       "      <td>...</td>\n",
       "      <td>0.400000</td>\n",
       "      <td>0.000000</td>\n",
       "      <td>0.200000</td>\n",
       "      <td>0.000000</td>\n",
       "      <td>2.400000</td>\n",
       "      <td>2.214000</td>\n",
       "      <td>0.400000</td>\n",
       "      <td>0.5</td>\n",
       "      <td>0.555600</td>\n",
       "      <td>0.000000</td>\n",
       "    </tr>\n",
       "    <tr>\n",
       "      <th>75%</th>\n",
       "      <td>55.570000</td>\n",
       "      <td>2.480000</td>\n",
       "      <td>0.600000</td>\n",
       "      <td>1.488000</td>\n",
       "      <td>4.160000</td>\n",
       "      <td>0.400000</td>\n",
       "      <td>1.840500</td>\n",
       "      <td>7.707500</td>\n",
       "      <td>5.000000</td>\n",
       "      <td>0.200000</td>\n",
       "      <td>...</td>\n",
       "      <td>0.400000</td>\n",
       "      <td>0.000000</td>\n",
       "      <td>0.200000</td>\n",
       "      <td>0.000000</td>\n",
       "      <td>3.250000</td>\n",
       "      <td>10.663500</td>\n",
       "      <td>0.400000</td>\n",
       "      <td>0.5</td>\n",
       "      <td>3.249900</td>\n",
       "      <td>1.000000</td>\n",
       "    </tr>\n",
       "    <tr>\n",
       "      <th>max</th>\n",
       "      <td>59.850000</td>\n",
       "      <td>85.000000</td>\n",
       "      <td>0.600000</td>\n",
       "      <td>51.000000</td>\n",
       "      <td>1264.630000</td>\n",
       "      <td>0.600000</td>\n",
       "      <td>758.778000</td>\n",
       "      <td>1268.910000</td>\n",
       "      <td>9.000000</td>\n",
       "      <td>0.600000</td>\n",
       "      <td>...</td>\n",
       "      <td>2.400000</td>\n",
       "      <td>9.000000</td>\n",
       "      <td>0.600000</td>\n",
       "      <td>5.400000</td>\n",
       "      <td>5.200000</td>\n",
       "      <td>801.262000</td>\n",
       "      <td>5.800000</td>\n",
       "      <td>0.5</td>\n",
       "      <td>961.514400</td>\n",
       "      <td>1.000000</td>\n",
       "    </tr>\n",
       "  </tbody>\n",
       "</table>\n",
       "<p>8 rows × 26 columns</p>\n",
       "</div>"
      ],
      "text/plain": [
       "       Sector_score      PARA_A     Score_A      Risk_A       PARA_B  \\\n",
       "count    776.000000  776.000000  776.000000  776.000000   776.000000   \n",
       "mean      20.184536    2.450194    0.351289    1.351029    10.799988   \n",
       "std       24.319017    5.678870    0.174055    3.440447    50.083624   \n",
       "min        1.850000    0.000000    0.200000    0.000000     0.000000   \n",
       "25%        2.370000    0.210000    0.200000    0.042000     0.000000   \n",
       "50%        3.890000    0.875000    0.200000    0.175000     0.405000   \n",
       "75%       55.570000    2.480000    0.600000    1.488000     4.160000   \n",
       "max       59.850000   85.000000    0.600000   51.000000  1264.630000   \n",
       "\n",
       "          Score_B      Risk_B        TOTAL     numbers   Score_B.1  \\\n",
       "count  776.000000  776.000000   776.000000  776.000000  776.000000   \n",
       "mean     0.313144    6.334008    13.218481    5.067655    0.223711   \n",
       "std      0.169804   30.072845    51.312829    0.264449    0.080352   \n",
       "min      0.200000    0.000000     0.000000    5.000000    0.200000   \n",
       "25%      0.200000    0.000000     0.537500    5.000000    0.200000   \n",
       "50%      0.200000    0.081000     1.370000    5.000000    0.200000   \n",
       "75%      0.400000    1.840500     7.707500    5.000000    0.200000   \n",
       "max      0.600000  758.778000  1268.910000    9.000000    0.600000   \n",
       "\n",
       "          ...          RiSk_E     History        Prob      Risk_F       Score  \\\n",
       "count     ...      776.000000  776.000000  776.000000  776.000000  776.000000   \n",
       "mean      ...        0.519072    0.104381    0.216753    0.053608    2.702577   \n",
       "std       ...        0.290312    0.531031    0.067987    0.305835    0.858923   \n",
       "min       ...        0.400000    0.000000    0.200000    0.000000    2.000000   \n",
       "25%       ...        0.400000    0.000000    0.200000    0.000000    2.000000   \n",
       "50%       ...        0.400000    0.000000    0.200000    0.000000    2.400000   \n",
       "75%       ...        0.400000    0.000000    0.200000    0.000000    3.250000   \n",
       "max       ...        2.400000    9.000000    0.600000    5.400000    5.200000   \n",
       "\n",
       "       Inherent_Risk  CONTROL_RISK  Detection_Risk  Audit_Risk        Risk  \n",
       "count     776.000000    776.000000           776.0  776.000000  776.000000  \n",
       "mean       17.680612      0.572680             0.5    7.168158    0.393041  \n",
       "std        54.740244      0.444581             0.0   38.667494    0.488741  \n",
       "min         1.400000      0.400000             0.5    0.280000    0.000000  \n",
       "25%         1.583500      0.400000             0.5    0.316700    0.000000  \n",
       "50%         2.214000      0.400000             0.5    0.555600    0.000000  \n",
       "75%        10.663500      0.400000             0.5    3.249900    1.000000  \n",
       "max       801.262000      5.800000             0.5  961.514400    1.000000  \n",
       "\n",
       "[8 rows x 26 columns]"
      ]
     },
     "execution_count": 5,
     "metadata": {},
     "output_type": "execute_result"
    }
   ],
   "source": [
    "audit_risk.describe()"
   ]
  },
  {
   "cell_type": "code",
   "execution_count": 6,
   "metadata": {},
   "outputs": [
    {
     "name": "stdout",
     "output_type": "stream",
     "text": [
      "<class 'pandas.core.frame.DataFrame'>\n",
      "RangeIndex: 776 entries, 0 to 775\n",
      "Data columns (total 18 columns):\n",
      "Sector_score     776 non-null float64\n",
      "LOCATION_ID      776 non-null object\n",
      "PARA_A           776 non-null float64\n",
      "SCORE_A          776 non-null int64\n",
      "PARA_B           776 non-null float64\n",
      "SCORE_B          776 non-null int64\n",
      "TOTAL            776 non-null float64\n",
      "numbers          776 non-null float64\n",
      "Marks            776 non-null int64\n",
      "Money_Value      775 non-null float64\n",
      "MONEY_Marks      776 non-null int64\n",
      "District         776 non-null int64\n",
      "Loss             776 non-null int64\n",
      "LOSS_SCORE       776 non-null int64\n",
      "History          776 non-null int64\n",
      "History_score    776 non-null int64\n",
      "Score            776 non-null float64\n",
      "Risk             776 non-null int64\n",
      "dtypes: float64(7), int64(10), object(1)\n",
      "memory usage: 109.2+ KB\n"
     ]
    }
   ],
   "source": [
    "trial.info() #No missing values but Location_ID is object; need to be fixed"
   ]
  },
  {
   "cell_type": "code",
   "execution_count": 7,
   "metadata": {},
   "outputs": [
    {
     "data": {
      "text/html": [
       "<div>\n",
       "<style scoped>\n",
       "    .dataframe tbody tr th:only-of-type {\n",
       "        vertical-align: middle;\n",
       "    }\n",
       "\n",
       "    .dataframe tbody tr th {\n",
       "        vertical-align: top;\n",
       "    }\n",
       "\n",
       "    .dataframe thead th {\n",
       "        text-align: right;\n",
       "    }\n",
       "</style>\n",
       "<table border=\"1\" class=\"dataframe\">\n",
       "  <thead>\n",
       "    <tr style=\"text-align: right;\">\n",
       "      <th></th>\n",
       "      <th>Sector_score</th>\n",
       "      <th>PARA_A</th>\n",
       "      <th>SCORE_A</th>\n",
       "      <th>PARA_B</th>\n",
       "      <th>SCORE_B</th>\n",
       "      <th>TOTAL</th>\n",
       "      <th>numbers</th>\n",
       "      <th>Marks</th>\n",
       "      <th>Money_Value</th>\n",
       "      <th>MONEY_Marks</th>\n",
       "      <th>District</th>\n",
       "      <th>Loss</th>\n",
       "      <th>LOSS_SCORE</th>\n",
       "      <th>History</th>\n",
       "      <th>History_score</th>\n",
       "      <th>Score</th>\n",
       "      <th>Risk</th>\n",
       "    </tr>\n",
       "  </thead>\n",
       "  <tbody>\n",
       "    <tr>\n",
       "      <th>count</th>\n",
       "      <td>776.000000</td>\n",
       "      <td>776.000000</td>\n",
       "      <td>776.000000</td>\n",
       "      <td>776.000000</td>\n",
       "      <td>776.000000</td>\n",
       "      <td>776.000000</td>\n",
       "      <td>776.000000</td>\n",
       "      <td>776.000000</td>\n",
       "      <td>775.000000</td>\n",
       "      <td>776.000000</td>\n",
       "      <td>776.000000</td>\n",
       "      <td>776.000000</td>\n",
       "      <td>776.000000</td>\n",
       "      <td>776.000000</td>\n",
       "      <td>776.000000</td>\n",
       "      <td>776.000000</td>\n",
       "      <td>776.000000</td>\n",
       "    </tr>\n",
       "    <tr>\n",
       "      <th>mean</th>\n",
       "      <td>20.184536</td>\n",
       "      <td>2.450194</td>\n",
       "      <td>3.512887</td>\n",
       "      <td>10.799988</td>\n",
       "      <td>3.131443</td>\n",
       "      <td>13.218481</td>\n",
       "      <td>5.067655</td>\n",
       "      <td>2.237113</td>\n",
       "      <td>14.137631</td>\n",
       "      <td>2.909794</td>\n",
       "      <td>2.505155</td>\n",
       "      <td>0.029639</td>\n",
       "      <td>2.061856</td>\n",
       "      <td>0.104381</td>\n",
       "      <td>2.167526</td>\n",
       "      <td>2.702577</td>\n",
       "      <td>0.626289</td>\n",
       "    </tr>\n",
       "    <tr>\n",
       "      <th>std</th>\n",
       "      <td>24.319017</td>\n",
       "      <td>5.678870</td>\n",
       "      <td>1.740549</td>\n",
       "      <td>50.083624</td>\n",
       "      <td>1.698042</td>\n",
       "      <td>51.312829</td>\n",
       "      <td>0.264449</td>\n",
       "      <td>0.803517</td>\n",
       "      <td>66.606519</td>\n",
       "      <td>1.597452</td>\n",
       "      <td>1.228678</td>\n",
       "      <td>0.184280</td>\n",
       "      <td>0.375080</td>\n",
       "      <td>0.531031</td>\n",
       "      <td>0.679869</td>\n",
       "      <td>0.858923</td>\n",
       "      <td>0.484100</td>\n",
       "    </tr>\n",
       "    <tr>\n",
       "      <th>min</th>\n",
       "      <td>1.850000</td>\n",
       "      <td>0.000000</td>\n",
       "      <td>2.000000</td>\n",
       "      <td>0.000000</td>\n",
       "      <td>2.000000</td>\n",
       "      <td>0.000000</td>\n",
       "      <td>5.000000</td>\n",
       "      <td>2.000000</td>\n",
       "      <td>0.000000</td>\n",
       "      <td>2.000000</td>\n",
       "      <td>2.000000</td>\n",
       "      <td>0.000000</td>\n",
       "      <td>2.000000</td>\n",
       "      <td>0.000000</td>\n",
       "      <td>2.000000</td>\n",
       "      <td>2.000000</td>\n",
       "      <td>0.000000</td>\n",
       "    </tr>\n",
       "    <tr>\n",
       "      <th>25%</th>\n",
       "      <td>2.370000</td>\n",
       "      <td>0.210000</td>\n",
       "      <td>2.000000</td>\n",
       "      <td>0.000000</td>\n",
       "      <td>2.000000</td>\n",
       "      <td>0.537500</td>\n",
       "      <td>5.000000</td>\n",
       "      <td>2.000000</td>\n",
       "      <td>0.000000</td>\n",
       "      <td>2.000000</td>\n",
       "      <td>2.000000</td>\n",
       "      <td>0.000000</td>\n",
       "      <td>2.000000</td>\n",
       "      <td>0.000000</td>\n",
       "      <td>2.000000</td>\n",
       "      <td>2.000000</td>\n",
       "      <td>0.000000</td>\n",
       "    </tr>\n",
       "    <tr>\n",
       "      <th>50%</th>\n",
       "      <td>3.890000</td>\n",
       "      <td>0.875000</td>\n",
       "      <td>2.000000</td>\n",
       "      <td>0.405000</td>\n",
       "      <td>2.000000</td>\n",
       "      <td>1.370000</td>\n",
       "      <td>5.000000</td>\n",
       "      <td>2.000000</td>\n",
       "      <td>0.090000</td>\n",
       "      <td>2.000000</td>\n",
       "      <td>2.000000</td>\n",
       "      <td>0.000000</td>\n",
       "      <td>2.000000</td>\n",
       "      <td>0.000000</td>\n",
       "      <td>2.000000</td>\n",
       "      <td>2.400000</td>\n",
       "      <td>1.000000</td>\n",
       "    </tr>\n",
       "    <tr>\n",
       "      <th>75%</th>\n",
       "      <td>55.570000</td>\n",
       "      <td>2.480000</td>\n",
       "      <td>6.000000</td>\n",
       "      <td>4.160000</td>\n",
       "      <td>4.000000</td>\n",
       "      <td>7.707500</td>\n",
       "      <td>5.000000</td>\n",
       "      <td>2.000000</td>\n",
       "      <td>5.595000</td>\n",
       "      <td>4.000000</td>\n",
       "      <td>2.000000</td>\n",
       "      <td>0.000000</td>\n",
       "      <td>2.000000</td>\n",
       "      <td>0.000000</td>\n",
       "      <td>2.000000</td>\n",
       "      <td>3.250000</td>\n",
       "      <td>1.000000</td>\n",
       "    </tr>\n",
       "    <tr>\n",
       "      <th>max</th>\n",
       "      <td>59.850000</td>\n",
       "      <td>85.000000</td>\n",
       "      <td>6.000000</td>\n",
       "      <td>1264.630000</td>\n",
       "      <td>6.000000</td>\n",
       "      <td>1268.910000</td>\n",
       "      <td>9.000000</td>\n",
       "      <td>6.000000</td>\n",
       "      <td>935.030000</td>\n",
       "      <td>6.000000</td>\n",
       "      <td>6.000000</td>\n",
       "      <td>2.000000</td>\n",
       "      <td>6.000000</td>\n",
       "      <td>9.000000</td>\n",
       "      <td>6.000000</td>\n",
       "      <td>5.200000</td>\n",
       "      <td>1.000000</td>\n",
       "    </tr>\n",
       "  </tbody>\n",
       "</table>\n",
       "</div>"
      ],
      "text/plain": [
       "       Sector_score      PARA_A     SCORE_A       PARA_B     SCORE_B  \\\n",
       "count    776.000000  776.000000  776.000000   776.000000  776.000000   \n",
       "mean      20.184536    2.450194    3.512887    10.799988    3.131443   \n",
       "std       24.319017    5.678870    1.740549    50.083624    1.698042   \n",
       "min        1.850000    0.000000    2.000000     0.000000    2.000000   \n",
       "25%        2.370000    0.210000    2.000000     0.000000    2.000000   \n",
       "50%        3.890000    0.875000    2.000000     0.405000    2.000000   \n",
       "75%       55.570000    2.480000    6.000000     4.160000    4.000000   \n",
       "max       59.850000   85.000000    6.000000  1264.630000    6.000000   \n",
       "\n",
       "             TOTAL     numbers       Marks  Money_Value  MONEY_Marks  \\\n",
       "count   776.000000  776.000000  776.000000   775.000000   776.000000   \n",
       "mean     13.218481    5.067655    2.237113    14.137631     2.909794   \n",
       "std      51.312829    0.264449    0.803517    66.606519     1.597452   \n",
       "min       0.000000    5.000000    2.000000     0.000000     2.000000   \n",
       "25%       0.537500    5.000000    2.000000     0.000000     2.000000   \n",
       "50%       1.370000    5.000000    2.000000     0.090000     2.000000   \n",
       "75%       7.707500    5.000000    2.000000     5.595000     4.000000   \n",
       "max    1268.910000    9.000000    6.000000   935.030000     6.000000   \n",
       "\n",
       "         District        Loss  LOSS_SCORE     History  History_score  \\\n",
       "count  776.000000  776.000000  776.000000  776.000000     776.000000   \n",
       "mean     2.505155    0.029639    2.061856    0.104381       2.167526   \n",
       "std      1.228678    0.184280    0.375080    0.531031       0.679869   \n",
       "min      2.000000    0.000000    2.000000    0.000000       2.000000   \n",
       "25%      2.000000    0.000000    2.000000    0.000000       2.000000   \n",
       "50%      2.000000    0.000000    2.000000    0.000000       2.000000   \n",
       "75%      2.000000    0.000000    2.000000    0.000000       2.000000   \n",
       "max      6.000000    2.000000    6.000000    9.000000       6.000000   \n",
       "\n",
       "            Score        Risk  \n",
       "count  776.000000  776.000000  \n",
       "mean     2.702577    0.626289  \n",
       "std      0.858923    0.484100  \n",
       "min      2.000000    0.000000  \n",
       "25%      2.000000    0.000000  \n",
       "50%      2.400000    1.000000  \n",
       "75%      3.250000    1.000000  \n",
       "max      5.200000    1.000000  "
      ]
     },
     "execution_count": 7,
     "metadata": {},
     "output_type": "execute_result"
    }
   ],
   "source": [
    "trial.describe()"
   ]
  },
  {
   "cell_type": "code",
   "execution_count": 8,
   "metadata": {},
   "outputs": [],
   "source": [
    "# Remove categorical values in the column of LOCATION_ID\n",
    "# Did not assign new values because they could be already one of the LOCATION_ID\n",
    "audit_risk = audit_risk[audit_risk.LOCATION_ID != 'LOHARU']\n",
    "audit_risk = audit_risk[audit_risk.LOCATION_ID != 'NUH']\n",
    "audit_risk = audit_risk[audit_risk.LOCATION_ID != 'SAFIDON']\n",
    "\n",
    "trial = trial[trial.LOCATION_ID != 'LOHARU']\n",
    "trial = trial[trial.LOCATION_ID != 'NUH']\n",
    "trial = trial[trial.LOCATION_ID != 'SAFIDON']"
   ]
  },
  {
   "cell_type": "code",
   "execution_count": 9,
   "metadata": {},
   "outputs": [],
   "source": [
    "# Changing dtype(object to integer)\n",
    "audit_risk['LOCATION_ID'] = pd.to_numeric(audit_risk['LOCATION_ID'])\n",
    "trial['LOCATION_ID'] = pd.to_numeric(trial['LOCATION_ID'])"
   ]
  },
  {
   "cell_type": "code",
   "execution_count": 10,
   "metadata": {},
   "outputs": [],
   "source": [
    "# Removing duplicated columns\n",
    "# We removed duplicated parameters with different scales in advance \n",
    "trial.drop(['Sector_score','LOCATION_ID','PARA_A','SCORE_A',\n",
    "            'PARA_B','SCORE_B','TOTAL','numbers','District','Money_Value','History','Score','Risk'], axis=1, inplace = True)"
   ]
  },
  {
   "cell_type": "code",
   "execution_count": 11,
   "metadata": {},
   "outputs": [
    {
     "name": "stdout",
     "output_type": "stream",
     "text": [
      "Money_Value       1\n",
      "Risk              0\n",
      "LOCATION_ID       0\n",
      "PARA_A            0\n",
      "Score_A           0\n",
      "Risk_A            0\n",
      "PARA_B            0\n",
      "Score_B           0\n",
      "Risk_B            0\n",
      "TOTAL             0\n",
      "numbers           0\n",
      "Score_B.1         0\n",
      "Risk_C            0\n",
      "Score_MV          0\n",
      "Audit_Risk        0\n",
      "Risk_D            0\n",
      "District_Loss     0\n",
      "PROB              0\n",
      "RiSk_E            0\n",
      "History           0\n",
      "Prob              0\n",
      "Risk_F            0\n",
      "Score             0\n",
      "Inherent_Risk     0\n",
      "CONTROL_RISK      0\n",
      "Detection_Risk    0\n",
      "Sector_score      0\n",
      "dtype: int64\n"
     ]
    }
   ],
   "source": [
    "# Dealing with missing values\n",
    "print(audit_risk.isnull().sum().sort_values(ascending = False))\n",
    "audit_risk['Money_Value'] = audit_risk.fillna(audit_risk['Money_Value'].mean())"
   ]
  },
  {
   "cell_type": "code",
   "execution_count": 12,
   "metadata": {},
   "outputs": [
    {
     "data": {
      "text/plain": [
       "History_score    0\n",
       "LOSS_SCORE       0\n",
       "Loss             0\n",
       "MONEY_Marks      0\n",
       "Marks            0\n",
       "dtype: int64"
      ]
     },
     "execution_count": 12,
     "metadata": {},
     "output_type": "execute_result"
    }
   ],
   "source": [
    "trial.isnull().sum().sort_values(ascending = False)"
   ]
  },
  {
   "cell_type": "code",
   "execution_count": 13,
   "metadata": {},
   "outputs": [
    {
     "name": "stdout",
     "output_type": "stream",
     "text": [
      "(773, 27)\n",
      "(773, 5)\n"
     ]
    }
   ],
   "source": [
    "# Checking the shape again \n",
    "print(audit_risk.shape)\n",
    "print(trial.shape)"
   ]
  },
  {
   "cell_type": "code",
   "execution_count": 14,
   "metadata": {},
   "outputs": [
    {
     "data": {
      "text/plain": [
       "(773, 32)"
      ]
     },
     "execution_count": 14,
     "metadata": {},
     "output_type": "execute_result"
    }
   ],
   "source": [
    "# Merging datasets\n",
    "df = pd.concat([audit_risk, trial], axis=1)\n",
    "df.shape"
   ]
  },
  {
   "cell_type": "code",
   "execution_count": 15,
   "metadata": {},
   "outputs": [
    {
     "name": "stdout",
     "output_type": "stream",
     "text": [
      "<class 'pandas.core.frame.DataFrame'>\n",
      "Int64Index: 773 entries, 0 to 775\n",
      "Data columns (total 32 columns):\n",
      "Sector_score      773 non-null float64\n",
      "LOCATION_ID       773 non-null int64\n",
      "PARA_A            773 non-null float64\n",
      "Score_A           773 non-null float64\n",
      "Risk_A            773 non-null float64\n",
      "PARA_B            773 non-null float64\n",
      "Score_B           773 non-null float64\n",
      "Risk_B            773 non-null float64\n",
      "TOTAL             773 non-null float64\n",
      "numbers           773 non-null float64\n",
      "Score_B.1         773 non-null float64\n",
      "Risk_C            773 non-null float64\n",
      "Money_Value       773 non-null float64\n",
      "Score_MV          773 non-null float64\n",
      "Risk_D            773 non-null float64\n",
      "District_Loss     773 non-null int64\n",
      "PROB              773 non-null float64\n",
      "RiSk_E            773 non-null float64\n",
      "History           773 non-null int64\n",
      "Prob              773 non-null float64\n",
      "Risk_F            773 non-null float64\n",
      "Score             773 non-null float64\n",
      "Inherent_Risk     773 non-null float64\n",
      "CONTROL_RISK      773 non-null float64\n",
      "Detection_Risk    773 non-null float64\n",
      "Audit_Risk        773 non-null float64\n",
      "Risk              773 non-null int64\n",
      "Marks             773 non-null int64\n",
      "MONEY_Marks       773 non-null int64\n",
      "Loss              773 non-null int64\n",
      "LOSS_SCORE        773 non-null int64\n",
      "History_score     773 non-null int64\n",
      "dtypes: float64(23), int64(9)\n",
      "memory usage: 199.3 KB\n"
     ]
    }
   ],
   "source": [
    "df.info()"
   ]
  },
  {
   "cell_type": "markdown",
   "metadata": {},
   "source": [
    "## Exploring & Scaling dataset"
   ]
  },
  {
   "cell_type": "code",
   "execution_count": 16,
   "metadata": {},
   "outputs": [
    {
     "data": {
      "text/plain": [
       "<matplotlib.axes._subplots.AxesSubplot at 0x258102d9d68>"
      ]
     },
     "execution_count": 16,
     "metadata": {},
     "output_type": "execute_result"
    },
    {
     "data": {
      "image/png": "[encoded data removed]",
      "text/plain": [
       "<Figure size 864x576 with 2 Axes>"
      ]
     },
     "metadata": {},
     "output_type": "display_data"
    }
   ],
   "source": [
    "#Exploring dataset - (1) Correlation within variables\n",
    "plt.figure(figsize=(12,8))\n",
    "sns.heatmap(df.drop(['Detection_Risk'], axis=1).corr(), cmap = 'coolwarm')"
   ]
  },
  {
   "cell_type": "code",
   "execution_count": 17,
   "metadata": {},
   "outputs": [
    {
     "data": {
      "text/html": [
       "<div>\n",
       "<style scoped>\n",
       "    .dataframe tbody tr th:only-of-type {\n",
       "        vertical-align: middle;\n",
       "    }\n",
       "\n",
       "    .dataframe tbody tr th {\n",
       "        vertical-align: top;\n",
       "    }\n",
       "\n",
       "    .dataframe thead th {\n",
       "        text-align: right;\n",
       "    }\n",
       "</style>\n",
       "<table border=\"1\" class=\"dataframe\">\n",
       "  <thead>\n",
       "    <tr style=\"text-align: right;\">\n",
       "      <th></th>\n",
       "      <th>Correlation</th>\n",
       "    </tr>\n",
       "  </thead>\n",
       "  <tbody>\n",
       "    <tr>\n",
       "      <th>TOTAL</th>\n",
       "      <td>0.888086</td>\n",
       "    </tr>\n",
       "    <tr>\n",
       "      <th>PARA_B</th>\n",
       "      <td>0.887780</td>\n",
       "    </tr>\n",
       "    <tr>\n",
       "      <th>Risk_B</th>\n",
       "      <td>0.887556</td>\n",
       "    </tr>\n",
       "    <tr>\n",
       "      <th>Inherent_Risk</th>\n",
       "      <td>0.750873</td>\n",
       "    </tr>\n",
       "    <tr>\n",
       "      <th>History_score</th>\n",
       "      <td>0.431217</td>\n",
       "    </tr>\n",
       "    <tr>\n",
       "      <th>Prob</th>\n",
       "      <td>0.431217</td>\n",
       "    </tr>\n",
       "    <tr>\n",
       "      <th>CONTROL_RISK</th>\n",
       "      <td>0.357872</td>\n",
       "    </tr>\n",
       "    <tr>\n",
       "      <th>Risk_D</th>\n",
       "      <td>0.334091</td>\n",
       "    </tr>\n",
       "    <tr>\n",
       "      <th>Score</th>\n",
       "      <td>0.332883</td>\n",
       "    </tr>\n",
       "    <tr>\n",
       "      <th>History</th>\n",
       "      <td>0.329682</td>\n",
       "    </tr>\n",
       "    <tr>\n",
       "      <th>Risk_F</th>\n",
       "      <td>0.327669</td>\n",
       "    </tr>\n",
       "    <tr>\n",
       "      <th>MONEY_Marks</th>\n",
       "      <td>0.291531</td>\n",
       "    </tr>\n",
       "    <tr>\n",
       "      <th>Score_MV</th>\n",
       "      <td>0.291531</td>\n",
       "    </tr>\n",
       "    <tr>\n",
       "      <th>Marks</th>\n",
       "      <td>0.259593</td>\n",
       "    </tr>\n",
       "    <tr>\n",
       "      <th>Score_B.1</th>\n",
       "      <td>0.259593</td>\n",
       "    </tr>\n",
       "    <tr>\n",
       "      <th>Risk_C</th>\n",
       "      <td>0.249884</td>\n",
       "    </tr>\n",
       "    <tr>\n",
       "      <th>Risk_A</th>\n",
       "      <td>0.221400</td>\n",
       "    </tr>\n",
       "    <tr>\n",
       "      <th>numbers</th>\n",
       "      <td>0.221326</td>\n",
       "    </tr>\n",
       "    <tr>\n",
       "      <th>PARA_A</th>\n",
       "      <td>0.219582</td>\n",
       "    </tr>\n",
       "    <tr>\n",
       "      <th>Risk</th>\n",
       "      <td>0.216845</td>\n",
       "    </tr>\n",
       "    <tr>\n",
       "      <th>Score_B</th>\n",
       "      <td>0.207708</td>\n",
       "    </tr>\n",
       "    <tr>\n",
       "      <th>RiSk_E</th>\n",
       "      <td>0.202779</td>\n",
       "    </tr>\n",
       "    <tr>\n",
       "      <th>Score_A</th>\n",
       "      <td>0.201556</td>\n",
       "    </tr>\n",
       "    <tr>\n",
       "      <th>District_Loss</th>\n",
       "      <td>0.199220</td>\n",
       "    </tr>\n",
       "    <tr>\n",
       "      <th>LOSS_SCORE</th>\n",
       "      <td>0.073724</td>\n",
       "    </tr>\n",
       "    <tr>\n",
       "      <th>PROB</th>\n",
       "      <td>0.073724</td>\n",
       "    </tr>\n",
       "    <tr>\n",
       "      <th>Loss</th>\n",
       "      <td>0.049199</td>\n",
       "    </tr>\n",
       "    <tr>\n",
       "      <th>LOCATION_ID</th>\n",
       "      <td>-0.085276</td>\n",
       "    </tr>\n",
       "    <tr>\n",
       "      <th>Money_Value</th>\n",
       "      <td>-0.092576</td>\n",
       "    </tr>\n",
       "    <tr>\n",
       "      <th>Sector_score</th>\n",
       "      <td>-0.092576</td>\n",
       "    </tr>\n",
       "  </tbody>\n",
       "</table>\n",
       "</div>"
      ],
      "text/plain": [
       "               Correlation\n",
       "TOTAL             0.888086\n",
       "PARA_B            0.887780\n",
       "Risk_B            0.887556\n",
       "Inherent_Risk     0.750873\n",
       "History_score     0.431217\n",
       "Prob              0.431217\n",
       "CONTROL_RISK      0.357872\n",
       "Risk_D            0.334091\n",
       "Score             0.332883\n",
       "History           0.329682\n",
       "Risk_F            0.327669\n",
       "MONEY_Marks       0.291531\n",
       "Score_MV          0.291531\n",
       "Marks             0.259593\n",
       "Score_B.1         0.259593\n",
       "Risk_C            0.249884\n",
       "Risk_A            0.221400\n",
       "numbers           0.221326\n",
       "PARA_A            0.219582\n",
       "Risk              0.216845\n",
       "Score_B           0.207708\n",
       "RiSk_E            0.202779\n",
       "Score_A           0.201556\n",
       "District_Loss     0.199220\n",
       "LOSS_SCORE        0.073724\n",
       "PROB              0.073724\n",
       "Loss              0.049199\n",
       "LOCATION_ID      -0.085276\n",
       "Money_Value      -0.092576\n",
       "Sector_score     -0.092576"
      ]
     },
     "execution_count": 17,
     "metadata": {},
     "output_type": "execute_result"
    }
   ],
   "source": [
    "# Correlation with target variables\n",
    "cor = pd.DataFrame(df.drop(\"Audit_Risk\", axis=1).apply(lambda x: x.corr(df.Audit_Risk)).sort_values(ascending = False)).rename(columns = {0:'Correlation'})\n",
    "cor.dropna()"
   ]
  },
  {
   "cell_type": "code",
   "execution_count": 18,
   "metadata": {},
   "outputs": [],
   "source": [
    "from sklearn.preprocessing import MinMaxScaler # Used MinMaxScaler\n",
    "reg_data = df.drop(['Audit_Risk','Risk'], axis=1)\n",
    "reg_target = df['Audit_Risk']"
   ]
  },
  {
   "cell_type": "code",
   "execution_count": 19,
   "metadata": {},
   "outputs": [],
   "source": [
    "# Splitting training and test data\n",
    "from sklearn.model_selection import train_test_split\n",
    "X_train_org, X_test_org, y_train, y_test = train_test_split(reg_data, reg_target, random_state=0)\n",
    "\n",
    "# Scaling data\n",
    "scaler = MinMaxScaler()\n",
    "X_train = scaler.fit_transform(X_train_org)\n",
    "X_test = scaler.transform(X_test_org)"
   ]
  },
  {
   "cell_type": "markdown",
   "metadata": {},
   "source": [
    "# Regression Task "
   ]
  },
  {
   "cell_type": "markdown",
   "metadata": {},
   "source": [
    "## (1) Two models with bagging and pasting"
   ]
  },
  {
   "cell_type": "code",
   "execution_count": 20,
   "metadata": {},
   "outputs": [],
   "source": [
    "#importing models\n",
    "from sklearn.linear_model import LinearRegression, Lasso\n",
    "from sklearn.ensemble import BaggingRegressor"
   ]
  },
  {
   "cell_type": "code",
   "execution_count": 21,
   "metadata": {},
   "outputs": [
    {
     "name": "stdout",
     "output_type": "stream",
     "text": [
      "(1) Linear Regression\n",
      "\n",
      "Bagging\n",
      "Train Score: 0.825529\n",
      "Test Score: 0.525339\n",
      "\n",
      "Pasting\n",
      "Train Score: 0.854711\n",
      "Test Score: 0.518959\n"
     ]
    }
   ],
   "source": [
    "#Linear Regression\n",
    "print('(1) Linear Regression')\n",
    "print()\n",
    "\n",
    "lreg = LinearRegression()\n",
    "\n",
    "lreg_bag = BaggingRegressor(lreg, bootstrap=True, n_jobs=-1, random_state=0)\n",
    "lreg_bag.fit(X_train, y_train)\n",
    "print(\"Bagging\")\n",
    "print(\"Train Score: {:4f}\".format(lreg_bag.score(X_train, y_train)))\n",
    "print(\"Test Score: {:4f}\".format(lreg_bag.score(X_test, y_test)))\n",
    "print()\n",
    "\n",
    "lreg_pas = BaggingRegressor(lreg, bootstrap=False, n_jobs=-1, random_state=0)\n",
    "lreg_pas.fit(X_train, y_train)\n",
    "print(\"Pasting\")\n",
    "print(\"Train Score: {:4f}\".format(lreg_pas.score(X_train, y_train)))\n",
    "print(\"Test Score: {:4f}\".format(lreg_pas.score(X_test, y_test)))"
   ]
  },
  {
   "cell_type": "code",
   "execution_count": 22,
   "metadata": {},
   "outputs": [
    {
     "name": "stdout",
     "output_type": "stream",
     "text": [
      "(2) Lasso Regression\n",
      "\n",
      "Bagging\n",
      "Train Score: 0.335160\n",
      "Test Score: 0.079369\n",
      "\n",
      "Pasting\n",
      "Train Score: 0.331951\n",
      "Test Score: 0.065304\n"
     ]
    }
   ],
   "source": [
    "#LASSO Regression\n",
    "print('(2) Lasso Regression')\n",
    "print()\n",
    "\n",
    "lasso = Lasso(alpha=1.0) #the best parameter alpha=1.0\n",
    "lasso_bag = BaggingRegressor(lasso, bootstrap=True, n_jobs=-1, random_state=0)\n",
    "lasso_bag.fit(X_train, y_train)\n",
    "print(\"Bagging\")\n",
    "print(\"Train Score: {:4f}\".format(lasso_bag.score(X_train, y_train)))\n",
    "print(\"Test Score: {:4f}\".format(lasso_bag.score(X_test, y_test)))\n",
    "print()\n",
    "\n",
    "print(\"Pasting\")\n",
    "lasso_pas = BaggingRegressor(lasso, bootstrap=False, n_jobs=-1, random_state=0)\n",
    "lasso_pas.fit(X_train, y_train)\n",
    "print(\"Train Score: {:4f}\".format(lasso_pas.score(X_train, y_train)))\n",
    "print(\"Test Score: {:4f}\".format(lasso_pas.score(X_test, y_test)))"
   ]
  },
  {
   "cell_type": "code",
   "execution_count": 23,
   "metadata": {},
   "outputs": [
    {
     "name": "stdout",
     "output_type": "stream",
     "text": [
      "(3) KNN Regression\n",
      "\n",
      "Bagging\n",
      "Train Score: 0.335160\n",
      "Test Score: 0.079369\n",
      "\n",
      "Pasting\n",
      "Train Score: 0.756169\n",
      "Test Score: 0.178808\n"
     ]
    }
   ],
   "source": [
    "#KNN Regression\n",
    "print('(3) KNN Regression')\n",
    "print()\n",
    "\n",
    "from sklearn.neighbors import KNeighborsRegressor\n",
    "from sklearn.model_selection import GridSearchCV\n",
    "\n",
    "knn_reg = KNeighborsRegressor(3)  #the best parameter n=3\n",
    "knn_reg.fit(X_train, y_train)\n",
    "knn_bag = BaggingRegressor(knn_reg, bootstrap=True, n_jobs=-1, random_state=0)\n",
    "lasso_bag.fit(X_train, y_train)\n",
    "print(\"Bagging\")\n",
    "print(\"Train Score: {:4f}\".format(lasso_bag.score(X_train, y_train)))\n",
    "print(\"Test Score: {:4f}\".format(lasso_bag.score(X_test, y_test)))\n",
    "print()\n",
    "\n",
    "print(\"Pasting\")\n",
    "lasso_pas = BaggingRegressor(knn_reg, bootstrap=False, n_jobs=-1, random_state=0)\n",
    "lasso_pas.fit(X_train, y_train)\n",
    "print(\"Train Score: {:4f}\".format(lasso_pas.score(X_train, y_train)))\n",
    "print(\"Test Score: {:4f}\".format(lasso_pas.score(X_test, y_test)))"
   ]
  },
  {
   "cell_type": "markdown",
   "metadata": {},
   "source": [
    "## (2) Two models with Adaboost boosting"
   ]
  },
  {
   "cell_type": "code",
   "execution_count": 24,
   "metadata": {},
   "outputs": [
    {
     "name": "stdout",
     "output_type": "stream",
     "text": [
      "(1) Linear Regression\n",
      "\n",
      "Best Parameter: {'learning_rate': 0.1, 'n_estimators': 10}\n",
      "Train Score: 0.861234\n",
      "Test Score: 0.575278\n",
      "\n"
     ]
    }
   ],
   "source": [
    "from sklearn.ensemble import AdaBoostRegressor\n",
    "\n",
    "#Linear Regression\n",
    "print('(1) Linear Regression')\n",
    "print()\n",
    "\n",
    "param_grid = { 'n_estimators': [10, 50, 100],\n",
    "              'learning_rate' : [0.1,0.5,1] }\n",
    "ada_grid = GridSearchCV(AdaBoostRegressor(LinearRegression()), \n",
    "                        param_grid,n_jobs=-1)\n",
    "ada_grid.fit(X_train, y_train)\n",
    "print('Best Parameter: {}'.format(ada_grid.best_params_))\n",
    "\n",
    "ada_reg = AdaBoostRegressor(LinearRegression(), learning_rate=0.1, n_estimators=10)\n",
    "ada_reg.fit(X_train, y_train)\n",
    "print(\"Train Score: {:4f}\".format(ada_reg.score(X_train, y_train)))\n",
    "print(\"Test Score: {:4f}\".format(ada_reg.score(X_test, y_test)))\n",
    "print()\n"
   ]
  },
  {
   "cell_type": "code",
   "execution_count": 25,
   "metadata": {},
   "outputs": [
    {
     "name": "stdout",
     "output_type": "stream",
     "text": [
      "(2) LASSO Regression\n",
      "\n",
      "Best Parameter: {'learning_rate': 1, 'n_estimators': 10}\n",
      "Train Score: 0.658038\n",
      "Test Score: 0.240431\n",
      "\n"
     ]
    }
   ],
   "source": [
    "from sklearn.ensemble import AdaBoostRegressor\n",
    "\n",
    "#Linear Regression\n",
    "print('(2) LASSO Regression')\n",
    "print()\n",
    "\n",
    "param_grid = { 'n_estimators': [10, 50, 100],\n",
    "              'learning_rate' : [0.1,0.5,1] }\n",
    "ada_grid = GridSearchCV(AdaBoostRegressor(Lasso(alpha=1.0)), \n",
    "                        param_grid,n_jobs=-1)\n",
    "ada_grid.fit(X_train, y_train)\n",
    "print('Best Parameter: {}'.format(ada_grid.best_params_))\n",
    "\n",
    "ada_reg = AdaBoostRegressor(Lasso(alpha=1.0), learning_rate=0.1, n_estimators=50)\n",
    "ada_reg.fit(X_train, y_train)\n",
    "print(\"Train Score: {:4f}\".format(ada_reg.score(X_train, y_train)))\n",
    "print(\"Test Score: {:4f}\".format(ada_reg.score(X_test, y_test)))\n",
    "print()\n"
   ]
  },
  {
   "cell_type": "markdown",
   "metadata": {},
   "source": [
    "## (3) One model with Gradient boosting\n"
   ]
  },
  {
   "cell_type": "code",
   "execution_count": 26,
   "metadata": {},
   "outputs": [
    {
     "name": "stdout",
     "output_type": "stream",
     "text": [
      "(1) Gradient Boosted Regression Trees\n",
      "\n",
      "Best Parameter: {'learning_rate': 0.5, 'max_depth': 10, 'n_estimators': 8, 'subsample': 0.5}\n",
      "Train Score: 0.999957\n",
      "Test Score: 0.289579\n",
      "Mean Squared Error: 3530.585249\n"
     ]
    }
   ],
   "source": [
    "from sklearn.ensemble import GradientBoostingRegressor\n",
    "\n",
    "#Linear Regression\n",
    "print('(1) Gradient Boosted Regression Trees')\n",
    "print()\n",
    "\n",
    "param_grid = {\n",
    "    \"learning_rate\": [0.01, 0.05, 0.1, 0.5],\n",
    "    \"max_depth\":[3,5,8, 10],\n",
    "    \"subsample\":[0.5, 0.75, 1.0],\n",
    "    \"n_estimators\":[3, 5, 8, 10]\n",
    "    }\n",
    "\n",
    "gbr_grid = GridSearchCV(GradientBoostingRegressor(),  \n",
    "                        param_grid,n_jobs=-1)\n",
    "gbr_grid.fit(X_train, y_train)\n",
    "print('Best Parameter: {}'.format(gbr_grid.best_params_))\n",
    "\n",
    "\n",
    "gbr = GradientBoostingRegressor(learning_rate=0.5, max_depth=8, n_estimators=10, subsample=0.75, random_state=0)\n",
    "gbr.fit(X_train, y_train)\n",
    "y_pred = gbr.predict(X_test)\n",
    "\n",
    "from sklearn.metrics import mean_squared_error\n",
    "mse = mean_squared_error(y_test, y_pred)\n",
    "print(\"Train Score: {:4f}\".format(gbr.score(X_train, y_train)))\n",
    "print(\"Test Score: {:4f}\".format(gbr.score(X_test, y_test)))\n",
    "print(\"Mean Squared Error: {:4f}\".format(mse))\n"
   ]
  },
  {
   "cell_type": "markdown",
   "metadata": {},
   "source": [
    "### (4) PCA "
   ]
  },
  {
   "cell_type": "code",
   "execution_count": 27,
   "metadata": {},
   "outputs": [],
   "source": [
    "# Splitting training and test data\n",
    "from sklearn.model_selection import train_test_split\n",
    "X_train_org, X_test_org, y_train, y_test = train_test_split(reg_data, reg_target, random_state=0)\n",
    "\n",
    "# Scaling data\n",
    "scaler = MinMaxScaler()\n",
    "X_train = scaler.fit_transform(X_train_org)\n",
    "X_test = scaler.transform(X_test_org)\n",
    "\n",
    "# Dimension Reduction\n",
    "from sklearn.decomposition import PCA\n",
    "pca = PCA(n_components= 0.95)\n",
    "X_reduced_train = pca.fit_transform(X_train)\n",
    "X_reduced_test = pca.transform(X_test)"
   ]
  },
  {
   "cell_type": "code",
   "execution_count": 28,
   "metadata": {},
   "outputs": [
    {
     "name": "stdout",
     "output_type": "stream",
     "text": [
      "Number of dimensions: 8\n",
      "Explained Variance Ratio: 0.04320262807034925\n"
     ]
    }
   ],
   "source": [
    "print('Number of dimensions:', pca.n_components_) \n",
    "print('Explained Variance Ratio:',1- pca.explained_variance_ratio_.sum())"
   ]
  },
  {
   "cell_type": "code",
   "execution_count": 29,
   "metadata": {},
   "outputs": [
    {
     "name": "stdout",
     "output_type": "stream",
     "text": [
      "cv=5\n",
      "Best parameters: {'fit_intercept': True, 'normalize': False}\n",
      "Best cross-validation score: 0.30\n",
      "\n"
     ]
    },
    {
     "name": "stderr",
     "output_type": "stream",
     "text": [
      "C:\\Users\\josep\\Anaconda3\\lib\\site-packages\\sklearn\\model_selection\\_search.py:841: DeprecationWarning: The default of the `iid` parameter will change from True to False in version 0.22 and will be removed in 0.24. This will change numeric results when test-set sizes are unequal.\n",
      "  DeprecationWarning)\n"
     ]
    }
   ],
   "source": [
    "#(1) Linear Regression\n",
    "\n",
    "lreg = LinearRegression()\n",
    "param_grid = {'fit_intercept':[True,False], 'normalize':[True,False]}\n",
    "\n",
    "#cv =5\n",
    "grid = GridSearchCV(lreg, param_grid, cv=5, return_train_score=True, n_jobs = -1)\n",
    "grid.fit(X_reduced_train, y_train)\n",
    "print('cv=5')\n",
    "print(\"Best parameters: {}\".format(grid.best_params_))\n",
    "print(\"Best cross-validation score: {:.2f}\".format(grid.best_score_))\n",
    "print()\n"
   ]
  },
  {
   "cell_type": "code",
   "execution_count": 30,
   "metadata": {},
   "outputs": [
    {
     "name": "stdout",
     "output_type": "stream",
     "text": [
      "Linear Regression - Train Score: 0.23\n",
      "Linear Regression - Test Score: 0.23 \n"
     ]
    }
   ],
   "source": [
    "lreg_accuracy_train = grid.best_estimator_.score(X_reduced_test, y_test)\n",
    "lreg_accuracy_test = grid.best_estimator_.score(X_reduced_test, y_test)\n",
    "\n",
    "print('Linear Regression - Train Score: %.2f'%lreg_accuracy_train)\n",
    "print('Linear Regression - Test Score: %.2f '%lreg_accuracy_test)"
   ]
  },
  {
   "cell_type": "code",
   "execution_count": 31,
   "metadata": {},
   "outputs": [],
   "source": [
    "report_table = [['Linear Regression', '',\n",
    "                 grid.best_estimator_.score(X_reduced_train, y_train), \n",
    "                 grid.best_estimator_.score(X_reduced_test, y_test)]]"
   ]
  },
  {
   "cell_type": "code",
   "execution_count": 32,
   "metadata": {},
   "outputs": [
    {
     "name": "stderr",
     "output_type": "stream",
     "text": [
      "C:\\Users\\josep\\Anaconda3\\lib\\site-packages\\sklearn\\model_selection\\_search.py:841: DeprecationWarning: The default of the `iid` parameter will change from True to False in version 0.22 and will be removed in 0.24. This will change numeric results when test-set sizes are unequal.\n",
      "  DeprecationWarning)\n"
     ]
    },
    {
     "name": "stdout",
     "output_type": "stream",
     "text": [
      "cv=5\n",
      "Best parameters: {'alpha': 100}\n",
      "Best cross-validation score: 0.42\n",
      "\n"
     ]
    }
   ],
   "source": [
    "#(2) Ridge Regression\n",
    "from sklearn.linear_model import Ridge\n",
    "param_grid = {'alpha': [0.0001, 0.001, 0.01, 0.1, 1, 10, 100, 1000]}\n",
    "\n",
    "# create and fit a ridge regression model, testing each alpha\n",
    "# cv = 5\n",
    "model = Ridge(random_state=0)\n",
    "grid = GridSearchCV(model, param_grid, cv = 5)\n",
    "grid.fit(X_reduced_train, y_train)\n",
    "# summarize the results of the grid search\n",
    "print('cv=5')\n",
    "print(\"Best parameters: {}\".format(grid.best_params_))\n",
    "print(\"Best cross-validation score: {:.2f}\".format(grid.best_score_))\n",
    "print()\n"
   ]
  },
  {
   "cell_type": "code",
   "execution_count": 33,
   "metadata": {},
   "outputs": [
    {
     "name": "stdout",
     "output_type": "stream",
     "text": [
      "Ridge Regression - Train Score: 0.39\n",
      "Ridge Regression - Test Score: 0.14 \n"
     ]
    }
   ],
   "source": [
    "ridge_accuracy_train = grid.best_estimator_.score(X_reduced_train, y_train)\n",
    "ridge_accuracy_test = grid.best_estimator_.score(X_reduced_test, y_test)\n",
    "\n",
    "print('Ridge Regression - Train Score: %.2f'%ridge_accuracy_train)\n",
    "print('Ridge Regression - Test Score: %.2f '%ridge_accuracy_test)"
   ]
  },
  {
   "cell_type": "code",
   "execution_count": 34,
   "metadata": {},
   "outputs": [],
   "source": [
    "report_table = report_table + [['Ridge', 'alpha = 100', \n",
    "                                grid.best_estimator_.score(X_reduced_train, y_train), \n",
    "                                grid.best_estimator_.score(X_reduced_test, y_test)]]"
   ]
  },
  {
   "cell_type": "code",
   "execution_count": 35,
   "metadata": {},
   "outputs": [
    {
     "name": "stderr",
     "output_type": "stream",
     "text": [
      "C:\\Users\\josep\\Anaconda3\\lib\\site-packages\\sklearn\\model_selection\\_search.py:841: DeprecationWarning: The default of the `iid` parameter will change from True to False in version 0.22 and will be removed in 0.24. This will change numeric results when test-set sizes are unequal.\n",
      "  DeprecationWarning)\n"
     ]
    },
    {
     "name": "stdout",
     "output_type": "stream",
     "text": [
      "cv=5\n",
      "Best parameters: {'alpha': 1}\n",
      "Best cross-validation score: 0.39\n",
      "\n"
     ]
    }
   ],
   "source": [
    "#(3) LASSO\n",
    "from sklearn.linear_model import Lasso\n",
    "param_grid = {\n",
    "    'alpha': [0.0001, 0.001, 0.01, 0.1, 1, 10, 100, 1000]\n",
    "}\n",
    "\n",
    "# create and fit a ridge regression model, testing each alpha\n",
    "# cv = 5\n",
    "model = Lasso(random_state=0)\n",
    "grid = GridSearchCV(model, param_grid, cv = 5)\n",
    "grid.fit(X_reduced_train, y_train)\n",
    "# summarize the results of the grid search\n",
    "print('cv=5')\n",
    "print(\"Best parameters: {}\".format(grid.best_params_))\n",
    "print(\"Best cross-validation score: {:.2f}\".format(grid.best_score_))\n",
    "print()\n"
   ]
  },
  {
   "cell_type": "code",
   "execution_count": 36,
   "metadata": {},
   "outputs": [
    {
     "name": "stdout",
     "output_type": "stream",
     "text": [
      "Lasso Regression - Train Score: 0.36\n",
      "Lasso Regression - Test Score: 0.14 \n"
     ]
    }
   ],
   "source": [
    "lasso_accuracy_train = grid.best_estimator_.score(X_reduced_train, y_train)\n",
    "lasso_accuracy_test = grid.best_estimator_.score(X_reduced_test, y_test)\n",
    "\n",
    "print('Lasso Regression - Train Score: %.2f'%lasso_accuracy_train)\n",
    "print('Lasso Regression - Test Score: %.2f '%lasso_accuracy_test)"
   ]
  },
  {
   "cell_type": "code",
   "execution_count": 37,
   "metadata": {},
   "outputs": [],
   "source": [
    "report_table = report_table + [['Lasso', 'alpha = 1.0', \n",
    "                                grid.best_estimator_.score(X_reduced_train, y_train), \n",
    "                                grid.best_estimator_.score(X_reduced_test, y_test)]]"
   ]
  },
  {
   "cell_type": "code",
   "execution_count": 38,
   "metadata": {},
   "outputs": [
    {
     "name": "stdout",
     "output_type": "stream",
     "text": [
      "cv=5\n",
      "Best parameters: {'n_neighbors': 3}\n",
      "Best cross-validation score: 0.46\n",
      "\n"
     ]
    },
    {
     "name": "stderr",
     "output_type": "stream",
     "text": [
      "C:\\Users\\josep\\Anaconda3\\lib\\site-packages\\sklearn\\model_selection\\_search.py:841: DeprecationWarning: The default of the `iid` parameter will change from True to False in version 0.22 and will be removed in 0.24. This will change numeric results when test-set sizes are unequal.\n",
      "  DeprecationWarning)\n"
     ]
    }
   ],
   "source": [
    "#(4) KNN\n",
    "from sklearn.neighbors import KNeighborsRegressor\n",
    "knn = KNeighborsRegressor()\n",
    "param_grid = {'n_neighbors':np.arange(1,11,1)}\n",
    "\n",
    "#cv =5\n",
    "grid = GridSearchCV(knn, param_grid, cv=5, return_train_score=True, n_jobs = -1)\n",
    "grid.fit(X_reduced_train, y_train)\n",
    "print('cv=5')\n",
    "print(\"Best parameters: {}\".format(grid.best_params_))\n",
    "print(\"Best cross-validation score: {:.2f}\".format(grid.best_score_))\n",
    "print()\n"
   ]
  },
  {
   "cell_type": "code",
   "execution_count": 39,
   "metadata": {},
   "outputs": [
    {
     "name": "stdout",
     "output_type": "stream",
     "text": [
      "KNN Regression - Train Score: 0.76\n",
      "KNN Regression - Test Score: 0.13 \n"
     ]
    }
   ],
   "source": [
    "knnreg_accuracy_train = grid.best_estimator_.score(X_reduced_train, y_train)\n",
    "knnreg_accuracy_test = grid.best_estimator_.score(X_reduced_test, y_test)\n",
    "\n",
    "print('KNN Regression - Train Score: %.2f'%knnreg_accuracy_train)\n",
    "print('KNN Regression - Test Score: %.2f '%knnreg_accuracy_test)"
   ]
  },
  {
   "cell_type": "code",
   "execution_count": 40,
   "metadata": {},
   "outputs": [],
   "source": [
    "report_table =report_table +  [['KNN', 'n = 3', \n",
    "                                grid.best_estimator_.score(X_reduced_train, y_train), \n",
    "                                grid.best_estimator_.score(X_reduced_test, y_test)]]"
   ]
  },
  {
   "cell_type": "code",
   "execution_count": 41,
   "metadata": {},
   "outputs": [
    {
     "name": "stdout",
     "output_type": "stream",
     "text": [
      "Best parameters: {'linearregression__fit_intercept': True, 'linearregression__normalize': True, 'polynomialfeatures__degree': 1}\n",
      "Best cross-validation score: 0.30\n"
     ]
    },
    {
     "name": "stderr",
     "output_type": "stream",
     "text": [
      "C:\\Users\\josep\\Anaconda3\\lib\\site-packages\\sklearn\\model_selection\\_search.py:841: DeprecationWarning: The default of the `iid` parameter will change from True to False in version 0.22 and will be removed in 0.24. This will change numeric results when test-set sizes are unequal.\n",
      "  DeprecationWarning)\n"
     ]
    }
   ],
   "source": [
    "#(5) Polynomial Regression\n",
    "from sklearn.pipeline import make_pipeline\n",
    "from sklearn.preprocessing import PolynomialFeatures\n",
    "def PolynomialRegression(degree=2, **kwargs):\n",
    "    return make_pipeline(PolynomialFeatures(degree), LinearRegression(**kwargs))\n",
    "\n",
    "param_grid = {'polynomialfeatures__degree': np.arange(4), \n",
    "        'linearregression__fit_intercept': [True, False], \n",
    "        'linearregression__normalize': [True, False]}\n",
    "\n",
    "grid = GridSearchCV(PolynomialRegression(), param_grid, cv=5, n_jobs=-1)\n",
    "\n",
    "grid.fit(X_reduced_train, y_train)\n",
    "print(\"Best parameters: {}\".format(grid.best_params_))\n",
    "print(\"Best cross-validation score: {:.2f}\".format(grid.best_score_))"
   ]
  },
  {
   "cell_type": "code",
   "execution_count": 42,
   "metadata": {},
   "outputs": [
    {
     "name": "stdout",
     "output_type": "stream",
     "text": [
      "Polynomial Regression - Train Score: 0.50\n",
      "Polynomial Regression - Test Score: 0.23 \n"
     ]
    }
   ],
   "source": [
    "poly_accuracy_train = grid.best_estimator_.score(X_reduced_train, y_train)\n",
    "poly_accuracy_test = grid.best_estimator_.score(X_reduced_test, y_test)\n",
    "\n",
    "print('Polynomial Regression - Train Score: %.2f'%poly_accuracy_train)\n",
    "print('Polynomial Regression - Test Score: %.2f '%poly_accuracy_test)"
   ]
  },
  {
   "cell_type": "code",
   "execution_count": 43,
   "metadata": {},
   "outputs": [],
   "source": [
    "report_table =report_table +  [['Polynomial', 'degree=1', \n",
    "                                grid.best_estimator_.score(X_reduced_train, y_train), \n",
    "                                grid.best_estimator_.score(X_reduced_test, y_test)]]"
   ]
  },
  {
   "cell_type": "code",
   "execution_count": 44,
   "metadata": {},
   "outputs": [
    {
     "name": "stdout",
     "output_type": "stream",
     "text": [
      "cv=5\n",
      "Best parameters: {'C': 1, 'epsilon': 10}\n",
      "Best cross-validation score: 0.43\n",
      "\n"
     ]
    },
    {
     "name": "stderr",
     "output_type": "stream",
     "text": [
      "C:\\Users\\josep\\Anaconda3\\lib\\site-packages\\sklearn\\model_selection\\_search.py:841: DeprecationWarning: The default of the `iid` parameter will change from True to False in version 0.22 and will be removed in 0.24. This will change numeric results when test-set sizes are unequal.\n",
      "  DeprecationWarning)\n"
     ]
    }
   ],
   "source": [
    "#(6) Linear SVR\n",
    "from sklearn.svm import LinearSVR\n",
    "model = LinearSVR()\n",
    "parameters = {'C':[0.001, 0.01, 0.1, 1, 10], 'epsilon':[0.001,0.01,0.1,1,10]}\n",
    "\n",
    "#cv = 5\n",
    "grid = GridSearchCV(model, parameters, cv=5, return_train_score=True, n_jobs = -1)\n",
    "grid.fit(X_reduced_train, y_train)\n",
    "print('cv=5')\n",
    "print(\"Best parameters: {}\".format(grid.best_params_))\n",
    "print(\"Best cross-validation score: {:.2f}\".format(grid.best_score_))\n",
    "print()\n"
   ]
  },
  {
   "cell_type": "code",
   "execution_count": 45,
   "metadata": {},
   "outputs": [
    {
     "name": "stdout",
     "output_type": "stream",
     "text": [
      "Linear SVR - Train Score: 0.39\n",
      "Linear SVR - Test Score: 0.15 \n"
     ]
    }
   ],
   "source": [
    "lsvr_accuracy_train = grid.best_estimator_.score(X_reduced_train, y_train)\n",
    "lsvr_accuracy_test = grid.best_estimator_.score(X_reduced_test, y_test)\n",
    "\n",
    "print('Linear SVR - Train Score: %.2f'%lsvr_accuracy_train)\n",
    "print('Linear SVR - Test Score: %.2f '%lsvr_accuracy_test)"
   ]
  },
  {
   "cell_type": "code",
   "execution_count": 46,
   "metadata": {},
   "outputs": [],
   "source": [
    "report_table =report_table +  [['SVR', 'C=1, epsilon=10', \n",
    "                                grid.best_estimator_.score(X_reduced_train, y_train), \n",
    "                                grid.best_estimator_.score(X_reduced_test, y_test)]]"
   ]
  },
  {
   "cell_type": "code",
   "execution_count": 47,
   "metadata": {},
   "outputs": [
    {
     "name": "stdout",
     "output_type": "stream",
     "text": [
      "cv=5\n",
      "Best parameters: {'C': 10, 'epsilon': 1, 'gamma': 0.1}\n",
      "Best cross-validation score: 0.49\n",
      "\n"
     ]
    },
    {
     "name": "stderr",
     "output_type": "stream",
     "text": [
      "C:\\Users\\josep\\Anaconda3\\lib\\site-packages\\sklearn\\model_selection\\_search.py:841: DeprecationWarning: The default of the `iid` parameter will change from True to False in version 0.22 and will be removed in 0.24. This will change numeric results when test-set sizes are unequal.\n",
      "  DeprecationWarning)\n"
     ]
    }
   ],
   "source": [
    "#(7) RBF kernel SVR\n",
    "from sklearn.svm import SVR\n",
    "model = SVR(kernel='rbf')\n",
    "parameters = {'C':[0.001, 0.01, 0.1, 1,10],'gamma':[0.0001,0.001, 0.01, 0.1, 1],'epsilon':[0.01, 0.1, 1]}\n",
    "\n",
    "#cv =5\n",
    "grid = GridSearchCV(model, parameters, cv=5, return_train_score=True, n_jobs = -1)\n",
    "grid.fit(X_reduced_train, y_train)\n",
    "print('cv=5')\n",
    "print(\"Best parameters: {}\".format(grid.best_params_))\n",
    "print(\"Best cross-validation score: {:.2f}\".format(grid.best_score_))\n",
    "print()\n"
   ]
  },
  {
   "cell_type": "code",
   "execution_count": 48,
   "metadata": {},
   "outputs": [
    {
     "name": "stdout",
     "output_type": "stream",
     "text": [
      "RBF SVR - Train Score: 0.41\n",
      "RBF SVR - Test Score: 0.07 \n"
     ]
    }
   ],
   "source": [
    "rbf_svr_accuracy_train = grid.best_estimator_.score(X_reduced_train, y_train)\n",
    "rbf_svr_accuracy_test = grid.best_estimator_.score(X_reduced_test, y_test)\n",
    "\n",
    "print('RBF SVR - Train Score: %.2f'%rbf_svr_accuracy_train)\n",
    "print('RBF SVR - Test Score: %.2f '%rbf_svr_accuracy_test)"
   ]
  },
  {
   "cell_type": "code",
   "execution_count": 49,
   "metadata": {},
   "outputs": [],
   "source": [
    "report_table = report_table + [['RBF Kernel SVR', 'C=10, epsilon=1, gamma=0.1', \n",
    "                                grid.best_estimator_.score(X_reduced_train, y_train), \n",
    "                                grid.best_estimator_.score(X_reduced_test, y_test)]]"
   ]
  },
  {
   "cell_type": "code",
   "execution_count": 50,
   "metadata": {},
   "outputs": [
    {
     "data": {
      "text/html": [
       "<div>\n",
       "<style scoped>\n",
       "    .dataframe tbody tr th:only-of-type {\n",
       "        vertical-align: middle;\n",
       "    }\n",
       "\n",
       "    .dataframe tbody tr th {\n",
       "        vertical-align: top;\n",
       "    }\n",
       "\n",
       "    .dataframe thead th {\n",
       "        text-align: right;\n",
       "    }\n",
       "</style>\n",
       "<table border=\"1\" class=\"dataframe\">\n",
       "  <thead>\n",
       "    <tr style=\"text-align: right;\">\n",
       "      <th></th>\n",
       "      <th>Model Parameter</th>\n",
       "      <th>Train Score</th>\n",
       "      <th>Test Score</th>\n",
       "    </tr>\n",
       "    <tr>\n",
       "      <th>Model Name</th>\n",
       "      <th></th>\n",
       "      <th></th>\n",
       "      <th></th>\n",
       "    </tr>\n",
       "  </thead>\n",
       "  <tbody>\n",
       "    <tr>\n",
       "      <th>Linear Regression</th>\n",
       "      <td></td>\n",
       "      <td>0.501870</td>\n",
       "      <td>0.227250</td>\n",
       "    </tr>\n",
       "    <tr>\n",
       "      <th>SVR</th>\n",
       "      <td>C=1, epsilon=10</td>\n",
       "      <td>0.389456</td>\n",
       "      <td>0.151080</td>\n",
       "    </tr>\n",
       "    <tr>\n",
       "      <th>Lasso</th>\n",
       "      <td>alpha = 1.0</td>\n",
       "      <td>0.362740</td>\n",
       "      <td>0.140918</td>\n",
       "    </tr>\n",
       "    <tr>\n",
       "      <th>Ridge</th>\n",
       "      <td>alpha = 100</td>\n",
       "      <td>0.392291</td>\n",
       "      <td>0.135664</td>\n",
       "    </tr>\n",
       "    <tr>\n",
       "      <th>KNN</th>\n",
       "      <td>n = 3</td>\n",
       "      <td>0.755355</td>\n",
       "      <td>0.131152</td>\n",
       "    </tr>\n",
       "    <tr>\n",
       "      <th>RBF Kernel SVR</th>\n",
       "      <td>C=10, epsilon=1, gamma=0.1</td>\n",
       "      <td>0.412363</td>\n",
       "      <td>0.070397</td>\n",
       "    </tr>\n",
       "  </tbody>\n",
       "</table>\n",
       "</div>"
      ],
      "text/plain": [
       "                              Model Parameter  Train Score  Test Score\n",
       "Model Name                                                            \n",
       "Linear Regression                                 0.501870    0.227250\n",
       "SVR                           C=1, epsilon=10     0.389456    0.151080\n",
       "Lasso                             alpha = 1.0     0.362740    0.140918\n",
       "Ridge                             alpha = 100     0.392291    0.135664\n",
       "KNN                                     n = 3     0.755355    0.131152\n",
       "RBF Kernel SVR     C=10, epsilon=1, gamma=0.1     0.412363    0.070397"
      ]
     },
     "execution_count": 50,
     "metadata": {},
     "output_type": "execute_result"
    }
   ],
   "source": [
    "report = pd.DataFrame(report_table,columns = ['Model Name', 'Model Parameter', 'Train Score', 'Test Score'])\n",
    "report.index = report['Model Name']\n",
    "report.drop(['Model Name'],axis=1,inplace=True)\n",
    "report= report.drop(['Polynomial'])# as polynomial regression with the degree of 1 is exatly same to linear Regression\n",
    "report.sort_values(by='Test Score', ascending = False)"
   ]
  },
  {
   "cell_type": "code",
   "execution_count": 51,
   "metadata": {},
   "outputs": [
    {
     "data": {
      "text/plain": [
       "<matplotlib.axes._subplots.AxesSubplot at 0x258126e9be0>"
      ]
     },
     "execution_count": 51,
     "metadata": {},
     "output_type": "execute_result"
    },
    {
     "data": {
      "image/png": "[encoded data removed]",
      "text/plain": [
       "<Figure size 432x288 with 1 Axes>"
      ]
     },
     "metadata": {},
     "output_type": "display_data"
    }
   ],
   "source": [
    "sns.barplot(y =report.index, x = 'Test Score',data = report.sort_values(by='Test Score', ascending=False))"
   ]
  },
  {
   "cell_type": "markdown",
   "metadata": {},
   "source": [
    "Result from Project 1\n",
    "<img src=\"Result Table.png\">\n",
    "<img src=\"Result 1.png\">"
   ]
  },
  {
   "cell_type": "markdown",
   "metadata": {},
   "source": [
    "PCA result is not bettern than the one from Project 1 on Regression Task"
   ]
  },
  {
   "cell_type": "markdown",
   "metadata": {},
   "source": [
    "### (5) Deep Learning Task"
   ]
  },
  {
   "cell_type": "code",
   "execution_count": 103,
   "metadata": {},
   "outputs": [],
   "source": [
    "#Loading packages\n",
    "from sklearn.model_selection import GridSearchCV\n",
    "from keras.models import Sequential\n",
    "from keras.layers import Dense\n",
    "from keras.wrappers.scikit_learn import KerasRegressor"
   ]
  },
  {
   "cell_type": "code",
   "execution_count": 101,
   "metadata": {},
   "outputs": [],
   "source": [
    "def create_model():\n",
    "    # Defining model\n",
    "    model = Sequential()\n",
    "    model.add(Dense(12, input_dim=30, kernel_initializer='normal', activation='relu'))\n",
    "    model.add(Dense(1, kernel_initializer='normal'))\n",
    "    # Compiling model\n",
    "    model.compile(loss='mse', optimizer='sgd', metrics=['mse'])\n",
    "    return model"
   ]
  },
  {
   "cell_type": "code",
   "execution_count": 102,
   "metadata": {},
   "outputs": [],
   "source": [
    "seed = 10\n",
    "np.random.seed(10)"
   ]
  },
  {
   "cell_type": "code",
   "execution_count": 104,
   "metadata": {},
   "outputs": [],
   "source": [
    "model = KerasRegressor(build_fn= create_model, verbose=0)\n",
    "param_grid = {'batch_size':[5,10,25,50], 'epochs':[10, 50,100]}\n",
    "grid_search = GridSearchCV(estimator=model, param_grid=param_grid, cv=5)"
   ]
  },
  {
   "cell_type": "code",
   "execution_count": 105,
   "metadata": {},
   "outputs": [],
   "source": [
    "# Fitting model\n",
    "grid_search_result = grid_search.fit(X_train, y_train)"
   ]
  },
  {
   "cell_type": "code",
   "execution_count": 120,
   "metadata": {},
   "outputs": [
    {
     "name": "stdout",
     "output_type": "stream",
     "text": [
      "Best parameters: {'batch_size': 5, 'epochs': 100}\n",
      "Best cross-validation score: -0.04\n",
      "\n"
     ]
    }
   ],
   "source": [
    "print(\"Best parameters: {}\".format(grid_search_result.best_params_))\n",
    "print(\"Best cross-validation score: {:.2f}\".format(grid_search_result.best_score_))\n",
    "print()"
   ]
  },
  {
   "cell_type": "code",
   "execution_count": 119,
   "metadata": {},
   "outputs": [],
   "source": [
    "grid_train_pred = grid_search_result.predict(X_train)\n",
    "grid_test_pred = grid_search_result.predict(X_test)"
   ]
  },
  {
   "cell_type": "code",
   "execution_count": 123,
   "metadata": {},
   "outputs": [
    {
     "name": "stdout",
     "output_type": "stream",
     "text": [
      "Deep Learning - Train Score: -0.03\n",
      "Deep Learning - Test Score: -0.03 \n"
     ]
    }
   ],
   "source": [
    "dl_train_score = grid_search_result.best_estimator_.score(X_train, y_train)\n",
    "dl_test_score = grid_search_result.best_estimator_.score(X_test, y_test)\n",
    "\n",
    "print('Deep Learning - Train Score: %.2f'%dl_train_score)\n",
    "print('Deep Learning - Test Score: %.2f '%dl_test_score)"
   ]
  },
  {
   "cell_type": "code",
   "execution_count": 124,
   "metadata": {},
   "outputs": [
    {
     "name": "stdout",
     "output_type": "stream",
     "text": [
      "Train Score 0.86\n",
      "Test Score 0.87\n"
     ]
    }
   ],
   "source": [
    "from sklearn.metrics import r2_score, recall_score, precision_score\n",
    "\n",
    "print('Train Score {:.2f}'.format(r2_score(y_train, grid_train_pred)))\n",
    "print('Test Score {:.2f}'.format(r2_score(y_test, grid_test_pred)))"
   ]
  },
  {
   "cell_type": "markdown",
   "metadata": {},
   "source": [
    "# Classification Task"
   ]
  },
  {
   "cell_type": "code",
   "execution_count": 52,
   "metadata": {},
   "outputs": [],
   "source": [
    "# Creating dataset for classification task\n",
    "clf_data = df.drop(['Audit_Risk','Risk'], axis=1)\n",
    "clf_target = df['Risk']\n",
    "\n",
    "# Splitting training and test data\n",
    "from sklearn.model_selection import train_test_split\n",
    "X_train_org, X_test_org, y_train, y_test = train_test_split(clf_data, clf_target, random_state=0)\n",
    "\n",
    "# Scaling data\n",
    "scaler = MinMaxScaler()\n",
    "X_train = scaler.fit_transform(X_train_org)\n",
    "X_test = scaler.transform(X_test_org)"
   ]
  },
  {
   "cell_type": "code",
   "execution_count": 53,
   "metadata": {},
   "outputs": [],
   "source": [
    "from sklearn.ensemble import VotingClassifier\n",
    "from sklearn.linear_model import LogisticRegression\n",
    "from sklearn.neighbors import KNeighborsClassifier\n",
    "from sklearn.svm import SVC"
   ]
  },
  {
   "cell_type": "markdown",
   "metadata": {},
   "source": [
    "## (1) Two voting classifiers - one with hard voting and one with soft voting"
   ]
  },
  {
   "cell_type": "code",
   "execution_count": 54,
   "metadata": {},
   "outputs": [
    {
     "name": "stdout",
     "output_type": "stream",
     "text": [
      "Hard Voting\n",
      "LogisticRegression Test Accuracy Score 0.9691\n",
      "KNeighborsClassifier Test Accuracy Score 0.9536\n",
      "SVC Test Accuracy Score 0.9639\n",
      "VotingClassifier Test Accuracy Score 0.9691\n",
      "\n",
      "LogisticRegression Test Accuracy Score 0.9691\n",
      "KNeighborsClassifier Test Accuracy Score 0.9536\n",
      "SVC Test Accuracy Score 0.9639\n",
      "VotingClassifier Test Accuracy Score 0.9742\n"
     ]
    }
   ],
   "source": [
    "log_clf = LogisticRegression()\n",
    "log_clf.fit(X_train, y_train)\n",
    "knn_clf = KNeighborsClassifier(7)\n",
    "knn_clf.fit(X_train, y_train)\n",
    "svm_clf = SVC(C = 10, probability = True)\n",
    "svm_clf.fit(X_train, y_train)\n",
    "\n",
    "voting_hard_clf = VotingClassifier(estimators=[('lr', log_clf), ('knn', knn_clf), ('svc', svm_clf)], voting='hard')\n",
    "voting_hard_clf.fit(X_train, y_train)\n",
    "\n",
    "print(\"Hard Voting\")\n",
    "from sklearn.metrics import accuracy_score\n",
    "for clf in (log_clf, knn_clf, svm_clf, voting_hard_clf):\n",
    "    clf.fit(X_train, y_train)\n",
    "    y_pred = clf.predict(X_test)\n",
    "    print(clf.__class__.__name__, 'Test Accuracy Score {:.4f}'.format(accuracy_score(y_test, y_pred)))\n",
    "print()\n",
    "\n",
    "(\"Soft Voting\")\n",
    "voting_soft_clf = VotingClassifier(estimators=[('lr', log_clf), ('knn', knn_clf), ('svc', svm_clf)], voting='soft')\n",
    "voting_soft_clf.fit(X_train, y_train)\n",
    "\n",
    "from sklearn.metrics import accuracy_score\n",
    "for clf in (log_clf, knn_clf, svm_clf, voting_soft_clf):\n",
    "    clf.fit(X_train, y_train)\n",
    "    y_pred = clf.predict(X_test)\n",
    "    print(clf.__class__.__name__, 'Test Accuracy Score {:.4f}'.format(accuracy_score(y_test, y_pred)))"
   ]
  },
  {
   "cell_type": "markdown",
   "metadata": {},
   "source": [
    "## (2) Two models with bagging and any two models with pasting"
   ]
  },
  {
   "cell_type": "code",
   "execution_count": 55,
   "metadata": {},
   "outputs": [],
   "source": [
    "#importing models\n",
    "from sklearn.ensemble import BaggingClassifier\n",
    "from sklearn.metrics import roc_auc_score, classification_report"
   ]
  },
  {
   "cell_type": "code",
   "execution_count": 56,
   "metadata": {},
   "outputs": [
    {
     "name": "stdout",
     "output_type": "stream",
     "text": [
      "(1) Logistic Regression\n",
      "\n",
      "Bagging\n",
      "- Accuracy Score\n",
      "Train Accuracy Score: 0.987910\n",
      "Test Accuracy Score: 0.974227\n",
      "\n",
      "              precision    recall  f1-score   support\n",
      "\n",
      "           0       0.96      1.00      0.98       121\n",
      "           1       1.00      0.93      0.96        73\n",
      "\n",
      "   micro avg       0.97      0.97      0.97       194\n",
      "   macro avg       0.98      0.97      0.97       194\n",
      "weighted avg       0.98      0.97      0.97       194\n",
      "\n",
      "- ROC AUC Score\n",
      "Test AUC Score: 0.965753\n",
      "\n",
      "\n",
      "Pasting\n",
      "Train Accuracy Score: 0.991364\n",
      "Test Accuracy Score: 0.979381\n",
      "              precision    recall  f1-score   support\n",
      "\n",
      "           0       0.97      1.00      0.98       121\n",
      "           1       1.00      0.95      0.97        73\n",
      "\n",
      "   micro avg       0.98      0.98      0.98       194\n",
      "   macro avg       0.98      0.97      0.98       194\n",
      "weighted avg       0.98      0.98      0.98       194\n",
      "\n",
      "\n",
      "- ROC AUC Score\n",
      "Test AUC Score: 0.972603\n",
      "\n"
     ]
    }
   ],
   "source": [
    "#Logistic Regression\n",
    "print('(1) Logistic Regression')\n",
    "print()\n",
    "\n",
    "log = LogisticRegression(C=10, penalty='l1')\n",
    "\n",
    "log_bag = BaggingClassifier(log, bootstrap=True, n_jobs=-1, random_state=0)\n",
    "log_bag.fit(X_train, y_train)\n",
    "y_pred_bag = log_bag.predict(X_test)\n",
    "\n",
    "print(\"Bagging\")\n",
    "print(\"- Accuracy Score\")\n",
    "print(\"Train Accuracy Score: {:4f}\".format(log_bag.score(X_train, y_train)))\n",
    "print(\"Test Accuracy Score: {:4f}\".format(log_bag.score(X_test, y_test)))\n",
    "print()\n",
    "\n",
    "#Classficiation Report\n",
    "print(classification_report(y_test, y_pred_bag))\n",
    "\n",
    "#ROC AUC Score\n",
    "print(\"- ROC AUC Score\")\n",
    "print(\"Test AUC Score: {:4f}\".format(roc_auc_score(y_test, y_pred_bag)))\n",
    "print()\n",
    "print()\n",
    "\n",
    "\n",
    "log_pas = BaggingClassifier(log, bootstrap=False, n_jobs=-1, random_state=0)\n",
    "log_pas.fit(X_train, y_train)\n",
    "y_pred_pas = log_pas.predict(X_test)\n",
    "print(\"Pasting\")\n",
    "print(\"Train Accuracy Score: {:4f}\".format(log_pas.score(X_train, y_train)))\n",
    "print(\"Test Accuracy Score: {:4f}\".format(log_pas.score(X_test, y_test)))\n",
    "      \n",
    "#Classficiation Report\n",
    "print(classification_report(y_test, y_pred_pas))\n",
    "print()\n",
    "\n",
    "#ROC AUC Score\n",
    "print('- ROC AUC Score')\n",
    "print(\"Test AUC Score: {:4f}\".format(roc_auc_score(y_test, y_pred_pas)))\n",
    "print()"
   ]
  },
  {
   "cell_type": "code",
   "execution_count": 57,
   "metadata": {},
   "outputs": [
    {
     "name": "stdout",
     "output_type": "stream",
     "text": [
      "(1) Linear SVC\n",
      "\n",
      "Bagging\n",
      "- Accuracy Score\n",
      "Train Accuracy Score: 0.994819\n",
      "Test Accuracy Score: 0.989691\n",
      "\n",
      "              precision    recall  f1-score   support\n",
      "\n",
      "           0       0.98      1.00      0.99       121\n",
      "           1       1.00      0.97      0.99        73\n",
      "\n",
      "   micro avg       0.99      0.99      0.99       194\n",
      "   macro avg       0.99      0.99      0.99       194\n",
      "weighted avg       0.99      0.99      0.99       194\n",
      "\n",
      "- ROC AUC Score\n",
      "Test AUC Score: 0.986301\n",
      "\n",
      "\n",
      "Pasting\n",
      "Train Accuracy Score: 0.994819\n",
      "Test Accuracy Score: 0.989691\n",
      "              precision    recall  f1-score   support\n",
      "\n",
      "           0       0.97      1.00      0.98       121\n",
      "           1       1.00      0.95      0.97        73\n",
      "\n",
      "   micro avg       0.98      0.98      0.98       194\n",
      "   macro avg       0.98      0.97      0.98       194\n",
      "weighted avg       0.98      0.98      0.98       194\n",
      "\n",
      "\n",
      "- ROC AUC Score\n",
      "Test AUC Score: 0.972603\n",
      "\n"
     ]
    }
   ],
   "source": [
    "#Linear SVC\n",
    "from sklearn.svm import LinearSVC\n",
    "print('(1) Linear SVC')\n",
    "print()\n",
    "\n",
    "lsvc = LinearSVC(C= 10, penalty = 'l1', dual=False, loss='squared_hinge')\n",
    "\n",
    "lsvc_bag = BaggingClassifier(lsvc, bootstrap=True, n_jobs=-1, random_state=0)\n",
    "lsvc_bag.fit(X_train, y_train)\n",
    "y_pred_bag = lsvc_bag.predict(X_test)\n",
    "\n",
    "print(\"Bagging\")\n",
    "print(\"- Accuracy Score\")\n",
    "print(\"Train Accuracy Score: {:4f}\".format(lsvc_bag.score(X_train, y_train)))\n",
    "print(\"Test Accuracy Score: {:4f}\".format(lsvc_bag.score(X_test, y_test)))\n",
    "print()\n",
    "\n",
    "#Classficiation Report\n",
    "print(classification_report(y_test, y_pred_bag))\n",
    "\n",
    "#ROC AUC Score\n",
    "print(\"- ROC AUC Score\")\n",
    "print(\"Test AUC Score: {:4f}\".format(roc_auc_score(y_test, y_pred_bag)))\n",
    "print()\n",
    "print()\n",
    "\n",
    "\n",
    "lsvc_pas = BaggingClassifier(lsvc, bootstrap=False, n_jobs=-1, random_state=0)\n",
    "lsvc_pas.fit(X_train, y_train)\n",
    "y_pred_pas = log_pas.predict(X_test)\n",
    "print(\"Pasting\")\n",
    "print(\"Train Accuracy Score: {:4f}\".format(lsvc_pas.score(X_train, y_train)))\n",
    "print(\"Test Accuracy Score: {:4f}\".format(lsvc_pas.score(X_test, y_test)))\n",
    "      \n",
    "#Classficiation Report\n",
    "print(classification_report(y_test, y_pred_pas))\n",
    "print()\n",
    "\n",
    "#ROC AUC Score\n",
    "print('- ROC AUC Score')\n",
    "print(\"Test AUC Score: {:4f}\".format(roc_auc_score(y_test, y_pred_pas)))\n",
    "print()"
   ]
  },
  {
   "cell_type": "markdown",
   "metadata": {},
   "source": [
    "##  (3) Two models with adaboost boosting"
   ]
  },
  {
   "cell_type": "code",
   "execution_count": 58,
   "metadata": {},
   "outputs": [
    {
     "name": "stdout",
     "output_type": "stream",
     "text": [
      "(1) Logistic Regression\n",
      "\n",
      "Best Parameter: {'learning_rate': 0.05, 'n_estimators': 50}\n",
      "\n",
      "- Accuracy Score\n",
      "Train Accuracy Score: 0.918826\n",
      "Test Accuracy Score: 0.917526\n",
      "\n",
      "              precision    recall  f1-score   support\n",
      "\n",
      "           0       0.88      1.00      0.94       121\n",
      "           1       1.00      0.78      0.88        73\n",
      "\n",
      "   micro avg       0.92      0.92      0.92       194\n",
      "   macro avg       0.94      0.89      0.91       194\n",
      "weighted avg       0.93      0.92      0.92       194\n",
      "\n",
      "- ROC AUC Score\n",
      "Test AUC Score: 0.890411\n",
      "\n",
      "\n"
     ]
    }
   ],
   "source": [
    "from sklearn.ensemble import AdaBoostClassifier\n",
    "\n",
    "#Logistic Regression\n",
    "print('(1) Logistic Regression')\n",
    "print()\n",
    "\n",
    "param_grid = { 'n_estimators': [3, 5, 10, 50, 75, 100],\n",
    "              'learning_rate' : [0.01, 0.05, 0.1, 0.5,1] }\n",
    "ada_grid = GridSearchCV(AdaBoostClassifier(LogisticRegression(C=10, penalty='l1')), \n",
    "                        param_grid,n_jobs=-1)\n",
    "ada_grid.fit(X_train, y_train)\n",
    "print('Best Parameter: {}'.format(ada_grid.best_params_))\n",
    "print()\n",
    "\n",
    "ada_clf = AdaBoostClassifier(LogisticRegression(), learning_rate=0.05, n_estimators=50)\n",
    "ada_clf.fit(X_train, y_train)\n",
    "y_pred_ada = ada_clf.predict(X_test)\n",
    "\n",
    "print(\"- Accuracy Score\")\n",
    "print(\"Train Accuracy Score: {:4f}\".format(ada_clf.score(X_train, y_train)))\n",
    "print(\"Test Accuracy Score: {:4f}\".format(ada_clf.score(X_test, y_test)))\n",
    "print()\n",
    "\n",
    "#Classficiation Report\n",
    "print(classification_report(y_test, y_pred_ada))\n",
    "\n",
    "#ROC AUC Score\n",
    "print(\"- ROC AUC Score\")\n",
    "print(\"Test AUC Score: {:4f}\".format(roc_auc_score(y_test, y_pred_ada)))\n",
    "print()\n",
    "print()\n"
   ]
  },
  {
   "cell_type": "code",
   "execution_count": 59,
   "metadata": {},
   "outputs": [
    {
     "name": "stdout",
     "output_type": "stream",
     "text": [
      "(2) Linear SVC\n",
      "\n",
      "Best Parameter: {'learning_rate': 0.01, 'n_estimators': 3}\n",
      "\n",
      "- Accuracy Score\n",
      "Train Accuracy Score: 0.994819\n",
      "Test Accuracy Score: 0.989691\n",
      "\n",
      "              precision    recall  f1-score   support\n",
      "\n",
      "           0       0.98      1.00      0.99       121\n",
      "           1       1.00      0.97      0.99        73\n",
      "\n",
      "   micro avg       0.99      0.99      0.99       194\n",
      "   macro avg       0.99      0.99      0.99       194\n",
      "weighted avg       0.99      0.99      0.99       194\n",
      "\n",
      "- ROC AUC Score\n",
      "Test AUC Score: 0.986301\n"
     ]
    }
   ],
   "source": [
    "from sklearn.svm import LinearSVC\n",
    "#Linear SVC\n",
    "print('(2) Linear SVC')\n",
    "print()\n",
    "\n",
    "param_grid = { 'n_estimators': [3, 5, 10, 50, 75, 100],\n",
    "              'learning_rate' : [0.01, 0.05, 0.1, 0.5,1] }\n",
    "ada_grid = GridSearchCV(AdaBoostClassifier(LinearSVC(C= 10, penalty = 'l1', dual=False, loss='squared_hinge'),\n",
    "                                           algorithm='SAMME'), param_grid,n_jobs=-1)\n",
    "ada_grid.fit(X_train, y_train)\n",
    "print('Best Parameter: {}'.format(ada_grid.best_params_))\n",
    "print()\n",
    "\n",
    "ada_clf = AdaBoostClassifier(LinearSVC(C= 10, penalty = 'l1', dual=False, loss='squared_hinge'), \n",
    "                             algorithm='SAMME', learning_rate=0.01, n_estimators=3)\n",
    "ada_clf.fit(X_train, y_train)\n",
    "y_pred_ada = ada_clf.predict(X_test)\n",
    "\n",
    "print(\"- Accuracy Score\")\n",
    "print(\"Train Accuracy Score: {:4f}\".format(ada_clf.score(X_train, y_train)))\n",
    "print(\"Test Accuracy Score: {:4f}\".format(ada_clf.score(X_test, y_test)))\n",
    "print()\n",
    "\n",
    "#Classficiation Report\n",
    "print(classification_report(y_test, y_pred_ada))\n",
    "\n",
    "#ROC AUC Score\n",
    "print(\"- ROC AUC Score\")\n",
    "print(\"Test AUC Score: {:4f}\".format(roc_auc_score(y_test, y_pred_ada)))\n"
   ]
  },
  {
   "cell_type": "markdown",
   "metadata": {},
   "source": [
    "## (4) One model with gradient boosting "
   ]
  },
  {
   "cell_type": "code",
   "execution_count": 60,
   "metadata": {},
   "outputs": [
    {
     "name": "stdout",
     "output_type": "stream",
     "text": [
      "(1) Gradient Boosted Classification Trees\n",
      "\n",
      "Best Parameter: {'learning_rate': 0.1, 'max_depth': 5, 'n_estimators': 5, 'subsample': 0.75}\n"
     ]
    }
   ],
   "source": [
    "from sklearn.ensemble import GradientBoostingClassifier\n",
    "\n",
    "print('(1) Gradient Boosted Classification Trees')\n",
    "print()\n",
    "\n",
    "param_grid = {\n",
    "    \"learning_rate\": [0.01, 0.05, 0.1, 0.5],\n",
    "    \"max_depth\":[3,5,8, 10],\n",
    "    \"subsample\":[0.5, 0.75, 1.0],\n",
    "    \"n_estimators\":[3, 5, 8, 10]\n",
    "    }\n",
    "\n",
    "gbr_grid = GridSearchCV(GradientBoostingClassifier(random_state=1),  \n",
    "                        param_grid,n_jobs=-1)\n",
    "gbr_grid.fit(X_train, y_train)\n",
    "print('Best Parameter: {}'.format(gbr_grid.best_params_))"
   ]
  },
  {
   "cell_type": "code",
   "execution_count": 61,
   "metadata": {},
   "outputs": [
    {
     "name": "stdout",
     "output_type": "stream",
     "text": [
      "- Accuracy Score\n",
      "Train Accuracy Score: 1.000000\n",
      "Test Accuracy Score: 1.000000\n",
      "\n",
      "              precision    recall  f1-score   support\n",
      "\n",
      "           0       1.00      1.00      1.00       121\n",
      "           1       1.00      1.00      1.00        73\n",
      "\n",
      "   micro avg       1.00      1.00      1.00       194\n",
      "   macro avg       1.00      1.00      1.00       194\n",
      "weighted avg       1.00      1.00      1.00       194\n",
      "\n",
      "- ROC AUC Score\n",
      "Test AUC Score: 1.000000\n"
     ]
    }
   ],
   "source": [
    "gbr_clf = GradientBoostingClassifier(learning_rate=0.1, max_depth=5, n_estimators=58, subsample =0.75, random_state=0)\n",
    "gbr_clf.fit(X_train, y_train)\n",
    "y_pred_gbr = gbr_clf.predict(X_test)\n",
    "\n",
    "print(\"- Accuracy Score\")\n",
    "print(\"Train Accuracy Score: {:4f}\".format(gbr_clf.score(X_train, y_train)))\n",
    "print(\"Test Accuracy Score: {:4f}\".format(gbr_clf.score(X_test, y_test)))\n",
    "print()\n",
    "\n",
    "#Classficiation Report\n",
    "print(classification_report(y_test, y_pred_gbr))\n",
    "\n",
    "#ROC AUC Score\n",
    "print(\"- ROC AUC Score\")\n",
    "print(\"Test AUC Score: {:4f}\".format(roc_auc_score(y_test, y_pred_gbr)))\n"
   ]
  },
  {
   "cell_type": "markdown",
   "metadata": {},
   "source": [
    "### (5) PCA"
   ]
  },
  {
   "cell_type": "code",
   "execution_count": 62,
   "metadata": {},
   "outputs": [
    {
     "name": "stdout",
     "output_type": "stream",
     "text": [
      "Number of dimensions: 8\n",
      "Explained Variance Ratio: 0.04320262807034925\n"
     ]
    }
   ],
   "source": [
    "# Dimension Reduction\n",
    "pca = PCA(0.95)\n",
    "X_reduced_train = pca.fit_transform(X_train)\n",
    "X_reduced_test = pca.transform(X_test)\n",
    "\n",
    "print('Number of dimensions:', pca.n_components_) \n",
    "print('Explained Variance Ratio:',1- pca.explained_variance_ratio_.sum())"
   ]
  },
  {
   "cell_type": "code",
   "execution_count": 63,
   "metadata": {},
   "outputs": [
    {
     "name": "stdout",
     "output_type": "stream",
     "text": [
      "cv=5\n",
      "Best parameters: {'n_neighbors': 7}\n",
      "Best cross-validation score: 0.9890\n",
      "\n"
     ]
    }
   ],
   "source": [
    "#(1) KNN \n",
    "knn = KNeighborsClassifier()\n",
    "parameters = {'n_neighbors':np.arange(1,11,1)}\n",
    "\n",
    "#cv =5\n",
    "grid = GridSearchCV(knn, parameters, scoring='roc_auc',cv=5, n_jobs = -1)\n",
    "grid.fit(X_reduced_train, y_train)\n",
    "print('cv=5')\n",
    "print(\"Best parameters: {}\".format(grid.best_params_))\n",
    "print(\"Best cross-validation score: {:.4f}\".format(grid.best_score_))\n",
    "print()\n"
   ]
  },
  {
   "cell_type": "code",
   "execution_count": 64,
   "metadata": {},
   "outputs": [
    {
     "name": "stdout",
     "output_type": "stream",
     "text": [
      "KNN Classifier - Train Accuracy: 0.9637\n",
      "KNN Classifier - Test Accuracy: 0.9433 \n"
     ]
    }
   ],
   "source": [
    "knnclf_accuracy_train = grid.best_estimator_.score(X_reduced_train, y_train)\n",
    "knnclf_accuracy_test = grid.best_estimator_.score(X_reduced_test, y_test)\n",
    "\n",
    "print('KNN Classifier - Train Accuracy: %.4f'%knnclf_accuracy_train)\n",
    "print('KNN Classifier - Test Accuracy: %.4f '%knnclf_accuracy_test)"
   ]
  },
  {
   "cell_type": "code",
   "execution_count": 65,
   "metadata": {},
   "outputs": [
    {
     "name": "stdout",
     "output_type": "stream",
     "text": [
      "KNN Classifier - Train ROC AUC Score: 0.9576\n",
      "KNN Classifier - Test ROC AUC Score: 0.9247 \n"
     ]
    }
   ],
   "source": [
    "knnclf_auc_train = roc_auc_score(y_train, grid.predict(X_reduced_train))\n",
    "knnclf_auc_test = roc_auc_score(y_test, grid.predict(X_reduced_test))\n",
    "\n",
    "print('KNN Classifier - Train ROC AUC Score: %.4f'%knnclf_auc_train)\n",
    "print('KNN Classifier - Test ROC AUC Score: %.4f '%knnclf_auc_test)"
   ]
  },
  {
   "cell_type": "code",
   "execution_count": 66,
   "metadata": {},
   "outputs": [
    {
     "name": "stdout",
     "output_type": "stream",
     "text": [
      "              precision    recall  f1-score   support\n",
      "\n",
      "           0       0.92      1.00      0.96       121\n",
      "           1       1.00      0.85      0.92        73\n",
      "\n",
      "   micro avg       0.94      0.94      0.94       194\n",
      "   macro avg       0.96      0.92      0.94       194\n",
      "weighted avg       0.95      0.94      0.94       194\n",
      "\n"
     ]
    }
   ],
   "source": [
    "pred = grid.predict(X_reduced_test)\n",
    "print(classification_report(y_test, pred))"
   ]
  },
  {
   "cell_type": "code",
   "execution_count": 67,
   "metadata": {},
   "outputs": [],
   "source": [
    "report_table = [['KNN', 'n=7',knnclf_accuracy_train, knnclf_accuracy_test, knnclf_auc_train,knnclf_auc_test]]"
   ]
  },
  {
   "cell_type": "code",
   "execution_count": 68,
   "metadata": {},
   "outputs": [
    {
     "name": "stdout",
     "output_type": "stream",
     "text": [
      "cv=5\n",
      "Best parameters: {'C': 100, 'penalty': 'l2'}\n",
      "Best cross-validation score: 0.9935\n",
      "\n"
     ]
    }
   ],
   "source": [
    "#(2) Logistic Regression\n",
    "model = LogisticRegression(random_state=0)\n",
    "parameters = {'C':[0.001, 0.01, 0.1, 1, 10, 100],\n",
    "              'penalty': ['l1', 'l2']}\n",
    "\n",
    "#cv =5\n",
    "grid = GridSearchCV(model, parameters, scoring='roc_auc', cv=5, n_jobs = -1)\n",
    "grid.fit(X_reduced_train, y_train)\n",
    "print('cv=5')\n",
    "print(\"Best parameters: {}\".format(grid.best_params_))\n",
    "print(\"Best cross-validation score: {:.4f}\".format(grid.best_score_))\n",
    "print()\n"
   ]
  },
  {
   "cell_type": "code",
   "execution_count": 69,
   "metadata": {},
   "outputs": [
    {
     "name": "stdout",
     "output_type": "stream",
     "text": [
      "Logistic Regression Classifier - Train Accuracy: 0.9672\n",
      "Logistic Regression Classifier - Test Accuracy: 0.9794 \n"
     ]
    }
   ],
   "source": [
    "logistic_accuracy_train = grid.best_estimator_.score(X_reduced_train, y_train)\n",
    "logistic_accuracy_test = grid.best_estimator_.score(X_reduced_test, y_test)\n",
    "\n",
    "print('Logistic Regression Classifier - Train Accuracy: %.4f'%logistic_accuracy_train)\n",
    "print('Logistic Regression Classifier - Test Accuracy: %.4f '%logistic_accuracy_test)"
   ]
  },
  {
   "cell_type": "code",
   "execution_count": 70,
   "metadata": {},
   "outputs": [
    {
     "name": "stdout",
     "output_type": "stream",
     "text": [
      "Logstic Regression - Train ROC AUC Score: 0.9641\n",
      "Logistic Regression - Test ROC AUC Score: 0.9726 \n"
     ]
    }
   ],
   "source": [
    "logistic_auc_train = roc_auc_score(y_train, grid.predict(X_reduced_train))\n",
    "logistic_auc_test = roc_auc_score(y_test, grid.predict(X_reduced_test))\n",
    "\n",
    "print('Logstic Regression - Train ROC AUC Score: %.4f'%logistic_auc_train)\n",
    "print('Logistic Regression - Test ROC AUC Score: %.4f '%logistic_auc_test)"
   ]
  },
  {
   "cell_type": "code",
   "execution_count": 71,
   "metadata": {},
   "outputs": [
    {
     "name": "stdout",
     "output_type": "stream",
     "text": [
      "              precision    recall  f1-score   support\n",
      "\n",
      "           0       0.97      1.00      0.98       121\n",
      "           1       1.00      0.95      0.97        73\n",
      "\n",
      "   micro avg       0.98      0.98      0.98       194\n",
      "   macro avg       0.98      0.97      0.98       194\n",
      "weighted avg       0.98      0.98      0.98       194\n",
      "\n"
     ]
    }
   ],
   "source": [
    "pred = grid.predict(X_reduced_test)\n",
    "print(classification_report(y_test, pred))"
   ]
  },
  {
   "cell_type": "code",
   "execution_count": 72,
   "metadata": {},
   "outputs": [],
   "source": [
    "report_table = report_table + [['Logistic Regression', 'C=100, penalty=l2', \n",
    "                                logistic_accuracy_train, logistic_accuracy_test, logistic_auc_train,logistic_auc_test]]"
   ]
  },
  {
   "cell_type": "code",
   "execution_count": 73,
   "metadata": {},
   "outputs": [
    {
     "name": "stdout",
     "output_type": "stream",
     "text": [
      "cv=5\n",
      "Best parameters: {'C': 100, 'loss': 'squared_hinge', 'penalty': 'l2'}\n",
      "Best cross-validation score: 0.9946\n",
      "\n"
     ]
    }
   ],
   "source": [
    "#(3) Linear SVC\n",
    "model = LinearSVC(random_state=0)\n",
    "parameters = [{'C':[0.001, 0.01, 0.1, 1, 10, 100], 'penalty':['l2'],'loss':['hinge','squared_hinge']},\n",
    "              {'C':[0.001, 0.01, 0.1, 1, 10, 100], 'penalty':['l1'], 'dual':[False], 'loss':['squared_hinge']}]\n",
    "\n",
    "#cv =5\n",
    "grid = GridSearchCV(model, parameters, scoring= 'roc_auc', cv=5, n_jobs = -1)\n",
    "grid.fit(X_reduced_train, y_train)\n",
    "print('cv=5')\n",
    "print(\"Best parameters: {}\".format(grid.best_params_))\n",
    "print(\"Best cross-validation score: {:.4f}\".format(grid.best_score_))\n",
    "print()\n"
   ]
  },
  {
   "cell_type": "code",
   "execution_count": 74,
   "metadata": {},
   "outputs": [
    {
     "name": "stdout",
     "output_type": "stream",
     "text": [
      "Linear SVC - Train Accuracy: 0.9672\n",
      "Linear SVC - Test Accuracy: 0.9742 \n"
     ]
    }
   ],
   "source": [
    "lsvc_accuracy_train = grid.best_estimator_.score(X_reduced_train, y_train)\n",
    "lsvc_accuracy_test = grid.best_estimator_.score(X_reduced_test, y_test) \n",
    "\n",
    "print('Linear SVC - Train Accuracy: %.4f'%lsvc_accuracy_train)\n",
    "print('Linear SVC - Test Accuracy: %.4f '%lsvc_accuracy_test)"
   ]
  },
  {
   "cell_type": "code",
   "execution_count": 75,
   "metadata": {},
   "outputs": [
    {
     "name": "stdout",
     "output_type": "stream",
     "text": [
      "Linear SVC - Train ROC AUC Score: 0.9641\n",
      "Linear SVC - Test ROC AUC Score: 0.9685 \n"
     ]
    }
   ],
   "source": [
    "lsvc_auc_train = roc_auc_score(y_train, grid.predict(X_reduced_train))\n",
    "lsvc_auc_test = roc_auc_score(y_test, grid.predict(X_reduced_test))\n",
    "\n",
    "print('Linear SVC - Train ROC AUC Score: %.4f'%lsvc_auc_train)\n",
    "print('Linear SVC - Test ROC AUC Score: %.4f '%lsvc_auc_test)"
   ]
  },
  {
   "cell_type": "code",
   "execution_count": 76,
   "metadata": {},
   "outputs": [
    {
     "name": "stdout",
     "output_type": "stream",
     "text": [
      "              precision    recall  f1-score   support\n",
      "\n",
      "           0       0.97      0.99      0.98       121\n",
      "           1       0.99      0.95      0.97        73\n",
      "\n",
      "   micro avg       0.97      0.97      0.97       194\n",
      "   macro avg       0.98      0.97      0.97       194\n",
      "weighted avg       0.97      0.97      0.97       194\n",
      "\n"
     ]
    }
   ],
   "source": [
    "pred = grid.predict(X_reduced_test)\n",
    "print(classification_report(y_test, pred))"
   ]
  },
  {
   "cell_type": "code",
   "execution_count": 77,
   "metadata": {},
   "outputs": [],
   "source": [
    "report_table  = report_table +[['Linear SVC', 'C=100, penalty=l2', \n",
    "                                lsvc_accuracy_train, lsvc_accuracy_test,lsvc_auc_train,lsvc_auc_test]]"
   ]
  },
  {
   "cell_type": "code",
   "execution_count": 78,
   "metadata": {},
   "outputs": [
    {
     "name": "stdout",
     "output_type": "stream",
     "text": [
      "cv=5\n",
      "Best parameters: {'C': 0.001, 'gamma': 1}\n",
      "Best cross-validation score: 0.9948\n",
      "\n"
     ]
    }
   ],
   "source": [
    "#(4) RBF Kernel SVC\n",
    "model = SVC(kernel='rbf', random_state=0)\n",
    "parameters = [{'C':[0.001, 0.01, 0.1, 1, 10, 100], 'gamma':[0.001,0.01,0.1,1,10,100]}]\n",
    "\n",
    "#cv =5\n",
    "grid = GridSearchCV(model, parameters, scoring = 'roc_auc',cv=5, n_jobs = -1)\n",
    "grid.fit(X_reduced_train, y_train)\n",
    "print('cv=5')\n",
    "print(\"Best parameters: {}\".format(grid.best_params_))\n",
    "print(\"Best cross-validation score: {:.4f}\".format(grid.best_score_))\n",
    "print()\n"
   ]
  },
  {
   "cell_type": "code",
   "execution_count": 79,
   "metadata": {},
   "outputs": [
    {
     "name": "stdout",
     "output_type": "stream",
     "text": [
      "RBF SVC - Train Accuracy: 0.5993\n",
      "RBF SVC - Test Accuracy: 0.6237 \n"
     ]
    }
   ],
   "source": [
    "rbf_svc_accuracy_train = grid.best_estimator_.score(X_reduced_train, y_train)\n",
    "rbf_svc_accuracy_test = grid.best_estimator_.score(X_reduced_test, y_test)\n",
    "\n",
    "print('RBF SVC - Train Accuracy: %.4f'%rbf_svc_accuracy_train)\n",
    "print('RBF SVC - Test Accuracy: %.4f '%rbf_svc_accuracy_test)"
   ]
  },
  {
   "cell_type": "code",
   "execution_count": 80,
   "metadata": {},
   "outputs": [
    {
     "name": "stdout",
     "output_type": "stream",
     "text": [
      "RBF Kernel SVC - Train ROC AUC Score: 0.5000\n",
      "RBF Kernel SVC - Test ROC AUC Score: 0.5000 \n"
     ]
    }
   ],
   "source": [
    "rbf_svc_auc_train = roc_auc_score(y_train, grid.predict(X_reduced_train))\n",
    "rbf_svc_auc_test = roc_auc_score(y_test, grid.predict(X_reduced_test))\n",
    "\n",
    "print('RBF Kernel SVC - Train ROC AUC Score: %.4f'%rbf_svc_auc_train)\n",
    "print('RBF Kernel SVC - Test ROC AUC Score: %.4f '%rbf_svc_auc_test)"
   ]
  },
  {
   "cell_type": "code",
   "execution_count": 81,
   "metadata": {},
   "outputs": [
    {
     "name": "stdout",
     "output_type": "stream",
     "text": [
      "              precision    recall  f1-score   support\n",
      "\n",
      "           0       0.62      1.00      0.77       121\n",
      "           1       0.00      0.00      0.00        73\n",
      "\n",
      "   micro avg       0.62      0.62      0.62       194\n",
      "   macro avg       0.31      0.50      0.38       194\n",
      "weighted avg       0.39      0.62      0.48       194\n",
      "\n"
     ]
    }
   ],
   "source": [
    "pred = grid.predict(X_reduced_test)\n",
    "print(classification_report(y_test, pred))"
   ]
  },
  {
   "cell_type": "code",
   "execution_count": 82,
   "metadata": {},
   "outputs": [],
   "source": [
    "report_table = report_table +[['rbf Kernelized Support Vector Machine', 'C=0.001,gamma=1', \n",
    "                               rbf_svc_accuracy_train, rbf_svc_accuracy_test,rbf_svc_auc_train, rbf_svc_auc_test]]"
   ]
  },
  {
   "cell_type": "code",
   "execution_count": 83,
   "metadata": {},
   "outputs": [
    {
     "name": "stdout",
     "output_type": "stream",
     "text": [
      "cv=5\n",
      "Best parameters: {'max_depth': 4, 'max_features': 3}\n",
      "Best cross-validation score: 0.9735\n",
      "\n"
     ]
    },
    {
     "name": "stderr",
     "output_type": "stream",
     "text": [
      "C:\\Users\\josep\\Anaconda3\\lib\\site-packages\\sklearn\\model_selection\\_search.py:841: DeprecationWarning: The default of the `iid` parameter will change from True to False in version 0.22 and will be removed in 0.24. This will change numeric results when test-set sizes are unequal.\n",
      "  DeprecationWarning)\n"
     ]
    }
   ],
   "source": [
    "#(5) Decission Tree\n",
    "from sklearn.tree import DecisionTreeClassifier\n",
    "model = DecisionTreeClassifier(random_state=0)\n",
    "parameters = [{'max_depth':[1,2,3,4,5,6,7,8,9,10], 'max_features':[1,2,3,4,5,6,7,8]}]\n",
    "\n",
    "#cv =5\n",
    "grid = GridSearchCV(model, parameters, scoring='roc_auc', cv=5, n_jobs = -1)\n",
    "grid.fit(X_reduced_train, y_train)\n",
    "print('cv=5')\n",
    "print(\"Best parameters: {}\".format(grid.best_params_))\n",
    "print(\"Best cross-validation score: {:.4f}\".format(grid.best_score_))\n",
    "print()"
   ]
  },
  {
   "cell_type": "code",
   "execution_count": 84,
   "metadata": {},
   "outputs": [
    {
     "name": "stdout",
     "output_type": "stream",
     "text": [
      "Decision Tree Classofier - Train Accuracy: 0.9706\n",
      "Decision Tree Classifier - Test Accuracy: 0.9639 \n"
     ]
    }
   ],
   "source": [
    "dtree_accuracy_train = grid.best_estimator_.score(X_reduced_train, y_train)\n",
    "dtree_accuracy_test = grid.best_estimator_.score(X_reduced_test, y_test)\n",
    "\n",
    "print('Decision Tree Classofier - Train Accuracy: %.4f'%dtree_accuracy_train)\n",
    "print('Decision Tree Classifier - Test Accuracy: %.4f '%dtree_accuracy_test)"
   ]
  },
  {
   "cell_type": "code",
   "execution_count": 85,
   "metadata": {},
   "outputs": [
    {
     "name": "stdout",
     "output_type": "stream",
     "text": [
      "Decision Tree Classifier - Train ROC AUC Score: 0.9662\n",
      "Decision Tree Classifier - Test ROC AUC Score: 0.9521 \n"
     ]
    }
   ],
   "source": [
    "dtree_auc_train = roc_auc_score(y_train, grid.predict(X_reduced_train))\n",
    "dtree_auc_test = roc_auc_score(y_test, grid.predict(X_reduced_test))\n",
    "\n",
    "print('Decision Tree Classifier - Train ROC AUC Score: %.4f'%dtree_auc_train)\n",
    "print('Decision Tree Classifier - Test ROC AUC Score: %.4f '%dtree_auc_test)"
   ]
  },
  {
   "cell_type": "code",
   "execution_count": 86,
   "metadata": {},
   "outputs": [
    {
     "name": "stdout",
     "output_type": "stream",
     "text": [
      "              precision    recall  f1-score   support\n",
      "\n",
      "           0       0.95      1.00      0.97       121\n",
      "           1       1.00      0.90      0.95        73\n",
      "\n",
      "   micro avg       0.96      0.96      0.96       194\n",
      "   macro avg       0.97      0.95      0.96       194\n",
      "weighted avg       0.97      0.96      0.96       194\n",
      "\n"
     ]
    }
   ],
   "source": [
    "pred = grid.predict(X_reduced_test)\n",
    "print(classification_report(y_test, pred))"
   ]
  },
  {
   "cell_type": "code",
   "execution_count": 87,
   "metadata": {},
   "outputs": [],
   "source": [
    "report_table = report_table +[['Decision Tree Classification', 'max_depth=4, max_features=3',\n",
    "                               dtree_accuracy_train, dtree_accuracy_test, dtree_auc_train, dtree_auc_test]]"
   ]
  },
  {
   "cell_type": "code",
   "execution_count": 88,
   "metadata": {},
   "outputs": [],
   "source": [
    "report_table = pd.DataFrame(report_table, columns = ['Model Name', 'Model Parameter', 'Train Accuracy', 'Test Accuracy', 'Train AUC Score', 'Test AUC Score'])\n",
    "report_table.index = report_table['Model Name']\n",
    "report_table.drop(['Model Name'],axis=1,inplace=True)"
   ]
  },
  {
   "cell_type": "code",
   "execution_count": 89,
   "metadata": {},
   "outputs": [
    {
     "data": {
      "text/html": [
       "<div>\n",
       "<style scoped>\n",
       "    .dataframe tbody tr th:only-of-type {\n",
       "        vertical-align: middle;\n",
       "    }\n",
       "\n",
       "    .dataframe tbody tr th {\n",
       "        vertical-align: top;\n",
       "    }\n",
       "\n",
       "    .dataframe thead th {\n",
       "        text-align: right;\n",
       "    }\n",
       "</style>\n",
       "<table border=\"1\" class=\"dataframe\">\n",
       "  <thead>\n",
       "    <tr style=\"text-align: right;\">\n",
       "      <th></th>\n",
       "      <th>Model Parameter</th>\n",
       "      <th>Train Accuracy</th>\n",
       "      <th>Test Accuracy</th>\n",
       "      <th>Train AUC Score</th>\n",
       "      <th>Test AUC Score</th>\n",
       "    </tr>\n",
       "    <tr>\n",
       "      <th>Model Name</th>\n",
       "      <th></th>\n",
       "      <th></th>\n",
       "      <th></th>\n",
       "      <th></th>\n",
       "      <th></th>\n",
       "    </tr>\n",
       "  </thead>\n",
       "  <tbody>\n",
       "    <tr>\n",
       "      <th>Logistic Regression</th>\n",
       "      <td>C=100, penalty=l2</td>\n",
       "      <td>0.967185</td>\n",
       "      <td>0.979381</td>\n",
       "      <td>0.964051</td>\n",
       "      <td>0.972603</td>\n",
       "    </tr>\n",
       "    <tr>\n",
       "      <th>Linear SVC</th>\n",
       "      <td>C=100, penalty=l2</td>\n",
       "      <td>0.967185</td>\n",
       "      <td>0.974227</td>\n",
       "      <td>0.964051</td>\n",
       "      <td>0.968471</td>\n",
       "    </tr>\n",
       "    <tr>\n",
       "      <th>Decision Tree Classification</th>\n",
       "      <td>max_depth=4, max_features=3</td>\n",
       "      <td>0.970639</td>\n",
       "      <td>0.963918</td>\n",
       "      <td>0.966219</td>\n",
       "      <td>0.952055</td>\n",
       "    </tr>\n",
       "    <tr>\n",
       "      <th>KNN</th>\n",
       "      <td>n=7</td>\n",
       "      <td>0.963731</td>\n",
       "      <td>0.943299</td>\n",
       "      <td>0.957598</td>\n",
       "      <td>0.924658</td>\n",
       "    </tr>\n",
       "    <tr>\n",
       "      <th>rbf Kernelized Support Vector Machine</th>\n",
       "      <td>C=0.001,gamma=1</td>\n",
       "      <td>0.599309</td>\n",
       "      <td>0.623711</td>\n",
       "      <td>0.500000</td>\n",
       "      <td>0.500000</td>\n",
       "    </tr>\n",
       "  </tbody>\n",
       "</table>\n",
       "</div>"
      ],
      "text/plain": [
       "                                                   Model Parameter  \\\n",
       "Model Name                                                           \n",
       "Logistic Regression                              C=100, penalty=l2   \n",
       "Linear SVC                                       C=100, penalty=l2   \n",
       "Decision Tree Classification           max_depth=4, max_features=3   \n",
       "KNN                                                            n=7   \n",
       "rbf Kernelized Support Vector Machine              C=0.001,gamma=1   \n",
       "\n",
       "                                       Train Accuracy  Test Accuracy  \\\n",
       "Model Name                                                             \n",
       "Logistic Regression                          0.967185       0.979381   \n",
       "Linear SVC                                   0.967185       0.974227   \n",
       "Decision Tree Classification                 0.970639       0.963918   \n",
       "KNN                                          0.963731       0.943299   \n",
       "rbf Kernelized Support Vector Machine        0.599309       0.623711   \n",
       "\n",
       "                                       Train AUC Score  Test AUC Score  \n",
       "Model Name                                                              \n",
       "Logistic Regression                           0.964051        0.972603  \n",
       "Linear SVC                                    0.964051        0.968471  \n",
       "Decision Tree Classification                  0.966219        0.952055  \n",
       "KNN                                           0.957598        0.924658  \n",
       "rbf Kernelized Support Vector Machine         0.500000        0.500000  "
      ]
     },
     "execution_count": 89,
     "metadata": {},
     "output_type": "execute_result"
    }
   ],
   "source": [
    "report_table.sort_values(by=['Test Accuracy','Test AUC Score'], ascending = False)"
   ]
  },
  {
   "cell_type": "code",
   "execution_count": 90,
   "metadata": {},
   "outputs": [
    {
     "data": {
      "text/plain": [
       "<matplotlib.axes._subplots.AxesSubplot at 0x25811534080>"
      ]
     },
     "execution_count": 90,
     "metadata": {},
     "output_type": "execute_result"
    },
    {
     "data": {
      "image/png": "[encoded data removed]",
      "text/plain": [
       "<Figure size 432x288 with 1 Axes>"
      ]
     },
     "metadata": {},
     "output_type": "display_data"
    }
   ],
   "source": [
    "sns.barplot(y =report_table.index, x = 'Test AUC Score', data= report_table.sort_values(by='Test AUC Score', ascending=False))"
   ]
  },
  {
   "cell_type": "markdown",
   "metadata": {},
   "source": [
    "Result from Project 1\n",
    "<img src=\"Result1.png\">"
   ]
  },
  {
   "cell_type": "markdown",
   "metadata": {},
   "source": [
    "PCA result is not better than the one from Project 1 on Classification Task"
   ]
  },
  {
   "cell_type": "markdown",
   "metadata": {},
   "source": [
    "### (6) Deep Learning Task"
   ]
  },
  {
   "cell_type": "code",
   "execution_count": 125,
   "metadata": {},
   "outputs": [],
   "source": [
    "from keras.wrappers.scikit_learn import KerasClassifier\n",
    "\n",
    "def create_model():\n",
    "    # Defining model\n",
    "    model = Sequential()\n",
    "    model.add(Dense(12, input_dim=30,activation='relu'))\n",
    "    model.add(Dense(8, activation='relu'))\n",
    "    model.add(Dense(1, activation='sigmoid'))\n",
    "    # Compiling model\n",
    "    model.compile(loss='binary_crossentropy', optimizer='adam', metrics=['accuracy'])\n",
    "    return model"
   ]
  },
  {
   "cell_type": "code",
   "execution_count": 126,
   "metadata": {},
   "outputs": [],
   "source": [
    "model = KerasClassifier(build_fn= create_model, verbose=0)\n",
    "param_grid = {'batch_size':[5,10,25,50], 'epochs':[10, 50,100]}\n",
    "grid_search = GridSearchCV(estimator=model, param_grid=param_grid, cv=5)"
   ]
  },
  {
   "cell_type": "code",
   "execution_count": 127,
   "metadata": {},
   "outputs": [],
   "source": [
    "# Fitting model\n",
    "grid_search_result = grid_search.fit(X_train, y_train)"
   ]
  },
  {
   "cell_type": "code",
   "execution_count": 132,
   "metadata": {},
   "outputs": [
    {
     "name": "stdout",
     "output_type": "stream",
     "text": [
      "Best parameters: {'batch_size': 5, 'epochs': 100}\n",
      "Best cross-validation score: 0.99\n",
      "\n"
     ]
    }
   ],
   "source": [
    "print(\"Best parameters: {}\".format(grid_search_result.best_params_))\n",
    "print(\"Best cross-validation score: {:.2f}\".format(grid_search_result.best_score_))\n",
    "print()"
   ]
  },
  {
   "cell_type": "code",
   "execution_count": 134,
   "metadata": {},
   "outputs": [
    {
     "name": "stdout",
     "output_type": "stream",
     "text": [
      "Deep Learning - Train Accuracy: 0.9948\n",
      "Deep Learning - Test Accuracy: 0.9897 \n"
     ]
    }
   ],
   "source": [
    "dl_accuracy_train = grid_search_result.best_estimator_.score(X_train, y_train)\n",
    "dl_accuracy_test = grid_search_result.best_estimator_.score(X_test, y_test)\n",
    "\n",
    "print('Deep Learning - Train Accuracy: %.4f'%dl_accuracy_train)\n",
    "print('Deep Learning - Test Accuracy: %.4f '%dl_accuracy_test)"
   ]
  },
  {
   "cell_type": "markdown",
   "metadata": {},
   "source": [
    "dl_train_score = grid_search_result.best_estimator_.score(X_train, y_train)\n",
    "dl_test_score = grid_search_result.best_estimator_.score(X_test, y_test)\n",
    "\n",
    "print('Deep Learning - Train Score: %.2f'%dl_train_score)\n",
    "print('Deep Learning - Test Score: %.2f '%dl_test_score)"
   ]
  },
  {
   "cell_type": "code",
   "execution_count": 138,
   "metadata": {},
   "outputs": [
    {
     "name": "stdout",
     "output_type": "stream",
     "text": [
      "Deep Learning - ROC AUC Score 0.9950\n",
      "Deep Learning - ROC AUC Score 0.9890\n"
     ]
    }
   ],
   "source": [
    "grid_train_pred = grid_search_result.predict(X_train)\n",
    "grid_test_pred = grid_search_result.predict(X_test)\n",
    "\n",
    "print('Deep Learning - ROC AUC Score {:.4f}'.format(roc_auc_score(y_train, grid_train_pred)))\n",
    "print('Deep Learning - ROC AUC Score {:.4f}'.format(roc_auc_score(y_test, grid_test_pred)))"
   ]
  },
  {
   "cell_type": "code",
   "execution_count": null,
   "metadata": {},
   "outputs": [],
   "source": []
  }
 ],
 "metadata": {
  "kernelspec": {
   "display_name": "Python 3",
   "language": "python",
   "name": "python3"
  },
  "language_info": {
   "codemirror_mode": {
    "name": "ipython",
    "version": 3
   },
   "file_extension": ".py",
   "mimetype": "text/x-python",
   "name": "python",
   "nbconvert_exporter": "python",
   "pygments_lexer": "ipython3",
   "version": "3.6.4"
  }
 },
 "nbformat": 4,
 "nbformat_minor": 2
}
