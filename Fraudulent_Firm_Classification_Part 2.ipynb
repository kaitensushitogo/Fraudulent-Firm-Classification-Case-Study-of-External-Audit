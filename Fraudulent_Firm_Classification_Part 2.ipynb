{
 "cells": [
  {
   "cell_type": "markdown",
   "metadata": {},
   "source": [
    "---\n",
    "### Data Set Information:\n",
    "This dataset is taken from a research explained here. \n",
    "\n",
    "The goal of the research is to help the auditors by building a classification model that can predict the fraudulent firm on the basis the present and historical risk factors. The information about the sectors and the counts of firms are listed respectively as Irrigation (114), Public Health (77), Buildings and Roads (82), Forest (70), Corporate (47), Animal Husbandry (95), Communication (1), Electrical (4), Land (5), Science and Technology (3), Tourism (1), Fisheries (41), Industries (37), Agriculture (200).\n",
    "\n",
    "There are two csv files to present data. Please merge these two datasets into one dataframe. All the steps should be done in Python. Please don't make any changes in csv files. Consider ``Audit_Risk`` as target columns for regression tasks, and ``Risk`` as the target column for classification tasks. \n",
    "\n",
    "### Attribute Information:\n",
    "Many risk factors are examined from various areas like past records of audit office, audit-paras, environmental conditions reports, firm reputation summary, on-going issues report, profit-value records, loss-value records, follow-up reports etc. After in-depth interview with the auditors, important risk factors are evaluated and their probability of existence is calculated from the present and past records.\n",
    "\n",
    "\n",
    "### Relevant Papers:\n",
    "Hooda, Nishtha, Seema Bawa, and Prashant Singh Rana. 'Fraudulent Firm Classification: A Case Study of an External Audit.' Applied Artificial Intelligence 32.1 (2018): 48-64."
   ]
  },
  {
   "cell_type": "markdown",
   "metadata": {},
   "source": [
    "## Data Preparation"
   ]
  },
  {
   "cell_type": "code",
   "execution_count": null,
   "metadata": {},
   "outputs": [],
   "source": [
    "import pandas as pd\n",
    "import numpy as np\n",
    "import matplotlib.pyplot as plt\n",
    "import seaborn as sns\n",
    "import warnings\n",
    "warnings.filterwarnings('ignore')\n",
    "%matplotlib inline"
   ]
  },
  {
   "cell_type": "code",
   "execution_count": 3,
   "metadata": {},
   "outputs": [],
   "source": [
    "# loading datasets\n",
    "audit_risk = pd.read_csv('audit_risk.csv')\n",
    "trial = pd.read_csv('trial.csv')"
   ]
  },
  {
   "cell_type": "code",
   "execution_count": 4,
   "metadata": {},
   "outputs": [
    {
     "name": "stdout",
     "output_type": "stream",
     "text": [
      "(776, 27)\n",
      "(776, 18)\n"
     ]
    }
   ],
   "source": [
    "# Exploring datasets\n",
    "print(audit_risk.shape)\n",
    "print(trial.shape)"
   ]
  },
  {
   "cell_type": "code",
   "execution_count": 5,
   "metadata": {},
   "outputs": [
    {
     "name": "stdout",
     "output_type": "stream",
     "text": [
      "<class 'pandas.core.frame.DataFrame'>\n",
      "RangeIndex: 776 entries, 0 to 775\n",
      "Data columns (total 27 columns):\n",
      "Sector_score      776 non-null float64\n",
      "LOCATION_ID       776 non-null object\n",
      "PARA_A            776 non-null float64\n",
      "Score_A           776 non-null float64\n",
      "Risk_A            776 non-null float64\n",
      "PARA_B            776 non-null float64\n",
      "Score_B           776 non-null float64\n",
      "Risk_B            776 non-null float64\n",
      "TOTAL             776 non-null float64\n",
      "numbers           776 non-null float64\n",
      "Score_B.1         776 non-null float64\n",
      "Risk_C            776 non-null float64\n",
      "Money_Value       775 non-null float64\n",
      "Score_MV          776 non-null float64\n",
      "Risk_D            776 non-null float64\n",
      "District_Loss     776 non-null int64\n",
      "PROB              776 non-null float64\n",
      "RiSk_E            776 non-null float64\n",
      "History           776 non-null int64\n",
      "Prob              776 non-null float64\n",
      "Risk_F            776 non-null float64\n",
      "Score             776 non-null float64\n",
      "Inherent_Risk     776 non-null float64\n",
      "CONTROL_RISK      776 non-null float64\n",
      "Detection_Risk    776 non-null float64\n",
      "Audit_Risk        776 non-null float64\n",
      "Risk              776 non-null int64\n",
      "dtypes: float64(23), int64(3), object(1)\n",
      "memory usage: 163.8+ KB\n"
     ]
    }
   ],
   "source": [
    "audit_risk.info() \n",
    "#one missing values in Money_Value, and Location_ID dtype is object; need to be fixed"
   ]
  },
  {
   "cell_type": "code",
   "execution_count": 6,
   "metadata": {},
   "outputs": [
    {
     "data": {
      "text/html": [
       "<div>\n",
       "<style scoped>\n",
       "    .dataframe tbody tr th:only-of-type {\n",
       "        vertical-align: middle;\n",
       "    }\n",
       "\n",
       "    .dataframe tbody tr th {\n",
       "        vertical-align: top;\n",
       "    }\n",
       "\n",
       "    .dataframe thead th {\n",
       "        text-align: right;\n",
       "    }\n",
       "</style>\n",
       "<table border=\"1\" class=\"dataframe\">\n",
       "  <thead>\n",
       "    <tr style=\"text-align: right;\">\n",
       "      <th></th>\n",
       "      <th>Sector_score</th>\n",
       "      <th>PARA_A</th>\n",
       "      <th>Score_A</th>\n",
       "      <th>Risk_A</th>\n",
       "      <th>PARA_B</th>\n",
       "      <th>Score_B</th>\n",
       "      <th>Risk_B</th>\n",
       "      <th>TOTAL</th>\n",
       "      <th>numbers</th>\n",
       "      <th>Score_B.1</th>\n",
       "      <th>...</th>\n",
       "      <th>RiSk_E</th>\n",
       "      <th>History</th>\n",
       "      <th>Prob</th>\n",
       "      <th>Risk_F</th>\n",
       "      <th>Score</th>\n",
       "      <th>Inherent_Risk</th>\n",
       "      <th>CONTROL_RISK</th>\n",
       "      <th>Detection_Risk</th>\n",
       "      <th>Audit_Risk</th>\n",
       "      <th>Risk</th>\n",
       "    </tr>\n",
       "  </thead>\n",
       "  <tbody>\n",
       "    <tr>\n",
       "      <th>count</th>\n",
       "      <td>776.000000</td>\n",
       "      <td>776.000000</td>\n",
       "      <td>776.000000</td>\n",
       "      <td>776.000000</td>\n",
       "      <td>776.000000</td>\n",
       "      <td>776.000000</td>\n",
       "      <td>776.000000</td>\n",
       "      <td>776.000000</td>\n",
       "      <td>776.000000</td>\n",
       "      <td>776.000000</td>\n",
       "      <td>...</td>\n",
       "      <td>776.000000</td>\n",
       "      <td>776.000000</td>\n",
       "      <td>776.000000</td>\n",
       "      <td>776.000000</td>\n",
       "      <td>776.000000</td>\n",
       "      <td>776.000000</td>\n",
       "      <td>776.000000</td>\n",
       "      <td>776.0</td>\n",
       "      <td>776.000000</td>\n",
       "      <td>776.000000</td>\n",
       "    </tr>\n",
       "    <tr>\n",
       "      <th>mean</th>\n",
       "      <td>20.184536</td>\n",
       "      <td>2.450194</td>\n",
       "      <td>0.351289</td>\n",
       "      <td>1.351029</td>\n",
       "      <td>10.799988</td>\n",
       "      <td>0.313144</td>\n",
       "      <td>6.334008</td>\n",
       "      <td>13.218481</td>\n",
       "      <td>5.067655</td>\n",
       "      <td>0.223711</td>\n",
       "      <td>...</td>\n",
       "      <td>0.519072</td>\n",
       "      <td>0.104381</td>\n",
       "      <td>0.216753</td>\n",
       "      <td>0.053608</td>\n",
       "      <td>2.702577</td>\n",
       "      <td>17.680612</td>\n",
       "      <td>0.572680</td>\n",
       "      <td>0.5</td>\n",
       "      <td>7.168158</td>\n",
       "      <td>0.393041</td>\n",
       "    </tr>\n",
       "    <tr>\n",
       "      <th>std</th>\n",
       "      <td>24.319017</td>\n",
       "      <td>5.678870</td>\n",
       "      <td>0.174055</td>\n",
       "      <td>3.440447</td>\n",
       "      <td>50.083624</td>\n",
       "      <td>0.169804</td>\n",
       "      <td>30.072845</td>\n",
       "      <td>51.312829</td>\n",
       "      <td>0.264449</td>\n",
       "      <td>0.080352</td>\n",
       "      <td>...</td>\n",
       "      <td>0.290312</td>\n",
       "      <td>0.531031</td>\n",
       "      <td>0.067987</td>\n",
       "      <td>0.305835</td>\n",
       "      <td>0.858923</td>\n",
       "      <td>54.740244</td>\n",
       "      <td>0.444581</td>\n",
       "      <td>0.0</td>\n",
       "      <td>38.667494</td>\n",
       "      <td>0.488741</td>\n",
       "    </tr>\n",
       "    <tr>\n",
       "      <th>min</th>\n",
       "      <td>1.850000</td>\n",
       "      <td>0.000000</td>\n",
       "      <td>0.200000</td>\n",
       "      <td>0.000000</td>\n",
       "      <td>0.000000</td>\n",
       "      <td>0.200000</td>\n",
       "      <td>0.000000</td>\n",
       "      <td>0.000000</td>\n",
       "      <td>5.000000</td>\n",
       "      <td>0.200000</td>\n",
       "      <td>...</td>\n",
       "      <td>0.400000</td>\n",
       "      <td>0.000000</td>\n",
       "      <td>0.200000</td>\n",
       "      <td>0.000000</td>\n",
       "      <td>2.000000</td>\n",
       "      <td>1.400000</td>\n",
       "      <td>0.400000</td>\n",
       "      <td>0.5</td>\n",
       "      <td>0.280000</td>\n",
       "      <td>0.000000</td>\n",
       "    </tr>\n",
       "    <tr>\n",
       "      <th>25%</th>\n",
       "      <td>2.370000</td>\n",
       "      <td>0.210000</td>\n",
       "      <td>0.200000</td>\n",
       "      <td>0.042000</td>\n",
       "      <td>0.000000</td>\n",
       "      <td>0.200000</td>\n",
       "      <td>0.000000</td>\n",
       "      <td>0.537500</td>\n",
       "      <td>5.000000</td>\n",
       "      <td>0.200000</td>\n",
       "      <td>...</td>\n",
       "      <td>0.400000</td>\n",
       "      <td>0.000000</td>\n",
       "      <td>0.200000</td>\n",
       "      <td>0.000000</td>\n",
       "      <td>2.000000</td>\n",
       "      <td>1.583500</td>\n",
       "      <td>0.400000</td>\n",
       "      <td>0.5</td>\n",
       "      <td>0.316700</td>\n",
       "      <td>0.000000</td>\n",
       "    </tr>\n",
       "    <tr>\n",
       "      <th>50%</th>\n",
       "      <td>3.890000</td>\n",
       "      <td>0.875000</td>\n",
       "      <td>0.200000</td>\n",
       "      <td>0.175000</td>\n",
       "      <td>0.405000</td>\n",
       "      <td>0.200000</td>\n",
       "      <td>0.081000</td>\n",
       "      <td>1.370000</td>\n",
       "      <td>5.000000</td>\n",
       "      <td>0.200000</td>\n",
       "      <td>...</td>\n",
       "      <td>0.400000</td>\n",
       "      <td>0.000000</td>\n",
       "      <td>0.200000</td>\n",
       "      <td>0.000000</td>\n",
       "      <td>2.400000</td>\n",
       "      <td>2.214000</td>\n",
       "      <td>0.400000</td>\n",
       "      <td>0.5</td>\n",
       "      <td>0.555600</td>\n",
       "      <td>0.000000</td>\n",
       "    </tr>\n",
       "    <tr>\n",
       "      <th>75%</th>\n",
       "      <td>55.570000</td>\n",
       "      <td>2.480000</td>\n",
       "      <td>0.600000</td>\n",
       "      <td>1.488000</td>\n",
       "      <td>4.160000</td>\n",
       "      <td>0.400000</td>\n",
       "      <td>1.840500</td>\n",
       "      <td>7.707500</td>\n",
       "      <td>5.000000</td>\n",
       "      <td>0.200000</td>\n",
       "      <td>...</td>\n",
       "      <td>0.400000</td>\n",
       "      <td>0.000000</td>\n",
       "      <td>0.200000</td>\n",
       "      <td>0.000000</td>\n",
       "      <td>3.250000</td>\n",
       "      <td>10.663500</td>\n",
       "      <td>0.400000</td>\n",
       "      <td>0.5</td>\n",
       "      <td>3.249900</td>\n",
       "      <td>1.000000</td>\n",
       "    </tr>\n",
       "    <tr>\n",
       "      <th>max</th>\n",
       "      <td>59.850000</td>\n",
       "      <td>85.000000</td>\n",
       "      <td>0.600000</td>\n",
       "      <td>51.000000</td>\n",
       "      <td>1264.630000</td>\n",
       "      <td>0.600000</td>\n",
       "      <td>758.778000</td>\n",
       "      <td>1268.910000</td>\n",
       "      <td>9.000000</td>\n",
       "      <td>0.600000</td>\n",
       "      <td>...</td>\n",
       "      <td>2.400000</td>\n",
       "      <td>9.000000</td>\n",
       "      <td>0.600000</td>\n",
       "      <td>5.400000</td>\n",
       "      <td>5.200000</td>\n",
       "      <td>801.262000</td>\n",
       "      <td>5.800000</td>\n",
       "      <td>0.5</td>\n",
       "      <td>961.514400</td>\n",
       "      <td>1.000000</td>\n",
       "    </tr>\n",
       "  </tbody>\n",
       "</table>\n",
       "<p>8 rows × 26 columns</p>\n",
       "</div>"
      ],
      "text/plain": [
       "       Sector_score      PARA_A     Score_A      Risk_A       PARA_B  \\\n",
       "count    776.000000  776.000000  776.000000  776.000000   776.000000   \n",
       "mean      20.184536    2.450194    0.351289    1.351029    10.799988   \n",
       "std       24.319017    5.678870    0.174055    3.440447    50.083624   \n",
       "min        1.850000    0.000000    0.200000    0.000000     0.000000   \n",
       "25%        2.370000    0.210000    0.200000    0.042000     0.000000   \n",
       "50%        3.890000    0.875000    0.200000    0.175000     0.405000   \n",
       "75%       55.570000    2.480000    0.600000    1.488000     4.160000   \n",
       "max       59.850000   85.000000    0.600000   51.000000  1264.630000   \n",
       "\n",
       "          Score_B      Risk_B        TOTAL     numbers   Score_B.1  ...  \\\n",
       "count  776.000000  776.000000   776.000000  776.000000  776.000000  ...   \n",
       "mean     0.313144    6.334008    13.218481    5.067655    0.223711  ...   \n",
       "std      0.169804   30.072845    51.312829    0.264449    0.080352  ...   \n",
       "min      0.200000    0.000000     0.000000    5.000000    0.200000  ...   \n",
       "25%      0.200000    0.000000     0.537500    5.000000    0.200000  ...   \n",
       "50%      0.200000    0.081000     1.370000    5.000000    0.200000  ...   \n",
       "75%      0.400000    1.840500     7.707500    5.000000    0.200000  ...   \n",
       "max      0.600000  758.778000  1268.910000    9.000000    0.600000  ...   \n",
       "\n",
       "           RiSk_E     History        Prob      Risk_F       Score  \\\n",
       "count  776.000000  776.000000  776.000000  776.000000  776.000000   \n",
       "mean     0.519072    0.104381    0.216753    0.053608    2.702577   \n",
       "std      0.290312    0.531031    0.067987    0.305835    0.858923   \n",
       "min      0.400000    0.000000    0.200000    0.000000    2.000000   \n",
       "25%      0.400000    0.000000    0.200000    0.000000    2.000000   \n",
       "50%      0.400000    0.000000    0.200000    0.000000    2.400000   \n",
       "75%      0.400000    0.000000    0.200000    0.000000    3.250000   \n",
       "max      2.400000    9.000000    0.600000    5.400000    5.200000   \n",
       "\n",
       "       Inherent_Risk  CONTROL_RISK  Detection_Risk  Audit_Risk        Risk  \n",
       "count     776.000000    776.000000           776.0  776.000000  776.000000  \n",
       "mean       17.680612      0.572680             0.5    7.168158    0.393041  \n",
       "std        54.740244      0.444581             0.0   38.667494    0.488741  \n",
       "min         1.400000      0.400000             0.5    0.280000    0.000000  \n",
       "25%         1.583500      0.400000             0.5    0.316700    0.000000  \n",
       "50%         2.214000      0.400000             0.5    0.555600    0.000000  \n",
       "75%        10.663500      0.400000             0.5    3.249900    1.000000  \n",
       "max       801.262000      5.800000             0.5  961.514400    1.000000  \n",
       "\n",
       "[8 rows x 26 columns]"
      ]
     },
     "execution_count": 6,
     "metadata": {},
     "output_type": "execute_result"
    }
   ],
   "source": [
    "audit_risk.describe()"
   ]
  },
  {
   "cell_type": "code",
   "execution_count": 7,
   "metadata": {},
   "outputs": [
    {
     "name": "stdout",
     "output_type": "stream",
     "text": [
      "<class 'pandas.core.frame.DataFrame'>\n",
      "RangeIndex: 776 entries, 0 to 775\n",
      "Data columns (total 18 columns):\n",
      "Sector_score     776 non-null float64\n",
      "LOCATION_ID      776 non-null object\n",
      "PARA_A           776 non-null float64\n",
      "SCORE_A          776 non-null int64\n",
      "PARA_B           776 non-null float64\n",
      "SCORE_B          776 non-null int64\n",
      "TOTAL            776 non-null float64\n",
      "numbers          776 non-null float64\n",
      "Marks            776 non-null int64\n",
      "Money_Value      775 non-null float64\n",
      "MONEY_Marks      776 non-null int64\n",
      "District         776 non-null int64\n",
      "Loss             776 non-null int64\n",
      "LOSS_SCORE       776 non-null int64\n",
      "History          776 non-null int64\n",
      "History_score    776 non-null int64\n",
      "Score            776 non-null float64\n",
      "Risk             776 non-null int64\n",
      "dtypes: float64(7), int64(10), object(1)\n",
      "memory usage: 109.2+ KB\n"
     ]
    }
   ],
   "source": [
    "trial.info() #No missing values but Location_ID is object; need to be fixed"
   ]
  },
  {
   "cell_type": "code",
   "execution_count": 8,
   "metadata": {},
   "outputs": [
    {
     "data": {
      "text/html": [
       "<div>\n",
       "<style scoped>\n",
       "    .dataframe tbody tr th:only-of-type {\n",
       "        vertical-align: middle;\n",
       "    }\n",
       "\n",
       "    .dataframe tbody tr th {\n",
       "        vertical-align: top;\n",
       "    }\n",
       "\n",
       "    .dataframe thead th {\n",
       "        text-align: right;\n",
       "    }\n",
       "</style>\n",
       "<table border=\"1\" class=\"dataframe\">\n",
       "  <thead>\n",
       "    <tr style=\"text-align: right;\">\n",
       "      <th></th>\n",
       "      <th>Sector_score</th>\n",
       "      <th>PARA_A</th>\n",
       "      <th>SCORE_A</th>\n",
       "      <th>PARA_B</th>\n",
       "      <th>SCORE_B</th>\n",
       "      <th>TOTAL</th>\n",
       "      <th>numbers</th>\n",
       "      <th>Marks</th>\n",
       "      <th>Money_Value</th>\n",
       "      <th>MONEY_Marks</th>\n",
       "      <th>District</th>\n",
       "      <th>Loss</th>\n",
       "      <th>LOSS_SCORE</th>\n",
       "      <th>History</th>\n",
       "      <th>History_score</th>\n",
       "      <th>Score</th>\n",
       "      <th>Risk</th>\n",
       "    </tr>\n",
       "  </thead>\n",
       "  <tbody>\n",
       "    <tr>\n",
       "      <th>count</th>\n",
       "      <td>776.000000</td>\n",
       "      <td>776.000000</td>\n",
       "      <td>776.000000</td>\n",
       "      <td>776.000000</td>\n",
       "      <td>776.000000</td>\n",
       "      <td>776.000000</td>\n",
       "      <td>776.000000</td>\n",
       "      <td>776.000000</td>\n",
       "      <td>775.000000</td>\n",
       "      <td>776.000000</td>\n",
       "      <td>776.000000</td>\n",
       "      <td>776.000000</td>\n",
       "      <td>776.000000</td>\n",
       "      <td>776.000000</td>\n",
       "      <td>776.000000</td>\n",
       "      <td>776.000000</td>\n",
       "      <td>776.000000</td>\n",
       "    </tr>\n",
       "    <tr>\n",
       "      <th>mean</th>\n",
       "      <td>20.184536</td>\n",
       "      <td>2.450194</td>\n",
       "      <td>3.512887</td>\n",
       "      <td>10.799988</td>\n",
       "      <td>3.131443</td>\n",
       "      <td>13.218481</td>\n",
       "      <td>5.067655</td>\n",
       "      <td>2.237113</td>\n",
       "      <td>14.137631</td>\n",
       "      <td>2.909794</td>\n",
       "      <td>2.505155</td>\n",
       "      <td>0.029639</td>\n",
       "      <td>2.061856</td>\n",
       "      <td>0.104381</td>\n",
       "      <td>2.167526</td>\n",
       "      <td>2.702577</td>\n",
       "      <td>0.626289</td>\n",
       "    </tr>\n",
       "    <tr>\n",
       "      <th>std</th>\n",
       "      <td>24.319017</td>\n",
       "      <td>5.678870</td>\n",
       "      <td>1.740549</td>\n",
       "      <td>50.083624</td>\n",
       "      <td>1.698042</td>\n",
       "      <td>51.312829</td>\n",
       "      <td>0.264449</td>\n",
       "      <td>0.803517</td>\n",
       "      <td>66.606519</td>\n",
       "      <td>1.597452</td>\n",
       "      <td>1.228678</td>\n",
       "      <td>0.184280</td>\n",
       "      <td>0.375080</td>\n",
       "      <td>0.531031</td>\n",
       "      <td>0.679869</td>\n",
       "      <td>0.858923</td>\n",
       "      <td>0.484100</td>\n",
       "    </tr>\n",
       "    <tr>\n",
       "      <th>min</th>\n",
       "      <td>1.850000</td>\n",
       "      <td>0.000000</td>\n",
       "      <td>2.000000</td>\n",
       "      <td>0.000000</td>\n",
       "      <td>2.000000</td>\n",
       "      <td>0.000000</td>\n",
       "      <td>5.000000</td>\n",
       "      <td>2.000000</td>\n",
       "      <td>0.000000</td>\n",
       "      <td>2.000000</td>\n",
       "      <td>2.000000</td>\n",
       "      <td>0.000000</td>\n",
       "      <td>2.000000</td>\n",
       "      <td>0.000000</td>\n",
       "      <td>2.000000</td>\n",
       "      <td>2.000000</td>\n",
       "      <td>0.000000</td>\n",
       "    </tr>\n",
       "    <tr>\n",
       "      <th>25%</th>\n",
       "      <td>2.370000</td>\n",
       "      <td>0.210000</td>\n",
       "      <td>2.000000</td>\n",
       "      <td>0.000000</td>\n",
       "      <td>2.000000</td>\n",
       "      <td>0.537500</td>\n",
       "      <td>5.000000</td>\n",
       "      <td>2.000000</td>\n",
       "      <td>0.000000</td>\n",
       "      <td>2.000000</td>\n",
       "      <td>2.000000</td>\n",
       "      <td>0.000000</td>\n",
       "      <td>2.000000</td>\n",
       "      <td>0.000000</td>\n",
       "      <td>2.000000</td>\n",
       "      <td>2.000000</td>\n",
       "      <td>0.000000</td>\n",
       "    </tr>\n",
       "    <tr>\n",
       "      <th>50%</th>\n",
       "      <td>3.890000</td>\n",
       "      <td>0.875000</td>\n",
       "      <td>2.000000</td>\n",
       "      <td>0.405000</td>\n",
       "      <td>2.000000</td>\n",
       "      <td>1.370000</td>\n",
       "      <td>5.000000</td>\n",
       "      <td>2.000000</td>\n",
       "      <td>0.090000</td>\n",
       "      <td>2.000000</td>\n",
       "      <td>2.000000</td>\n",
       "      <td>0.000000</td>\n",
       "      <td>2.000000</td>\n",
       "      <td>0.000000</td>\n",
       "      <td>2.000000</td>\n",
       "      <td>2.400000</td>\n",
       "      <td>1.000000</td>\n",
       "    </tr>\n",
       "    <tr>\n",
       "      <th>75%</th>\n",
       "      <td>55.570000</td>\n",
       "      <td>2.480000</td>\n",
       "      <td>6.000000</td>\n",
       "      <td>4.160000</td>\n",
       "      <td>4.000000</td>\n",
       "      <td>7.707500</td>\n",
       "      <td>5.000000</td>\n",
       "      <td>2.000000</td>\n",
       "      <td>5.595000</td>\n",
       "      <td>4.000000</td>\n",
       "      <td>2.000000</td>\n",
       "      <td>0.000000</td>\n",
       "      <td>2.000000</td>\n",
       "      <td>0.000000</td>\n",
       "      <td>2.000000</td>\n",
       "      <td>3.250000</td>\n",
       "      <td>1.000000</td>\n",
       "    </tr>\n",
       "    <tr>\n",
       "      <th>max</th>\n",
       "      <td>59.850000</td>\n",
       "      <td>85.000000</td>\n",
       "      <td>6.000000</td>\n",
       "      <td>1264.630000</td>\n",
       "      <td>6.000000</td>\n",
       "      <td>1268.910000</td>\n",
       "      <td>9.000000</td>\n",
       "      <td>6.000000</td>\n",
       "      <td>935.030000</td>\n",
       "      <td>6.000000</td>\n",
       "      <td>6.000000</td>\n",
       "      <td>2.000000</td>\n",
       "      <td>6.000000</td>\n",
       "      <td>9.000000</td>\n",
       "      <td>6.000000</td>\n",
       "      <td>5.200000</td>\n",
       "      <td>1.000000</td>\n",
       "    </tr>\n",
       "  </tbody>\n",
       "</table>\n",
       "</div>"
      ],
      "text/plain": [
       "       Sector_score      PARA_A     SCORE_A       PARA_B     SCORE_B  \\\n",
       "count    776.000000  776.000000  776.000000   776.000000  776.000000   \n",
       "mean      20.184536    2.450194    3.512887    10.799988    3.131443   \n",
       "std       24.319017    5.678870    1.740549    50.083624    1.698042   \n",
       "min        1.850000    0.000000    2.000000     0.000000    2.000000   \n",
       "25%        2.370000    0.210000    2.000000     0.000000    2.000000   \n",
       "50%        3.890000    0.875000    2.000000     0.405000    2.000000   \n",
       "75%       55.570000    2.480000    6.000000     4.160000    4.000000   \n",
       "max       59.850000   85.000000    6.000000  1264.630000    6.000000   \n",
       "\n",
       "             TOTAL     numbers       Marks  Money_Value  MONEY_Marks  \\\n",
       "count   776.000000  776.000000  776.000000   775.000000   776.000000   \n",
       "mean     13.218481    5.067655    2.237113    14.137631     2.909794   \n",
       "std      51.312829    0.264449    0.803517    66.606519     1.597452   \n",
       "min       0.000000    5.000000    2.000000     0.000000     2.000000   \n",
       "25%       0.537500    5.000000    2.000000     0.000000     2.000000   \n",
       "50%       1.370000    5.000000    2.000000     0.090000     2.000000   \n",
       "75%       7.707500    5.000000    2.000000     5.595000     4.000000   \n",
       "max    1268.910000    9.000000    6.000000   935.030000     6.000000   \n",
       "\n",
       "         District        Loss  LOSS_SCORE     History  History_score  \\\n",
       "count  776.000000  776.000000  776.000000  776.000000     776.000000   \n",
       "mean     2.505155    0.029639    2.061856    0.104381       2.167526   \n",
       "std      1.228678    0.184280    0.375080    0.531031       0.679869   \n",
       "min      2.000000    0.000000    2.000000    0.000000       2.000000   \n",
       "25%      2.000000    0.000000    2.000000    0.000000       2.000000   \n",
       "50%      2.000000    0.000000    2.000000    0.000000       2.000000   \n",
       "75%      2.000000    0.000000    2.000000    0.000000       2.000000   \n",
       "max      6.000000    2.000000    6.000000    9.000000       6.000000   \n",
       "\n",
       "            Score        Risk  \n",
       "count  776.000000  776.000000  \n",
       "mean     2.702577    0.626289  \n",
       "std      0.858923    0.484100  \n",
       "min      2.000000    0.000000  \n",
       "25%      2.000000    0.000000  \n",
       "50%      2.400000    1.000000  \n",
       "75%      3.250000    1.000000  \n",
       "max      5.200000    1.000000  "
      ]
     },
     "execution_count": 8,
     "metadata": {},
     "output_type": "execute_result"
    }
   ],
   "source": [
    "trial.describe()"
   ]
  },
  {
   "cell_type": "code",
   "execution_count": 9,
   "metadata": {},
   "outputs": [],
   "source": [
    "# Remove categorical values in the column of LOCATION_ID\n",
    "# Did not assign new values because they could be already one of the LOCATION_ID\n",
    "audit_risk = audit_risk[audit_risk.LOCATION_ID != 'LOHARU']\n",
    "audit_risk = audit_risk[audit_risk.LOCATION_ID != 'NUH']\n",
    "audit_risk = audit_risk[audit_risk.LOCATION_ID != 'SAFIDON']\n",
    "\n",
    "trial = trial[trial.LOCATION_ID != 'LOHARU']\n",
    "trial = trial[trial.LOCATION_ID != 'NUH']\n",
    "trial = trial[trial.LOCATION_ID != 'SAFIDON']"
   ]
  },
  {
   "cell_type": "code",
   "execution_count": 10,
   "metadata": {},
   "outputs": [],
   "source": [
    "# Changing dtype(object to integer)\n",
    "audit_risk['LOCATION_ID'] = pd.to_numeric(audit_risk['LOCATION_ID'])\n",
    "trial['LOCATION_ID'] = pd.to_numeric(trial['LOCATION_ID'])"
   ]
  },
  {
   "cell_type": "code",
   "execution_count": 11,
   "metadata": {},
   "outputs": [],
   "source": [
    "# Removing duplicated columns\n",
    "# We removed duplicated parameters with different scales in advance \n",
    "trial.drop(['Sector_score','LOCATION_ID','PARA_A','SCORE_A',\n",
    "            'PARA_B','SCORE_B','TOTAL','numbers','District','Money_Value','History','Score','Risk'], axis=1, inplace = True)"
   ]
  },
  {
   "cell_type": "code",
   "execution_count": 12,
   "metadata": {},
   "outputs": [
    {
     "name": "stdout",
     "output_type": "stream",
     "text": [
      "Money_Value       1\n",
      "Risk              0\n",
      "LOCATION_ID       0\n",
      "PARA_A            0\n",
      "Score_A           0\n",
      "Risk_A            0\n",
      "PARA_B            0\n",
      "Score_B           0\n",
      "Risk_B            0\n",
      "TOTAL             0\n",
      "numbers           0\n",
      "Score_B.1         0\n",
      "Risk_C            0\n",
      "Score_MV          0\n",
      "Audit_Risk        0\n",
      "Risk_D            0\n",
      "District_Loss     0\n",
      "PROB              0\n",
      "RiSk_E            0\n",
      "History           0\n",
      "Prob              0\n",
      "Risk_F            0\n",
      "Score             0\n",
      "Inherent_Risk     0\n",
      "CONTROL_RISK      0\n",
      "Detection_Risk    0\n",
      "Sector_score      0\n",
      "dtype: int64\n"
     ]
    }
   ],
   "source": [
    "# Dealing with missing values\n",
    "print(audit_risk.isnull().sum().sort_values(ascending = False))\n",
    "audit_risk['Money_Value'] = audit_risk.fillna(audit_risk['Money_Value'].mean())"
   ]
  },
  {
   "cell_type": "code",
   "execution_count": 13,
   "metadata": {},
   "outputs": [
    {
     "data": {
      "text/plain": [
       "History_score    0\n",
       "LOSS_SCORE       0\n",
       "Loss             0\n",
       "MONEY_Marks      0\n",
       "Marks            0\n",
       "dtype: int64"
      ]
     },
     "execution_count": 13,
     "metadata": {},
     "output_type": "execute_result"
    }
   ],
   "source": [
    "trial.isnull().sum().sort_values(ascending = False)"
   ]
  },
  {
   "cell_type": "code",
   "execution_count": 14,
   "metadata": {},
   "outputs": [
    {
     "name": "stdout",
     "output_type": "stream",
     "text": [
      "(773, 27)\n",
      "(773, 5)\n"
     ]
    }
   ],
   "source": [
    "# Checking the shape again \n",
    "print(audit_risk.shape)\n",
    "print(trial.shape)"
   ]
  },
  {
   "cell_type": "code",
   "execution_count": 15,
   "metadata": {},
   "outputs": [
    {
     "data": {
      "text/plain": [
       "(773, 32)"
      ]
     },
     "execution_count": 15,
     "metadata": {},
     "output_type": "execute_result"
    }
   ],
   "source": [
    "# Merging datasets\n",
    "df = pd.concat([audit_risk, trial], axis=1)\n",
    "df.shape"
   ]
  },
  {
   "cell_type": "code",
   "execution_count": 16,
   "metadata": {},
   "outputs": [
    {
     "name": "stdout",
     "output_type": "stream",
     "text": [
      "<class 'pandas.core.frame.DataFrame'>\n",
      "Int64Index: 773 entries, 0 to 775\n",
      "Data columns (total 32 columns):\n",
      "Sector_score      773 non-null float64\n",
      "LOCATION_ID       773 non-null int64\n",
      "PARA_A            773 non-null float64\n",
      "Score_A           773 non-null float64\n",
      "Risk_A            773 non-null float64\n",
      "PARA_B            773 non-null float64\n",
      "Score_B           773 non-null float64\n",
      "Risk_B            773 non-null float64\n",
      "TOTAL             773 non-null float64\n",
      "numbers           773 non-null float64\n",
      "Score_B.1         773 non-null float64\n",
      "Risk_C            773 non-null float64\n",
      "Money_Value       773 non-null float64\n",
      "Score_MV          773 non-null float64\n",
      "Risk_D            773 non-null float64\n",
      "District_Loss     773 non-null int64\n",
      "PROB              773 non-null float64\n",
      "RiSk_E            773 non-null float64\n",
      "History           773 non-null int64\n",
      "Prob              773 non-null float64\n",
      "Risk_F            773 non-null float64\n",
      "Score             773 non-null float64\n",
      "Inherent_Risk     773 non-null float64\n",
      "CONTROL_RISK      773 non-null float64\n",
      "Detection_Risk    773 non-null float64\n",
      "Audit_Risk        773 non-null float64\n",
      "Risk              773 non-null int64\n",
      "Marks             773 non-null int64\n",
      "MONEY_Marks       773 non-null int64\n",
      "Loss              773 non-null int64\n",
      "LOSS_SCORE        773 non-null int64\n",
      "History_score     773 non-null int64\n",
      "dtypes: float64(23), int64(9)\n",
      "memory usage: 199.3 KB\n"
     ]
    }
   ],
   "source": [
    "df.info()"
   ]
  },
  {
   "cell_type": "markdown",
   "metadata": {},
   "source": [
    "## Exploring & Scaling dataset"
   ]
  },
  {
   "cell_type": "code",
   "execution_count": 17,
   "metadata": {},
   "outputs": [
    {
     "data": {
      "text/plain": [
       "<matplotlib.axes._subplots.AxesSubplot at 0x235b36504a8>"
      ]
     },
     "execution_count": 17,
     "metadata": {},
     "output_type": "execute_result"
    },
    {
     "data": {
      "image/png": "[encoded data removed]",
      "text/plain": [
       "<Figure size 864x576 with 2 Axes>"
      ]
     },
     "metadata": {
      "needs_background": "light"
     },
     "output_type": "display_data"
    }
   ],
   "source": [
    "#Exploring dataset - (1) Correlation within variables\n",
    "plt.figure(figsize=(12,8))\n",
    "sns.heatmap(df.drop(['Detection_Risk'], axis=1).corr(), cmap = 'coolwarm')"
   ]
  },
  {
   "cell_type": "code",
   "execution_count": 18,
   "metadata": {},
   "outputs": [
    {
     "data": {
      "text/html": [
       "<div>\n",
       "<style scoped>\n",
       "    .dataframe tbody tr th:only-of-type {\n",
       "        vertical-align: middle;\n",
       "    }\n",
       "\n",
       "    .dataframe tbody tr th {\n",
       "        vertical-align: top;\n",
       "    }\n",
       "\n",
       "    .dataframe thead th {\n",
       "        text-align: right;\n",
       "    }\n",
       "</style>\n",
       "<table border=\"1\" class=\"dataframe\">\n",
       "  <thead>\n",
       "    <tr style=\"text-align: right;\">\n",
       "      <th></th>\n",
       "      <th>Correlation</th>\n",
       "    </tr>\n",
       "  </thead>\n",
       "  <tbody>\n",
       "    <tr>\n",
       "      <th>TOTAL</th>\n",
       "      <td>0.888086</td>\n",
       "    </tr>\n",
       "    <tr>\n",
       "      <th>PARA_B</th>\n",
       "      <td>0.887780</td>\n",
       "    </tr>\n",
       "    <tr>\n",
       "      <th>Risk_B</th>\n",
       "      <td>0.887556</td>\n",
       "    </tr>\n",
       "    <tr>\n",
       "      <th>Inherent_Risk</th>\n",
       "      <td>0.750873</td>\n",
       "    </tr>\n",
       "    <tr>\n",
       "      <th>History_score</th>\n",
       "      <td>0.431217</td>\n",
       "    </tr>\n",
       "    <tr>\n",
       "      <th>Prob</th>\n",
       "      <td>0.431217</td>\n",
       "    </tr>\n",
       "    <tr>\n",
       "      <th>CONTROL_RISK</th>\n",
       "      <td>0.357872</td>\n",
       "    </tr>\n",
       "    <tr>\n",
       "      <th>Risk_D</th>\n",
       "      <td>0.334091</td>\n",
       "    </tr>\n",
       "    <tr>\n",
       "      <th>Score</th>\n",
       "      <td>0.332883</td>\n",
       "    </tr>\n",
       "    <tr>\n",
       "      <th>History</th>\n",
       "      <td>0.329682</td>\n",
       "    </tr>\n",
       "    <tr>\n",
       "      <th>Risk_F</th>\n",
       "      <td>0.327669</td>\n",
       "    </tr>\n",
       "    <tr>\n",
       "      <th>MONEY_Marks</th>\n",
       "      <td>0.291531</td>\n",
       "    </tr>\n",
       "    <tr>\n",
       "      <th>Score_MV</th>\n",
       "      <td>0.291531</td>\n",
       "    </tr>\n",
       "    <tr>\n",
       "      <th>Marks</th>\n",
       "      <td>0.259593</td>\n",
       "    </tr>\n",
       "    <tr>\n",
       "      <th>Score_B.1</th>\n",
       "      <td>0.259593</td>\n",
       "    </tr>\n",
       "    <tr>\n",
       "      <th>Risk_C</th>\n",
       "      <td>0.249884</td>\n",
       "    </tr>\n",
       "    <tr>\n",
       "      <th>Risk_A</th>\n",
       "      <td>0.221400</td>\n",
       "    </tr>\n",
       "    <tr>\n",
       "      <th>numbers</th>\n",
       "      <td>0.221326</td>\n",
       "    </tr>\n",
       "    <tr>\n",
       "      <th>PARA_A</th>\n",
       "      <td>0.219582</td>\n",
       "    </tr>\n",
       "    <tr>\n",
       "      <th>Risk</th>\n",
       "      <td>0.216845</td>\n",
       "    </tr>\n",
       "    <tr>\n",
       "      <th>Score_B</th>\n",
       "      <td>0.207708</td>\n",
       "    </tr>\n",
       "    <tr>\n",
       "      <th>RiSk_E</th>\n",
       "      <td>0.202779</td>\n",
       "    </tr>\n",
       "    <tr>\n",
       "      <th>Score_A</th>\n",
       "      <td>0.201556</td>\n",
       "    </tr>\n",
       "    <tr>\n",
       "      <th>District_Loss</th>\n",
       "      <td>0.199220</td>\n",
       "    </tr>\n",
       "    <tr>\n",
       "      <th>LOSS_SCORE</th>\n",
       "      <td>0.073724</td>\n",
       "    </tr>\n",
       "    <tr>\n",
       "      <th>PROB</th>\n",
       "      <td>0.073724</td>\n",
       "    </tr>\n",
       "    <tr>\n",
       "      <th>Loss</th>\n",
       "      <td>0.049199</td>\n",
       "    </tr>\n",
       "    <tr>\n",
       "      <th>LOCATION_ID</th>\n",
       "      <td>-0.085276</td>\n",
       "    </tr>\n",
       "    <tr>\n",
       "      <th>Money_Value</th>\n",
       "      <td>-0.092576</td>\n",
       "    </tr>\n",
       "    <tr>\n",
       "      <th>Sector_score</th>\n",
       "      <td>-0.092576</td>\n",
       "    </tr>\n",
       "  </tbody>\n",
       "</table>\n",
       "</div>"
      ],
      "text/plain": [
       "               Correlation\n",
       "TOTAL             0.888086\n",
       "PARA_B            0.887780\n",
       "Risk_B            0.887556\n",
       "Inherent_Risk     0.750873\n",
       "History_score     0.431217\n",
       "Prob              0.431217\n",
       "CONTROL_RISK      0.357872\n",
       "Risk_D            0.334091\n",
       "Score             0.332883\n",
       "History           0.329682\n",
       "Risk_F            0.327669\n",
       "MONEY_Marks       0.291531\n",
       "Score_MV          0.291531\n",
       "Marks             0.259593\n",
       "Score_B.1         0.259593\n",
       "Risk_C            0.249884\n",
       "Risk_A            0.221400\n",
       "numbers           0.221326\n",
       "PARA_A            0.219582\n",
       "Risk              0.216845\n",
       "Score_B           0.207708\n",
       "RiSk_E            0.202779\n",
       "Score_A           0.201556\n",
       "District_Loss     0.199220\n",
       "LOSS_SCORE        0.073724\n",
       "PROB              0.073724\n",
       "Loss              0.049199\n",
       "LOCATION_ID      -0.085276\n",
       "Money_Value      -0.092576\n",
       "Sector_score     -0.092576"
      ]
     },
     "execution_count": 18,
     "metadata": {},
     "output_type": "execute_result"
    }
   ],
   "source": [
    "# Correlation with target variables\n",
    "cor = pd.DataFrame(df.drop(\"Audit_Risk\", axis=1).apply(lambda x: x.corr(df.Audit_Risk)).sort_values(ascending = False)).rename(columns = {0:'Correlation'})\n",
    "cor.dropna()"
   ]
  },
  {
   "cell_type": "code",
   "execution_count": 19,
   "metadata": {},
   "outputs": [],
   "source": [
    "from sklearn.preprocessing import MinMaxScaler # Used MinMaxScaler\n",
    "reg_data = df.drop(['Audit_Risk','Risk'], axis=1)\n",
    "reg_target = df['Audit_Risk']"
   ]
  },
  {
   "cell_type": "code",
   "execution_count": 20,
   "metadata": {},
   "outputs": [],
   "source": [
    "# Splitting training and test data\n",
    "from sklearn.model_selection import train_test_split\n",
    "X_train_org, X_test_org, y_train, y_test = train_test_split(reg_data, reg_target, random_state=0)\n",
    "\n",
    "# Scaling data\n",
    "scaler = MinMaxScaler()\n",
    "X_train = scaler.fit_transform(X_train_org)\n",
    "X_test = scaler.transform(X_test_org)"
   ]
  },
  {
   "cell_type": "markdown",
   "metadata": {},
   "source": [
    "## Classification Task"
   ]
  },
  {
   "cell_type": "code",
   "execution_count": 21,
   "metadata": {},
   "outputs": [],
   "source": [
    "# Creating dataset for classification task\n",
    "clf_data = df.drop(['Audit_Risk','Risk'], axis=1)\n",
    "clf_target = df['Risk']\n",
    "\n",
    "# Splitting training and test data\n",
    "from sklearn.model_selection import train_test_split\n",
    "X_train_org, X_test_org, y_train, y_test = train_test_split(clf_data, clf_target, random_state=0)\n",
    "\n",
    "# Scaling data\n",
    "scaler = MinMaxScaler()\n",
    "X_train = scaler.fit_transform(X_train_org)\n",
    "X_test = scaler.transform(X_test_org)"
   ]
  },
  {
   "cell_type": "code",
   "execution_count": 30,
   "metadata": {},
   "outputs": [
    {
     "data": {
      "text/plain": [
       "KNeighborsClassifier(algorithm='auto', leaf_size=30, metric='minkowski',\n",
       "           metric_params=None, n_jobs=None, n_neighbors=10, p=2,\n",
       "           weights='uniform')"
      ]
     },
     "execution_count": 30,
     "metadata": {},
     "output_type": "execute_result"
    }
   ],
   "source": [
    "from sklearn.linear_model import LogisticRegression\n",
    "from sklearn.tree import DecisionTreeClassifier\n",
    "from sklearn.neighbors import KNeighborsClassifier\n",
    "from sklearn.svm import SVC, LinearSVC\n",
    "from sklearn.model_selection import train_test_split\n",
    "from sklearn.preprocessing import StandardScaler\n",
    "from sklearn.model_selection import GridSearchCV\n",
    "from sklearn.metrics import roc_auc_score,classification_report\n"
   ]
  },
  {
   "cell_type": "code",
   "execution_count": 128,
   "metadata": {},
   "outputs": [],
   "source": [
    "# GridSearch Plot\n",
    "def grid_score_plot(df,col,train,test,title, xlabel,ylabel,annot=True):\n",
    "    fig = plt.figure(figsize=(10,6))\n",
    "    x=len(df[col])\n",
    "    x_label=df[col].unique()\n",
    "    ax = fig.add_subplot(111, facecolor='white')\n",
    "    ax.plot(df[col], df[train], c ='b', linewidth=2, alpha=0.6, label='Train Accuracy Score',marker='o')\n",
    "    ax.plot(df[col], df[test], c ='r', linewidth=2, alpha=0.6, label='Test Accuracy Score', marker='o')\n",
    "    ax.legend()\n",
    "    if(annot==True):\n",
    "        for i,j in zip(df[col],round(df[train],3)):\n",
    "            ax.annotate(str(j),xy=(i,j),color='gray')\n",
    "        for i,j in zip(df[col],round(df[test],3)):\n",
    "            ax.annotate(str(j),xy=(i,j),color='gray')\n",
    "    ax.set_title(title, fontsize=20)\n",
    "    ax.set_xlabel(xlabel, fontsize=10)\n",
    "    ax.set_ylabel(ylabel, fontsize=10)\n",
    "    plt.grid(zorder=0)\n",
    "    plt.show()"
   ]
  },
  {
   "cell_type": "markdown",
   "metadata": {},
   "source": [
    "## Part 1 Result"
   ]
  },
  {
   "cell_type": "code",
   "execution_count": 29,
   "metadata": {},
   "outputs": [
    {
     "data": {
      "text/html": [
       "<div>\n",
       "<style scoped>\n",
       "    .dataframe tbody tr th:only-of-type {\n",
       "        vertical-align: middle;\n",
       "    }\n",
       "\n",
       "    .dataframe tbody tr th {\n",
       "        vertical-align: top;\n",
       "    }\n",
       "\n",
       "    .dataframe thead th {\n",
       "        text-align: right;\n",
       "    }\n",
       "</style>\n",
       "<table border=\"1\" class=\"dataframe\">\n",
       "  <thead>\n",
       "    <tr style=\"text-align: right;\">\n",
       "      <th></th>\n",
       "      <th>Model Parameters</th>\n",
       "      <th>Train Accuracy</th>\n",
       "      <th>Test Accuracy</th>\n",
       "      <th>Train AUC Score</th>\n",
       "      <th>Test AUC Score</th>\n",
       "    </tr>\n",
       "    <tr>\n",
       "      <th>Model Name</th>\n",
       "      <th></th>\n",
       "      <th></th>\n",
       "      <th></th>\n",
       "      <th></th>\n",
       "      <th></th>\n",
       "    </tr>\n",
       "  </thead>\n",
       "  <tbody>\n",
       "    <tr>\n",
       "      <th>K Neighbors Classifier</th>\n",
       "      <td>n_neighbors: 10</td>\n",
       "      <td>0.950092</td>\n",
       "      <td>0.939655</td>\n",
       "      <td>0.937998</td>\n",
       "      <td>0.926510</td>\n",
       "    </tr>\n",
       "    <tr>\n",
       "      <th>Logistic Regression</th>\n",
       "      <td>C: 10 , penalty: l1</td>\n",
       "      <td>0.994455</td>\n",
       "      <td>0.995690</td>\n",
       "      <td>0.993763</td>\n",
       "      <td>0.994624</td>\n",
       "    </tr>\n",
       "    <tr>\n",
       "      <th>Linear Support Vector Machine Classifier</th>\n",
       "      <td>C: 10, dual: False, loss: squared_hinge, penal...</td>\n",
       "      <td>0.998152</td>\n",
       "      <td>0.995690</td>\n",
       "      <td>0.997642</td>\n",
       "      <td>0.994624</td>\n",
       "    </tr>\n",
       "    <tr>\n",
       "      <th>RBF Kernelized Support Vector Machine Classifier</th>\n",
       "      <td>C: 100, gamma: 0.001</td>\n",
       "      <td>0.983364</td>\n",
       "      <td>0.982759</td>\n",
       "      <td>0.981290</td>\n",
       "      <td>0.978495</td>\n",
       "    </tr>\n",
       "    <tr>\n",
       "      <th>Decision Tree Classifier</th>\n",
       "      <td>max_depth: 5, max_features: 10</td>\n",
       "      <td>0.992606</td>\n",
       "      <td>0.995690</td>\n",
       "      <td>0.990566</td>\n",
       "      <td>0.994624</td>\n",
       "    </tr>\n",
       "  </tbody>\n",
       "</table>\n",
       "</div>"
      ],
      "text/plain": [
       "                                                                                   Model Parameters  \\\n",
       "Model Name                                                                                            \n",
       "K Neighbors Classifier                                                              n_neighbors: 10   \n",
       "Logistic Regression                                                             C: 10 , penalty: l1   \n",
       "Linear Support Vector Machine Classifier          C: 10, dual: False, loss: squared_hinge, penal...   \n",
       "RBF Kernelized Support Vector Machine Classifier                               C: 100, gamma: 0.001   \n",
       "Decision Tree Classifier                                             max_depth: 5, max_features: 10   \n",
       "\n",
       "                                                  Train Accuracy  \\\n",
       "Model Name                                                         \n",
       "K Neighbors Classifier                                  0.950092   \n",
       "Logistic Regression                                     0.994455   \n",
       "Linear Support Vector Machine Classifier                0.998152   \n",
       "RBF Kernelized Support Vector Machine Classifier        0.983364   \n",
       "Decision Tree Classifier                                0.992606   \n",
       "\n",
       "                                                  Test Accuracy  \\\n",
       "Model Name                                                        \n",
       "K Neighbors Classifier                                 0.939655   \n",
       "Logistic Regression                                    0.995690   \n",
       "Linear Support Vector Machine Classifier               0.995690   \n",
       "RBF Kernelized Support Vector Machine Classifier       0.982759   \n",
       "Decision Tree Classifier                               0.995690   \n",
       "\n",
       "                                                  Train AUC Score  \\\n",
       "Model Name                                                          \n",
       "K Neighbors Classifier                                   0.937998   \n",
       "Logistic Regression                                      0.993763   \n",
       "Linear Support Vector Machine Classifier                 0.997642   \n",
       "RBF Kernelized Support Vector Machine Classifier         0.981290   \n",
       "Decision Tree Classifier                                 0.990566   \n",
       "\n",
       "                                                  Test AUC Score  \n",
       "Model Name                                                        \n",
       "K Neighbors Classifier                                  0.926510  \n",
       "Logistic Regression                                     0.994624  \n",
       "Linear Support Vector Machine Classifier                0.994624  \n",
       "RBF Kernelized Support Vector Machine Classifier        0.978495  \n",
       "Decision Tree Classifier                                0.994624  "
      ]
     },
     "execution_count": 29,
     "metadata": {},
     "output_type": "execute_result"
    }
   ],
   "source": [
    "old_table=pd.DataFrame({'Model Name':['K Neighbors Classifier','Logistic Regression','Linear Support Vector Machine Classifier',\n",
    "                                      'RBF Kernelized Support Vector Machine Classifier','Decision Tree Classifier'],\n",
    "                        'Model Parameters':[\"n_neighbors: 10\",\"C: 10 , penalty: l1\",\"C: 10, dual: False, loss: squared_hinge, penalty: l1\",\n",
    "                                            \"C: 100, gamma: 0.001\",\"max_depth: 5, max_features: 10\"],\n",
    "                        'Train Accuracy':[0.950092,0.994455,0.998152,0.983364,0.992606],\n",
    "                        'Test Accuracy':[0.939655,0.995690,0.995690,0.982759,0.995690],\n",
    "                        'Train AUC Score':[0.937998,0.993763,0.997642,0.981290,0.990566],\n",
    "                        'Test AUC Score':[0.926510,0.994624,0.994624,0.978495,0.994624]})\n",
    "old_table.index = old_table['Model Name']\n",
    "old_table.drop(['Model Name'],axis=1, inplace=True)\n",
    "old_table"
   ]
  },
  {
   "cell_type": "markdown",
   "metadata": {},
   "source": [
    "#### All the models used within the ensemble methods are run with the hypertuned parameters identified in Part 1"
   ]
  },
  {
   "cell_type": "code",
   "execution_count": 32,
   "metadata": {},
   "outputs": [
    {
     "data": {
      "text/plain": [
       "DecisionTreeClassifier(class_weight=None, criterion='gini', max_depth=5,\n",
       "            max_features=10, max_leaf_nodes=None,\n",
       "            min_impurity_decrease=0.0, min_impurity_split=None,\n",
       "            min_samples_leaf=1, min_samples_split=2,\n",
       "            min_weight_fraction_leaf=0.0, presort=False, random_state=101,\n",
       "            splitter='best')"
      ]
     },
     "execution_count": 32,
     "metadata": {},
     "output_type": "execute_result"
    }
   ],
   "source": [
    "## Base Models for all Ensemble Methods\n",
    "knn_clf= KNeighborsClassifier(n_neighbors=10)\n",
    "knn_clf.fit(X_train, y_train)\n",
    "log_clf = LogisticRegression(C=10,penalty='l1',random_state=101)\n",
    "log_clf.fit(X_train, y_train)\n",
    "svm_clf = LinearSVC(C = 10, dual=False,loss='squared_hinge',penalty='l1',random_state=101)\n",
    "svm_clf.fit(X_train, y_train)\n",
    "dtree_clf = DecisionTreeClassifier(max_depth=5,max_features=10,random_state=101)\n",
    "dtree_clf.fit(X_train, y_train)"
   ]
  },
  {
   "cell_type": "markdown",
   "metadata": {},
   "source": [
    "## Voting Classifier Method"
   ]
  },
  {
   "cell_type": "markdown",
   "metadata": {},
   "source": [
    "### (1) Voting classifiers - Hard"
   ]
  },
  {
   "cell_type": "markdown",
   "metadata": {},
   "source": [
    "_An ensemble model can improve performance like accuracy and model fit._\n",
    "_Hard voting makes the final prediction by a simple taking majority of votes to classify data thereby improving accuracy._\n",
    "_Used Logistic, Decision Tree and LinearSVC as internal algorithms for the ensemble models_"
   ]
  },
  {
   "cell_type": "code",
   "execution_count": 35,
   "metadata": {},
   "outputs": [
    {
     "name": "stdout",
     "output_type": "stream",
     "text": [
      "Hard Voting: Accuracy Score\n",
      "\n",
      "LogisticRegression Test Accuracy Score 0.9794\n",
      "KNeighborsClassifier Test Accuracy Score 0.9381\n",
      "LinearSVC Test Accuracy Score 0.9897\n",
      "VotingClassifier Test Accuracy Score 0.9794\n",
      "\n"
     ]
    }
   ],
   "source": [
    "voting_hard_clf = VotingClassifier(estimators=[('lr', log_clf), ('knn', knn_clf), ('svc', svm_clf)], voting='hard')\n",
    "voting_hard_clf.fit(X_train, y_train)\n",
    "\n",
    "print(\"Hard Voting: Accuracy Score\")\n",
    "print()\n",
    "from sklearn.metrics import accuracy_score\n",
    "for clf in (log_clf, knn_clf, svm_clf, voting_hard_clf):\n",
    "    clf.fit(X_train, y_train)\n",
    "    y_pred = clf.predict(X_test)\n",
    "    print(clf.__class__.__name__, 'Test Accuracy Score {:.4f}'.format(accuracy_score(y_test, y_pred)))\n",
    "print()"
   ]
  },
  {
   "cell_type": "code",
   "execution_count": 36,
   "metadata": {},
   "outputs": [
    {
     "name": "stdout",
     "output_type": "stream",
     "text": [
      "Hard Voting: ROC AUC Score\n",
      "\n",
      "LogisticRegression Test ROC AUC Score 0.9726\n",
      "KNeighborsClassifier Test ROC AUC Score 0.9178\n",
      "LinearSVC Test ROC AUC Score 0.9863\n",
      "VotingClassifier Test ROC AUC Score 0.9726\n",
      "\n"
     ]
    }
   ],
   "source": [
    "print(\"Hard Voting: ROC AUC Score\")\n",
    "print()\n",
    "from sklearn.metrics import roc_auc_score\n",
    "for clf in (log_clf, knn_clf, svm_clf, voting_hard_clf):\n",
    "    clf.fit(X_train, y_train)\n",
    "    y_pred = clf.predict(X_test)\n",
    "    print(clf.__class__.__name__, 'Test ROC AUC Score {:.4f}'.format(roc_auc_score(y_test, y_pred)))\n",
    "print()"
   ]
  },
  {
   "cell_type": "markdown",
   "metadata": {},
   "source": [
    "### (2) Voting classifiers - Soft"
   ]
  },
  {
   "cell_type": "markdown",
   "metadata": {},
   "source": [
    "_Soft Voting can only be done when all your classifiers can calculate probabilities for the outcomes. Soft voting arrives at the best result by averaging out the probabilities calculated by individual algorithms._\n",
    "_Used KNN, Logistic, Decision Tree and LinearSVC as internal algorithms for the ensemble models_"
   ]
  },
  {
   "cell_type": "code",
   "execution_count": 42,
   "metadata": {},
   "outputs": [
    {
     "name": "stdout",
     "output_type": "stream",
     "text": [
      "Soft Voting: Accuracy Score\n",
      "\n",
      "LogisticRegression Test Accuracy Score 0.9794\n",
      "KNeighborsClassifier Test Accuracy Score 0.9381\n",
      "DecisionTreeClassifier Test Accuracy Score 1.0000\n",
      "VotingClassifier Test Accuracy Score 0.9948\n"
     ]
    }
   ],
   "source": [
    "voting_soft_clf = VotingClassifier(estimators=[('lr', log_clf), ('knn', knn_clf), ('dtree', dtree_clf)], voting='soft')\n",
    "voting_soft_clf.fit(X_train, y_train)\n",
    "\n",
    "print(\"Soft Voting: Accuracy Score\")\n",
    "print()\n",
    "\n",
    "from sklearn.metrics import accuracy_score\n",
    "for clf in (log_clf, knn_clf, dtree_clf, voting_soft_clf):\n",
    "    clf.fit(X_train, y_train)\n",
    "    y_pred = clf.predict(X_test)\n",
    "    print(clf.__class__.__name__, 'Test Accuracy Score {:.4f}'.format(accuracy_score(y_test, y_pred)))"
   ]
  },
  {
   "cell_type": "code",
   "execution_count": 43,
   "metadata": {},
   "outputs": [
    {
     "name": "stdout",
     "output_type": "stream",
     "text": [
      "Soft Voting: ROC AUC Score\n",
      "\n",
      "LogisticRegression Test ROC AUC Score 0.9726\n",
      "KNeighborsClassifier Test ROC AUC Score 0.9178\n",
      "DecisionTreeClassifier Test ROC AUC Score 1.0000\n",
      "VotingClassifier Test ROC AUC Score 0.9932\n",
      "\n"
     ]
    }
   ],
   "source": [
    "print(\"Soft Voting: ROC AUC Score\")\n",
    "print()\n",
    "from sklearn.metrics import roc_auc_score\n",
    "for clf in (log_clf, knn_clf, dtree_clf, voting_soft_clf):\n",
    "    clf.fit(X_train, y_train)\n",
    "    y_pred = clf.predict(X_test)\n",
    "    print(clf.__class__.__name__, 'Test ROC AUC Score {:.4f}'.format(roc_auc_score(y_test, y_pred)))\n",
    "print()"
   ]
  },
  {
   "cell_type": "markdown",
   "metadata": {},
   "source": [
    "## Bagging"
   ]
  },
  {
   "cell_type": "markdown",
   "metadata": {},
   "source": [
    "_short for “Bootstrap aggregating\"_"
   ]
  },
  {
   "cell_type": "markdown",
   "metadata": {},
   "source": [
    "### (1) Bagging Classifier: Logistic Regression"
   ]
  },
  {
   "cell_type": "code",
   "execution_count": 45,
   "metadata": {},
   "outputs": [],
   "source": [
    "#importing models\n",
    "from sklearn.ensemble import BaggingClassifier\n",
    "from sklearn.metrics import roc_auc_score, classification_report"
   ]
  },
  {
   "cell_type": "code",
   "execution_count": 61,
   "metadata": {},
   "outputs": [],
   "source": [
    "#Logistic Regression\n",
    "log_bag = BaggingClassifier(log_clf, bootstrap=True, n_jobs=-1, random_state=101)\n",
    "log_bag.fit(X_train, y_train)"
   ]
  },
  {
   "cell_type": "code",
   "execution_count": 62,
   "metadata": {},
   "outputs": [
    {
     "name": "stdout",
     "output_type": "stream",
     "text": [
      "Accuracy Score\n",
      "Train Accuracy Score: 0.991364\n",
      "Test Accuracy Score: 0.979381\n"
     ]
    }
   ],
   "source": [
    "print(\"Accuracy Score\")\n",
    "print(\"Train Accuracy Score: {:4f}\".format(log_bag.score(X_train, y_train)))\n",
    "print(\"Test Accuracy Score: {:4f}\".format(log_bag.score(X_test, y_test)))"
   ]
  },
  {
   "cell_type": "code",
   "execution_count": 63,
   "metadata": {},
   "outputs": [
    {
     "name": "stdout",
     "output_type": "stream",
     "text": [
      "ROC AUC Score\n",
      "Train AUC Score: 0.990653\n",
      "Test AUC Score: 0.972603\n"
     ]
    }
   ],
   "source": [
    "#ROC AUC Score\n",
    "print(\"ROC AUC Score\")\n",
    "print(\"Train AUC Score: {:4f}\".format(roc_auc_score(y_train, log_bag.predict(X_train))))\n",
    "print(\"Test AUC Score: {:4f}\".format(roc_auc_score(y_test, log_bag.predict(X_test))))"
   ]
  },
  {
   "cell_type": "markdown",
   "metadata": {},
   "source": [
    "### (2) Bagging Classifier: Decision Tree"
   ]
  },
  {
   "cell_type": "code",
   "execution_count": 64,
   "metadata": {},
   "outputs": [],
   "source": [
    "dtree_bag = BaggingClassifier(dtree_clf, n_estimators=500, max_samples=100, n_jobs=-1, random_state=101)\n",
    "dtree_bag.fit(X_train, y_train)"
   ]
  },
  {
   "cell_type": "code",
   "execution_count": 65,
   "metadata": {},
   "outputs": [
    {
     "name": "stdout",
     "output_type": "stream",
     "text": [
      "Accuracy Score\n",
      "Train Accuracy Score: 0.991364\n",
      "Test Accuracy Score: 0.994845\n"
     ]
    }
   ],
   "source": [
    "print(\"Accuracy Score\")\n",
    "print(\"Train Accuracy Score: {:4f}\".format(dtree_bag.score(X_train, y_train)))\n",
    "print(\"Test Accuracy Score: {:4f}\".format(dtree_bag.score(X_test, y_test)))"
   ]
  },
  {
   "cell_type": "code",
   "execution_count": 66,
   "metadata": {},
   "outputs": [
    {
     "name": "stdout",
     "output_type": "stream",
     "text": [
      "ROC AUC Score\n",
      "Train AUC Score: 0.989224\n",
      "Test AUC Score: 0.993151\n"
     ]
    }
   ],
   "source": [
    "#ROC AUC Score\n",
    "print(\"ROC AUC Score\")\n",
    "print(\"Train AUC Score: {:4f}\".format(roc_auc_score(y_train, dtree_bag.predict(X_train))))\n",
    "print(\"Test AUC Score: {:4f}\".format(roc_auc_score(y_test, dtree_bag.predict(X_test))))"
   ]
  },
  {
   "cell_type": "markdown",
   "metadata": {},
   "source": [
    "## Pasting"
   ]
  },
  {
   "cell_type": "markdown",
   "metadata": {},
   "source": [
    "_Bagging without boostrap_"
   ]
  },
  {
   "cell_type": "markdown",
   "metadata": {},
   "source": [
    "### (1) Pasting Classifier: Logistic Regression"
   ]
  },
  {
   "cell_type": "code",
   "execution_count": 67,
   "metadata": {},
   "outputs": [],
   "source": [
    "log_pas = BaggingClassifier(log_clf, bootstrap=False, n_jobs=-1, random_state=0)\n",
    "log_pas.fit(X_train, y_train)"
   ]
  },
  {
   "cell_type": "code",
   "execution_count": 68,
   "metadata": {},
   "outputs": [
    {
     "name": "stdout",
     "output_type": "stream",
     "text": [
      "Accuracy Score\n",
      "Train Accuracy Score: 0.991364\n",
      "Test Accuracy Score: 0.979381\n"
     ]
    }
   ],
   "source": [
    "print(\"Accuracy Score\")\n",
    "print(\"Train Accuracy Score: {:4f}\".format(log_pas.score(X_train, y_train)))\n",
    "print(\"Test Accuracy Score: {:4f}\".format(log_pas.score(X_test, y_test)))"
   ]
  },
  {
   "cell_type": "code",
   "execution_count": 69,
   "metadata": {},
   "outputs": [
    {
     "name": "stdout",
     "output_type": "stream",
     "text": [
      "ROC AUC Score\n",
      "Train AUC Score: 0.990653\n",
      "Test AUC Score: 0.972603\n"
     ]
    }
   ],
   "source": [
    "#ROC AUC Score\n",
    "print(\"ROC AUC Score\")\n",
    "print(\"Train AUC Score: {:4f}\".format(roc_auc_score(y_train, log_pas.predict(X_train))))\n",
    "print(\"Test AUC Score: {:4f}\".format(roc_auc_score(y_test, log_pas.predict(X_test))))"
   ]
  },
  {
   "cell_type": "markdown",
   "metadata": {},
   "source": [
    "### (2) Pasting Classifier: Linear SVC"
   ]
  },
  {
   "cell_type": "code",
   "execution_count": 71,
   "metadata": {},
   "outputs": [],
   "source": [
    "#Linear SVC\n",
    "svm_pas = BaggingClassifier(svm_clf, bootstrap=True, n_jobs=-1, random_state=0)\n",
    "svm_pas.fit(X_train, y_train)"
   ]
  },
  {
   "cell_type": "code",
   "execution_count": 72,
   "metadata": {},
   "outputs": [
    {
     "name": "stdout",
     "output_type": "stream",
     "text": [
      "Accuracy Score\n",
      "Train Accuracy Score: 0.994819\n",
      "Test Accuracy Score: 0.989691\n"
     ]
    }
   ],
   "source": [
    "print(\"Accuracy Score\")\n",
    "print(\"Train Accuracy Score: {:4f}\".format(svm_pas.score(X_train, y_train)))\n",
    "print(\"Test Accuracy Score: {:4f}\".format(svm_pas.score(X_test, y_test)))"
   ]
  },
  {
   "cell_type": "code",
   "execution_count": 73,
   "metadata": {},
   "outputs": [
    {
     "name": "stdout",
     "output_type": "stream",
     "text": [
      "ROC AUC Score\n",
      "Train AUC Score: 0.994249\n",
      "Test AUC Score: 0.986301\n"
     ]
    }
   ],
   "source": [
    "#ROC AUC Score\n",
    "print(\"ROC AUC Score\")\n",
    "print(\"Train AUC Score: {:4f}\".format(roc_auc_score(y_train, svm_pas.predict(X_train))))\n",
    "print(\"Test AUC Score: {:4f}\".format(roc_auc_score(y_test, svm_pas.predict(X_test))))"
   ]
  },
  {
   "cell_type": "markdown",
   "metadata": {},
   "source": [
    "##  Adaboost "
   ]
  },
  {
   "cell_type": "markdown",
   "metadata": {},
   "source": [
    "### (1) Adaboost Classifier: Logistic Regression"
   ]
  },
  {
   "cell_type": "code",
   "execution_count": 78,
   "metadata": {},
   "outputs": [
    {
     "data": {
      "text/plain": [
       "AdaBoostClassifier(algorithm='SAMME.R',\n",
       "          base_estimator=LogisticRegression(C=10, class_weight=None, dual=False, fit_intercept=True,\n",
       "          intercept_scaling=1, max_iter=100, multi_class='warn',\n",
       "          n_jobs=None, penalty='l1', random_state=101, solver='warn',\n",
       "          tol=0.0001, verbose=0, warm_start=False),\n",
       "          learning_rate=0.05, n_estimators=50, random_state=None)"
      ]
     },
     "execution_count": 78,
     "metadata": {},
     "output_type": "execute_result"
    }
   ],
   "source": [
    "from sklearn.ensemble import AdaBoostClassifier\n",
    "\n",
    "ada_clf = AdaBoostClassifier(LogisticRegression(C=10, penalty='l1', random_state=101), learning_rate=0.05, n_estimators=50)\n",
    "ada_clf.fit(X_train, y_train)"
   ]
  },
  {
   "cell_type": "code",
   "execution_count": 79,
   "metadata": {},
   "outputs": [
    {
     "name": "stdout",
     "output_type": "stream",
     "text": [
      "Accuracy Score\n",
      "Train Accuracy Score: 0.875648\n",
      "Test Accuracy Score: 0.845361\n"
     ]
    }
   ],
   "source": [
    "print(\"Accuracy Score\")\n",
    "print(\"Train Accuracy Score: {:4f}\".format(ada_clf.score(X_train, y_train)))\n",
    "print(\"Test Accuracy Score: {:4f}\".format(ada_clf.score(X_test, y_test)))"
   ]
  },
  {
   "cell_type": "code",
   "execution_count": 80,
   "metadata": {},
   "outputs": [
    {
     "name": "stdout",
     "output_type": "stream",
     "text": [
      "ROC AUC Score\n",
      "Train AUC Score: 0.856970\n",
      "Test AUC Score: 0.818974\n"
     ]
    }
   ],
   "source": [
    "#ROC AUC Score\n",
    "print(\"ROC AUC Score\")\n",
    "print(\"Train AUC Score: {:4f}\".format(roc_auc_score(y_train, ada_clf.predict(X_train))))\n",
    "print(\"Test AUC Score: {:4f}\".format(roc_auc_score(y_test, ada_clf.predict(X_test))))"
   ]
  },
  {
   "cell_type": "markdown",
   "metadata": {},
   "source": [
    "### (2) Adaboost Classifier: Linear SVC"
   ]
  },
  {
   "cell_type": "code",
   "execution_count": 85,
   "metadata": {},
   "outputs": [
    {
     "data": {
      "text/plain": [
       "AdaBoostClassifier(algorithm='SAMME',\n",
       "          base_estimator=LinearSVC(C=10, class_weight=None, dual=False, fit_intercept=True,\n",
       "     intercept_scaling=1, loss='squared_hinge', max_iter=1000,\n",
       "     multi_class='ovr', penalty='l1', random_state=None, tol=0.0001,\n",
       "     verbose=0),\n",
       "          learning_rate=0.0001, n_estimators=3, random_state=None)"
      ]
     },
     "execution_count": 85,
     "metadata": {},
     "output_type": "execute_result"
    }
   ],
   "source": [
    "ada_clf = AdaBoostClassifier(LinearSVC(C= 10, penalty = 'l1', dual=False, loss='squared_hinge'), \n",
    "                             algorithm='SAMME', learning_rate=0.0001, n_estimators=3)\n",
    "ada_clf.fit(X_train, y_train)"
   ]
  },
  {
   "cell_type": "code",
   "execution_count": 86,
   "metadata": {},
   "outputs": [
    {
     "name": "stdout",
     "output_type": "stream",
     "text": [
      "Accuracy Score\n",
      "Train Accuracy Score: 0.994819\n",
      "Test Accuracy Score: 0.989691\n"
     ]
    }
   ],
   "source": [
    "print(\"Accuracy Score\")\n",
    "print(\"Train Accuracy Score: {:4f}\".format(ada_clf.score(X_train, y_train)))\n",
    "print(\"Test Accuracy Score: {:4f}\".format(ada_clf.score(X_test, y_test)))"
   ]
  },
  {
   "cell_type": "code",
   "execution_count": 87,
   "metadata": {},
   "outputs": [
    {
     "name": "stdout",
     "output_type": "stream",
     "text": [
      "ROC AUC Score\n",
      "Train AUC Score: 0.994249\n",
      "Test AUC Score: 0.986301\n"
     ]
    }
   ],
   "source": [
    "#ROC AUC Score\n",
    "print(\"ROC AUC Score\")\n",
    "print(\"Train AUC Score: {:4f}\".format(roc_auc_score(y_train, ada_clf.predict(X_train))))\n",
    "print(\"Test AUC Score: {:4f}\".format(roc_auc_score(y_test, ada_clf.predict(X_test))))"
   ]
  },
  {
   "cell_type": "markdown",
   "metadata": {},
   "source": [
    "## Gradient boosting "
   ]
  },
  {
   "cell_type": "code",
   "execution_count": 95,
   "metadata": {},
   "outputs": [
    {
     "data": {
      "text/plain": [
       "GradientBoostingClassifier(criterion='friedman_mse', init=None,\n",
       "              learning_rate=0.1, loss='deviance', max_depth=5,\n",
       "              max_features=None, max_leaf_nodes=None,\n",
       "              min_impurity_decrease=0.0, min_impurity_split=None,\n",
       "              min_samples_leaf=1, min_samples_split=2,\n",
       "              min_weight_fraction_leaf=0.0, n_estimators=5,\n",
       "              n_iter_no_change=None, presort='auto', random_state=None,\n",
       "              subsample=0.75, tol=0.0001, validation_fraction=0.1,\n",
       "              verbose=0, warm_start=False)"
      ]
     },
     "execution_count": 95,
     "metadata": {},
     "output_type": "execute_result"
    }
   ],
   "source": [
    "from sklearn.ensemble import GradientBoostingClassifier\n",
    "\n",
    "gb_clf = GradientBoostingClassifier(learning_rate=0.1, max_depth=5, n_estimators=5, subsample=0.75)\n",
    "gb_clf.fit(X_train, y_train)"
   ]
  },
  {
   "cell_type": "code",
   "execution_count": 96,
   "metadata": {},
   "outputs": [
    {
     "name": "stdout",
     "output_type": "stream",
     "text": [
      "Accuracy Score\n",
      "Train Accuracy Score: 0.998273\n",
      "Test Accuracy Score: 0.989691\n"
     ]
    }
   ],
   "source": [
    "print(\"Accuracy Score\")\n",
    "print(\"Train Accuracy Score: {:4f}\".format(gb_clf.score(X_train, y_train)))\n",
    "print(\"Test Accuracy Score: {:4f}\".format(gb_clf.score(X_test, y_test)))"
   ]
  },
  {
   "cell_type": "code",
   "execution_count": 97,
   "metadata": {},
   "outputs": [
    {
     "name": "stdout",
     "output_type": "stream",
     "text": [
      "ROC AUC Score\n",
      "Train AUC Score: 0.997845\n",
      "Test AUC Score: 0.986301\n"
     ]
    }
   ],
   "source": [
    "#ROC AUC Score\n",
    "print(\"ROC AUC Score\")\n",
    "print(\"Train AUC Score: {:4f}\".format(roc_auc_score(y_train, gb_clf.predict(X_train))))\n",
    "print(\"Test AUC Score: {:4f}\".format(roc_auc_score(y_test, gb_clf.predict(X_test))))"
   ]
  },
  {
   "cell_type": "markdown",
   "metadata": {},
   "source": [
    "### PCA"
   ]
  },
  {
   "cell_type": "code",
   "execution_count": 103,
   "metadata": {},
   "outputs": [
    {
     "name": "stdout",
     "output_type": "stream",
     "text": [
      "Number of dimensions: 8\n",
      "Explained Variance Ratio: [0.46595835 0.16895308 0.08676521 0.07537057 0.05218222 0.04335058\n",
      " 0.03557504 0.02864233]\n",
      "Cumulative Explained Variance Ratio: [0.466  0.635  0.7218 0.7972 0.8494 0.8928 0.9284 0.957 ]\n"
     ]
    },
    {
     "data": {
      "text/plain": [
       "[<matplotlib.lines.Line2D at 0x235c36d20f0>]"
      ]
     },
     "execution_count": 103,
     "metadata": {},
     "output_type": "execute_result"
    },
    {
     "data": {
      "image/png": "[encoded data removed]",
      "text/plain": [
       "<Figure size 432x288 with 1 Axes>"
      ]
     },
     "metadata": {
      "needs_background": "light"
     },
     "output_type": "display_data"
    }
   ],
   "source": [
    "from sklearn.decomposition import PCA\n",
    "\n",
    "# Dimension Reduction\n",
    "pca = PCA(0.95)\n",
    "X_reduced_train = pca.fit_transform(X_train)\n",
    "X_reduced_test = pca.transform(X_test)\n",
    "\n",
    "var = pca.explained_variance_ratio_\n",
    "var1 = np.cumsum(np.round(var, decimals=4))\n",
    "\n",
    "print('Number of dimensions:', pca.n_components_)\n",
    "print('Explained Variance Ratio:', var)\n",
    "print('Cumulative Explained Variance Ratio:',var1)\n",
    "\n",
    "plt.plot(var1)"
   ]
  },
  {
   "cell_type": "code",
   "execution_count": 106,
   "metadata": {},
   "outputs": [
    {
     "name": "stdout",
     "output_type": "stream",
     "text": [
      "(579, 8)\n",
      "(194, 8)\n"
     ]
    }
   ],
   "source": [
    "print(X_reduced_train.shape)\n",
    "print(X_reduced_test.shape)"
   ]
  },
  {
   "cell_type": "markdown",
   "metadata": {},
   "source": [
    "### KNN Classifier"
   ]
  },
  {
   "cell_type": "code",
   "execution_count": 109,
   "metadata": {},
   "outputs": [
    {
     "name": "stdout",
     "output_type": "stream",
     "text": [
      "Fitting 5 folds for each of 10 candidates, totalling 50 fits\n"
     ]
    },
    {
     "name": "stderr",
     "output_type": "stream",
     "text": [
      "[Parallel(n_jobs=-1)]: Using backend LokyBackend with 8 concurrent workers.\n"
     ]
    },
    {
     "name": "stdout",
     "output_type": "stream",
     "text": [
      "cv=5\n",
      "Best parameters: {'n_neighbors': 7}\n",
      "Best cross-validation score: 0.9890\n",
      "\n"
     ]
    },
    {
     "name": "stderr",
     "output_type": "stream",
     "text": [
      "[Parallel(n_jobs=-1)]: Done  16 tasks      | elapsed:   13.8s\n",
      "[Parallel(n_jobs=-1)]: Done  50 out of  50 | elapsed:   13.9s finished\n"
     ]
    }
   ],
   "source": [
    "knn = KNeighborsClassifier()\n",
    "parameters = {'n_neighbors':np.arange(1,11,1)}\n",
    "\n",
    "#cv =5\n",
    "knn_grid_search = GridSearchCV(knn, parameters, scoring ='roc_auc', cv=5, n_jobs = -1, verbose = 3)\n",
    "knn_grid_search.fit(X_reduced_train, y_train)\n",
    "print('cv=5')\n",
    "print(\"Best parameters: {}\".format(knn_grid_search.best_params_))\n",
    "print(\"Best cross-validation score: {:.4f}\".format(knn_grid_search.best_score_))\n",
    "print()"
   ]
  },
  {
   "cell_type": "code",
   "execution_count": 111,
   "metadata": {},
   "outputs": [],
   "source": [
    "knn_result = pd.DataFrame(knn_grid_search.cv_results_)"
   ]
  },
  {
   "cell_type": "code",
   "execution_count": 112,
   "metadata": {},
   "outputs": [
    {
     "data": {
      "image/png": "[encoded data removed]",
      "text/plain": [
       "<Figure size 432x288 with 1 Axes>"
      ]
     },
     "metadata": {
      "needs_background": "light"
     },
     "output_type": "display_data"
    }
   ],
   "source": [
    "plt.plot(np.arange(1,11,1), knn_result['mean_test_score'] )\n",
    "plt.xlabel('Number of Neighbors')\n",
    "plt.ylabel('Cross-Validated Accuracy')\n",
    "plt.grid()\n",
    "plt.show()                          #Get the highest accuracy when k=7"
   ]
  },
  {
   "cell_type": "code",
   "execution_count": 129,
   "metadata": {},
   "outputs": [
    {
     "data": {
      "image/png": "[encoded data removed]",
      "text/plain": [
       "<Figure size 720x432 with 1 Axes>"
      ]
     },
     "metadata": {
      "needs_background": "light"
     },
     "output_type": "display_data"
    }
   ],
   "source": [
    "grid_score_plot(knn_result,'param_n_neighbors','mean_train_score','mean_test_score',\n",
    "                'Grid Search Train Test Score Graph - KNN','n_neighbors','score')"
   ]
  },
  {
   "cell_type": "code",
   "execution_count": 114,
   "metadata": {},
   "outputs": [
    {
     "name": "stdout",
     "output_type": "stream",
     "text": [
      "KNN Classifier - Train Accuracy: 0.9637\n",
      "KNN Classifier - Test Accuracy: 0.9433 \n"
     ]
    }
   ],
   "source": [
    "knnclf_accuracy_train = knn_grid_search.best_estimator_.score(X_reduced_train, y_train)\n",
    "knnclf_accuracy_test = knn_grid_search.best_estimator_.score(X_reduced_test, y_test)\n",
    "\n",
    "print('KNN Classifier - Train Accuracy: %.4f'%knnclf_accuracy_train)\n",
    "print('KNN Classifier - Test Accuracy: %.4f '%knnclf_accuracy_test)"
   ]
  },
  {
   "cell_type": "code",
   "execution_count": 115,
   "metadata": {},
   "outputs": [
    {
     "name": "stdout",
     "output_type": "stream",
     "text": [
      "KNN Classifier - Train ROC AUC Score: 0.9576\n",
      "KNN Classifier - Test ROC AUC Score: 0.9247 \n"
     ]
    }
   ],
   "source": [
    "knnclf_auc_train = roc_auc_score(y_train, knn_grid_search.predict(X_reduced_train))\n",
    "knnclf_auc_test = roc_auc_score(y_test, knn_grid_search.predict(X_reduced_test))\n",
    "\n",
    "print('KNN Classifier - Train ROC AUC Score: %.4f'%knnclf_auc_train)\n",
    "print('KNN Classifier - Test ROC AUC Score: %.4f '%knnclf_auc_test)"
   ]
  },
  {
   "cell_type": "code",
   "execution_count": 123,
   "metadata": {},
   "outputs": [],
   "source": [
    "report_table =[['KNN Classification', str(knn_grid_search.best_params_).replace('{','', ).replace(\"'\",'').replace('}',''),\n",
    "                (knnclf_accuracy_train), (knnclf_accuracy_test), (knnclf_auc_train),(knnclf_auc_test)]]"
   ]
  },
  {
   "cell_type": "markdown",
   "metadata": {},
   "source": [
    "### Logistic Regression Classifier"
   ]
  },
  {
   "cell_type": "code",
   "execution_count": 116,
   "metadata": {},
   "outputs": [
    {
     "name": "stdout",
     "output_type": "stream",
     "text": [
      "Fitting 5 folds for each of 12 candidates, totalling 60 fits\n"
     ]
    },
    {
     "name": "stderr",
     "output_type": "stream",
     "text": [
      "[Parallel(n_jobs=-1)]: Using backend LokyBackend with 8 concurrent workers.\n",
      "[Parallel(n_jobs=-1)]: Done  16 tasks      | elapsed:    0.4s\n",
      "[Parallel(n_jobs=-1)]: Done  45 out of  60 | elapsed:    0.5s remaining:    0.1s\n"
     ]
    },
    {
     "name": "stdout",
     "output_type": "stream",
     "text": [
      "cv=5\n",
      "Best parameters: {'C': 100, 'penalty': 'l2'}\n",
      "Best cross-validation score: 0.9935\n",
      "\n"
     ]
    },
    {
     "name": "stderr",
     "output_type": "stream",
     "text": [
      "[Parallel(n_jobs=-1)]: Done  60 out of  60 | elapsed:    0.7s finished\n"
     ]
    }
   ],
   "source": [
    "model = LogisticRegression(random_state=101)\n",
    "parameters = {'C':[0.001, 0.01, 0.1, 1, 10, 100],\n",
    "              'penalty': ['l1', 'l2']}\n",
    "\n",
    "#cv =5\n",
    "log_grid_search = GridSearchCV(model, parameters, cv=5, scoring='roc_auc', n_jobs = -1,verbose=3)\n",
    "log_grid_search.fit(X_reduced_train, y_train)\n",
    "print('cv=5')\n",
    "print(\"Best parameters: {}\".format(log_grid_search.best_params_))\n",
    "print(\"Best cross-validation score: {:.4f}\".format(log_grid_search.best_score_))\n",
    "print()\n"
   ]
  },
  {
   "cell_type": "code",
   "execution_count": 117,
   "metadata": {},
   "outputs": [],
   "source": [
    "log_result = pd.DataFrame(log_grid_search.cv_results_)"
   ]
  },
  {
   "cell_type": "code",
   "execution_count": 118,
   "metadata": {},
   "outputs": [],
   "source": [
    "log_result['parameters'] = log_result.params.apply(lambda x: str(x).replace('{','').replace('}',''))\n",
    "log_result['index'] = log_result.index"
   ]
  },
  {
   "cell_type": "code",
   "execution_count": 119,
   "metadata": {},
   "outputs": [
    {
     "data": {
      "image/png": "[encoded data removed]",
      "text/plain": [
       "<Figure size 720x432 with 1 Axes>"
      ]
     },
     "metadata": {
      "needs_background": "light"
     },
     "output_type": "display_data"
    },
    {
     "data": {
      "text/html": [
       "<div>\n",
       "<style scoped>\n",
       "    .dataframe tbody tr th:only-of-type {\n",
       "        vertical-align: middle;\n",
       "    }\n",
       "\n",
       "    .dataframe tbody tr th {\n",
       "        vertical-align: top;\n",
       "    }\n",
       "\n",
       "    .dataframe thead th {\n",
       "        text-align: right;\n",
       "    }\n",
       "</style>\n",
       "<table border=\"1\" class=\"dataframe\">\n",
       "  <thead>\n",
       "    <tr style=\"text-align: right;\">\n",
       "      <th></th>\n",
       "      <th>0</th>\n",
       "      <th>1</th>\n",
       "      <th>2</th>\n",
       "      <th>3</th>\n",
       "      <th>4</th>\n",
       "      <th>5</th>\n",
       "      <th>6</th>\n",
       "      <th>7</th>\n",
       "      <th>8</th>\n",
       "      <th>9</th>\n",
       "      <th>10</th>\n",
       "      <th>11</th>\n",
       "    </tr>\n",
       "  </thead>\n",
       "  <tbody>\n",
       "    <tr>\n",
       "      <th>index</th>\n",
       "      <td>0</td>\n",
       "      <td>1</td>\n",
       "      <td>2</td>\n",
       "      <td>3</td>\n",
       "      <td>4</td>\n",
       "      <td>5</td>\n",
       "      <td>6</td>\n",
       "      <td>7</td>\n",
       "      <td>8</td>\n",
       "      <td>9</td>\n",
       "      <td>10</td>\n",
       "      <td>11</td>\n",
       "    </tr>\n",
       "    <tr>\n",
       "      <th>parameters</th>\n",
       "      <td>'C': 0.001, 'penalty': 'l1'</td>\n",
       "      <td>'C': 0.001, 'penalty': 'l2'</td>\n",
       "      <td>'C': 0.01, 'penalty': 'l1'</td>\n",
       "      <td>'C': 0.01, 'penalty': 'l2'</td>\n",
       "      <td>'C': 0.1, 'penalty': 'l1'</td>\n",
       "      <td>'C': 0.1, 'penalty': 'l2'</td>\n",
       "      <td>'C': 1, 'penalty': 'l1'</td>\n",
       "      <td>'C': 1, 'penalty': 'l2'</td>\n",
       "      <td>'C': 10, 'penalty': 'l1'</td>\n",
       "      <td>'C': 10, 'penalty': 'l2'</td>\n",
       "      <td>'C': 100, 'penalty': 'l1'</td>\n",
       "      <td>'C': 100, 'penalty': 'l2'</td>\n",
       "    </tr>\n",
       "  </tbody>\n",
       "</table>\n",
       "</div>"
      ],
      "text/plain": [
       "                                     0                            1   \\\n",
       "index                                 0                            1   \n",
       "parameters  'C': 0.001, 'penalty': 'l1'  'C': 0.001, 'penalty': 'l2'   \n",
       "\n",
       "                                    2                           3   \\\n",
       "index                                2                           3   \n",
       "parameters  'C': 0.01, 'penalty': 'l1'  'C': 0.01, 'penalty': 'l2'   \n",
       "\n",
       "                                   4                          5   \\\n",
       "index                               4                          5   \n",
       "parameters  'C': 0.1, 'penalty': 'l1'  'C': 0.1, 'penalty': 'l2'   \n",
       "\n",
       "                                 6                        7   \\\n",
       "index                             6                        7   \n",
       "parameters  'C': 1, 'penalty': 'l1'  'C': 1, 'penalty': 'l2'   \n",
       "\n",
       "                                  8                         9   \\\n",
       "index                              8                         9   \n",
       "parameters  'C': 10, 'penalty': 'l1'  'C': 10, 'penalty': 'l2'   \n",
       "\n",
       "                                   10                         11  \n",
       "index                              10                         11  \n",
       "parameters  'C': 100, 'penalty': 'l1'  'C': 100, 'penalty': 'l2'  "
      ]
     },
     "execution_count": 119,
     "metadata": {},
     "output_type": "execute_result"
    }
   ],
   "source": [
    "grid_score_plot(log_result,'index','mean_train_score','mean_test_score',\n",
    "               'Grid Search Train Test Score Graph - Logistic Regression','Parameters','score')\n",
    "log_result[['index','parameters']].transpose()"
   ]
  },
  {
   "cell_type": "code",
   "execution_count": 120,
   "metadata": {},
   "outputs": [
    {
     "name": "stdout",
     "output_type": "stream",
     "text": [
      "Logistic Regression Classifier - Train Accuracy: 0.9672\n",
      "Logistic Regression Classifier - Test Accuracy: 0.9794 \n"
     ]
    }
   ],
   "source": [
    "logistic_accuracy_train = log_grid_search.best_estimator_.score(X_reduced_train, y_train)\n",
    "logistic_accuracy_test = log_grid_search.best_estimator_.score(X_reduced_test, y_test)\n",
    "\n",
    "print('Logistic Regression Classifier - Train Accuracy: %.4f'%logistic_accuracy_train)\n",
    "print('Logistic Regression Classifier - Test Accuracy: %.4f '%logistic_accuracy_test)"
   ]
  },
  {
   "cell_type": "code",
   "execution_count": 121,
   "metadata": {},
   "outputs": [
    {
     "name": "stdout",
     "output_type": "stream",
     "text": [
      "Logstic Regression - Train ROC AUC Score: 0.9641\n",
      "Logistic Regression - Test ROC AUC Score: 0.9726 \n"
     ]
    }
   ],
   "source": [
    "logistic_auc_train = roc_auc_score(y_train, log_grid_search.predict(X_reduced_train))\n",
    "logistic_auc_test = roc_auc_score(y_test, log_grid_search.predict(X_reduced_test))\n",
    "\n",
    "print('Logstic Regression - Train ROC AUC Score: %.4f'%logistic_auc_train)\n",
    "print('Logistic Regression - Test ROC AUC Score: %.4f '%logistic_auc_test)"
   ]
  },
  {
   "cell_type": "code",
   "execution_count": 124,
   "metadata": {},
   "outputs": [],
   "source": [
    "report_table = report_table + [['Logistic Regression', str(log_grid_search.best_params_).replace('{','', ).replace(\"'\",'').replace('}',''), \n",
    "                                logistic_accuracy_train, logistic_accuracy_test, logistic_auc_train,logistic_auc_test]]"
   ]
  },
  {
   "cell_type": "markdown",
   "metadata": {},
   "source": [
    "### Linear SVC Classifier"
   ]
  },
  {
   "cell_type": "code",
   "execution_count": 125,
   "metadata": {},
   "outputs": [
    {
     "name": "stdout",
     "output_type": "stream",
     "text": [
      "Fitting 5 folds for each of 18 candidates, totalling 90 fits\n"
     ]
    },
    {
     "name": "stderr",
     "output_type": "stream",
     "text": [
      "[Parallel(n_jobs=-1)]: Using backend LokyBackend with 8 concurrent workers.\n",
      "[Parallel(n_jobs=-1)]: Done  13 out of  90 | elapsed:    0.1s remaining:    1.0s\n"
     ]
    },
    {
     "name": "stdout",
     "output_type": "stream",
     "text": [
      "cv=5\n",
      "Best parameters: {'C': 1, 'loss': 'hinge', 'penalty': 'l2'}\n",
      "Best cross-validation score: 0.9655\n",
      "\n"
     ]
    },
    {
     "name": "stderr",
     "output_type": "stream",
     "text": [
      "[Parallel(n_jobs=-1)]: Done  90 out of  90 | elapsed:    0.3s finished\n",
      "C:\\Users\\josep\\Anaconda3\\lib\\site-packages\\sklearn\\model_selection\\_search.py:841: DeprecationWarning: The default of the `iid` parameter will change from True to False in version 0.22 and will be removed in 0.24. This will change numeric results when test-set sizes are unequal.\n",
      "  DeprecationWarning)\n"
     ]
    }
   ],
   "source": [
    "model = LinearSVC()\n",
    "parameters = [{'C':[0.001, 0.01, 0.1, 1, 10, 100], 'penalty':['l2'],'loss':['hinge','squared_hinge']},\n",
    "              {'C':[0.001, 0.01, 0.1, 1, 10, 100], 'penalty':['l1'], 'dual':[False], 'loss':['squared_hinge']}]\n",
    "\n",
    "#cv =5\n",
    "lin_svc_grid = GridSearchCV(model, parameters, cv=5, n_jobs = -1, verbose=3)\n",
    "lin_svc_grid.fit(X_reduced_train, y_train)\n",
    "print('cv=5')\n",
    "print(\"Best parameters: {}\".format(lin_svc_grid.best_params_))\n",
    "print(\"Best cross-validation score: {:.4f}\".format(lin_svc_grid.best_score_))\n",
    "print()\n"
   ]
  },
  {
   "cell_type": "code",
   "execution_count": 131,
   "metadata": {},
   "outputs": [],
   "source": [
    "lin_svc_result = pd.DataFrame(lin_svc_grid.cv_results_)"
   ]
  },
  {
   "cell_type": "code",
   "execution_count": 130,
   "metadata": {},
   "outputs": [
    {
     "data": {
      "image/png": "[encoded data removed]",
      "text/plain": [
       "<Figure size 720x432 with 1 Axes>"
      ]
     },
     "metadata": {
      "needs_background": "light"
     },
     "output_type": "display_data"
    }
   ],
   "source": [
    "grid_score_plot(lin_svc_result,'param_C','mean_train_score','mean_test_score',\n",
    "               'Grid Search Train Test Score Graph - Linear SVC','parameters: C' ,'score')"
   ]
  },
  {
   "cell_type": "code",
   "execution_count": 133,
   "metadata": {},
   "outputs": [
    {
     "name": "stdout",
     "output_type": "stream",
     "text": [
      "Linear SVC - Train Accuracy: 0.9706\n",
      "Linear SVC - Test Accuracy: 0.9742 \n"
     ]
    }
   ],
   "source": [
    "lsvc_accuracy_train = lin_svc_grid.best_estimator_.score(X_reduced_train, y_train)\n",
    "lsvc_accuracy_test = lin_svc_grid.best_estimator_.score(X_reduced_test, y_test) \n",
    "\n",
    "print('Linear SVC - Train Accuracy: %.4f'%lsvc_accuracy_train)\n",
    "print('Linear SVC - Test Accuracy: %.4f '%lsvc_accuracy_test)"
   ]
  },
  {
   "cell_type": "code",
   "execution_count": 134,
   "metadata": {},
   "outputs": [
    {
     "name": "stdout",
     "output_type": "stream",
     "text": [
      "Linear SVC - Train ROC AUC Score: 0.9655\n",
      "Linear SVC - Test ROC AUC Score: 0.9658 \n"
     ]
    }
   ],
   "source": [
    "lsvc_auc_train = roc_auc_score(y_train, lin_svc_grid.predict(X_reduced_train))\n",
    "lsvc_auc_test = roc_auc_score(y_test, lin_svc_grid.predict(X_reduced_test))\n",
    "\n",
    "print('Linear SVC - Train ROC AUC Score: %.4f'%lsvc_auc_train)\n",
    "print('Linear SVC - Test ROC AUC Score: %.4f '%lsvc_auc_test)"
   ]
  },
  {
   "cell_type": "code",
   "execution_count": 135,
   "metadata": {},
   "outputs": [],
   "source": [
    "report_table = report_table + [['Linear SVC', str(lin_svc_grid.best_params_).replace('{','', ).replace(\"'\",'').replace('}',''), \n",
    "                                lsvc_accuracy_train, lsvc_accuracy_test, lsvc_auc_train,lsvc_auc_test]]"
   ]
  },
  {
   "cell_type": "markdown",
   "metadata": {},
   "source": [
    "### RBF Kernel SVC"
   ]
  },
  {
   "cell_type": "code",
   "execution_count": 136,
   "metadata": {},
   "outputs": [
    {
     "name": "stdout",
     "output_type": "stream",
     "text": [
      "Fitting 5 folds for each of 36 candidates, totalling 180 fits\n"
     ]
    },
    {
     "name": "stderr",
     "output_type": "stream",
     "text": [
      "[Parallel(n_jobs=-1)]: Using backend LokyBackend with 8 concurrent workers.\n",
      "[Parallel(n_jobs=-1)]: Done  16 tasks      | elapsed:    0.1s\n"
     ]
    },
    {
     "name": "stdout",
     "output_type": "stream",
     "text": [
      "cv=5\n",
      "Best parameters: {'C': 0.001, 'gamma': 1}\n",
      "Best cross-validation score: 0.9948\n",
      "\n"
     ]
    },
    {
     "name": "stderr",
     "output_type": "stream",
     "text": [
      "[Parallel(n_jobs=-1)]: Done 180 out of 180 | elapsed:    0.9s finished\n"
     ]
    }
   ],
   "source": [
    "model = SVC(kernel='rbf')\n",
    "parameters = [{'C':[0.001, 0.01, 0.1, 1, 10, 100], 'gamma':[0.001,0.01,0.1,1,10,100]}]\n",
    "\n",
    "#cv =5\n",
    "rbf_svc_grid = GridSearchCV(model, parameters, scoring = 'roc_auc',cv=5, n_jobs = -1, verbose=3)\n",
    "rbf_svc_grid.fit(X_reduced_train, y_train)\n",
    "print('cv=5')\n",
    "print(\"Best parameters: {}\".format(rbf_svc_grid.best_params_))\n",
    "print(\"Best cross-validation score: {:.4f}\".format(rbf_svc_grid.best_score_))\n",
    "print()\n"
   ]
  },
  {
   "cell_type": "code",
   "execution_count": 137,
   "metadata": {},
   "outputs": [],
   "source": [
    "rbf_svc_result = pd.DataFrame(rbf_svc_grid.cv_results_)\n",
    "rbf_svc_result['parameters'] = rbf_svc_result.params.apply(lambda x: str(x).replace('{','').replace('}',''))\n",
    "rbf_svc_result['index'] = rbf_svc_result.index"
   ]
  },
  {
   "cell_type": "code",
   "execution_count": 138,
   "metadata": {},
   "outputs": [
    {
     "data": {
      "image/png": "[encoded data removed]",
      "text/plain": [
       "<Figure size 720x432 with 1 Axes>"
      ]
     },
     "metadata": {
      "needs_background": "light"
     },
     "output_type": "display_data"
    },
    {
     "data": {
      "text/html": [
       "<div>\n",
       "<style scoped>\n",
       "    .dataframe tbody tr th:only-of-type {\n",
       "        vertical-align: middle;\n",
       "    }\n",
       "\n",
       "    .dataframe tbody tr th {\n",
       "        vertical-align: top;\n",
       "    }\n",
       "\n",
       "    .dataframe thead th {\n",
       "        text-align: right;\n",
       "    }\n",
       "</style>\n",
       "<table border=\"1\" class=\"dataframe\">\n",
       "  <thead>\n",
       "    <tr style=\"text-align: right;\">\n",
       "      <th></th>\n",
       "      <th>0</th>\n",
       "      <th>1</th>\n",
       "      <th>2</th>\n",
       "      <th>3</th>\n",
       "      <th>4</th>\n",
       "      <th>5</th>\n",
       "      <th>6</th>\n",
       "      <th>7</th>\n",
       "      <th>8</th>\n",
       "      <th>9</th>\n",
       "      <th>...</th>\n",
       "      <th>26</th>\n",
       "      <th>27</th>\n",
       "      <th>28</th>\n",
       "      <th>29</th>\n",
       "      <th>30</th>\n",
       "      <th>31</th>\n",
       "      <th>32</th>\n",
       "      <th>33</th>\n",
       "      <th>34</th>\n",
       "      <th>35</th>\n",
       "    </tr>\n",
       "  </thead>\n",
       "  <tbody>\n",
       "    <tr>\n",
       "      <th>index</th>\n",
       "      <td>0</td>\n",
       "      <td>1</td>\n",
       "      <td>2</td>\n",
       "      <td>3</td>\n",
       "      <td>4</td>\n",
       "      <td>5</td>\n",
       "      <td>6</td>\n",
       "      <td>7</td>\n",
       "      <td>8</td>\n",
       "      <td>9</td>\n",
       "      <td>...</td>\n",
       "      <td>26</td>\n",
       "      <td>27</td>\n",
       "      <td>28</td>\n",
       "      <td>29</td>\n",
       "      <td>30</td>\n",
       "      <td>31</td>\n",
       "      <td>32</td>\n",
       "      <td>33</td>\n",
       "      <td>34</td>\n",
       "      <td>35</td>\n",
       "    </tr>\n",
       "    <tr>\n",
       "      <th>parameters</th>\n",
       "      <td>'C': 0.001, 'gamma': 0.001</td>\n",
       "      <td>'C': 0.001, 'gamma': 0.01</td>\n",
       "      <td>'C': 0.001, 'gamma': 0.1</td>\n",
       "      <td>'C': 0.001, 'gamma': 1</td>\n",
       "      <td>'C': 0.001, 'gamma': 10</td>\n",
       "      <td>'C': 0.001, 'gamma': 100</td>\n",
       "      <td>'C': 0.01, 'gamma': 0.001</td>\n",
       "      <td>'C': 0.01, 'gamma': 0.01</td>\n",
       "      <td>'C': 0.01, 'gamma': 0.1</td>\n",
       "      <td>'C': 0.01, 'gamma': 1</td>\n",
       "      <td>...</td>\n",
       "      <td>'C': 10, 'gamma': 0.1</td>\n",
       "      <td>'C': 10, 'gamma': 1</td>\n",
       "      <td>'C': 10, 'gamma': 10</td>\n",
       "      <td>'C': 10, 'gamma': 100</td>\n",
       "      <td>'C': 100, 'gamma': 0.001</td>\n",
       "      <td>'C': 100, 'gamma': 0.01</td>\n",
       "      <td>'C': 100, 'gamma': 0.1</td>\n",
       "      <td>'C': 100, 'gamma': 1</td>\n",
       "      <td>'C': 100, 'gamma': 10</td>\n",
       "      <td>'C': 100, 'gamma': 100</td>\n",
       "    </tr>\n",
       "  </tbody>\n",
       "</table>\n",
       "<p>2 rows × 36 columns</p>\n",
       "</div>"
      ],
      "text/plain": [
       "                                    0                          1   \\\n",
       "index                                0                          1   \n",
       "parameters  'C': 0.001, 'gamma': 0.001  'C': 0.001, 'gamma': 0.01   \n",
       "\n",
       "                                  2                       3   \\\n",
       "index                              2                       3   \n",
       "parameters  'C': 0.001, 'gamma': 0.1  'C': 0.001, 'gamma': 1   \n",
       "\n",
       "                                 4                         5   \\\n",
       "index                             4                         5   \n",
       "parameters  'C': 0.001, 'gamma': 10  'C': 0.001, 'gamma': 100   \n",
       "\n",
       "                                   6                         7   \\\n",
       "index                               6                         7   \n",
       "parameters  'C': 0.01, 'gamma': 0.001  'C': 0.01, 'gamma': 0.01   \n",
       "\n",
       "                                 8                      9   ...  \\\n",
       "index                             8                      9  ...   \n",
       "parameters  'C': 0.01, 'gamma': 0.1  'C': 0.01, 'gamma': 1  ...   \n",
       "\n",
       "                               26                   27                    28  \\\n",
       "index                          26                   27                    28   \n",
       "parameters  'C': 10, 'gamma': 0.1  'C': 10, 'gamma': 1  'C': 10, 'gamma': 10   \n",
       "\n",
       "                               29                        30  \\\n",
       "index                          29                        30   \n",
       "parameters  'C': 10, 'gamma': 100  'C': 100, 'gamma': 0.001   \n",
       "\n",
       "                                 31                      32  \\\n",
       "index                            31                      32   \n",
       "parameters  'C': 100, 'gamma': 0.01  'C': 100, 'gamma': 0.1   \n",
       "\n",
       "                              33                     34  \\\n",
       "index                         33                     34   \n",
       "parameters  'C': 100, 'gamma': 1  'C': 100, 'gamma': 10   \n",
       "\n",
       "                                35  \n",
       "index                           35  \n",
       "parameters  'C': 100, 'gamma': 100  \n",
       "\n",
       "[2 rows x 36 columns]"
      ]
     },
     "execution_count": 138,
     "metadata": {},
     "output_type": "execute_result"
    }
   ],
   "source": [
    "grid_score_plot(rbf_svc_result,'index','mean_train_score','mean_test_score',\n",
    "               'Grid Search Train Test Score Graph - RBF kernel SVC','parameters','score')\n",
    "rbf_svc_result[['index','parameters']].transpose()"
   ]
  },
  {
   "cell_type": "code",
   "execution_count": 139,
   "metadata": {},
   "outputs": [
    {
     "name": "stdout",
     "output_type": "stream",
     "text": [
      "RBF SVC - Train Accuracy: 0.5993\n",
      "RBF SVC - Test Accuracy: 0.6237 \n"
     ]
    }
   ],
   "source": [
    "rbf_svc_accuracy_train = rbf_svc_grid.best_estimator_.score(X_reduced_train, y_train)\n",
    "rbf_svc_accuracy_test = rbf_svc_grid.best_estimator_.score(X_reduced_test, y_test)\n",
    "\n",
    "print('RBF SVC - Train Accuracy: %.4f'%rbf_svc_accuracy_train)\n",
    "print('RBF SVC - Test Accuracy: %.4f '%rbf_svc_accuracy_test)"
   ]
  },
  {
   "cell_type": "code",
   "execution_count": 140,
   "metadata": {},
   "outputs": [
    {
     "name": "stdout",
     "output_type": "stream",
     "text": [
      "RBF Kernel SVC - Train ROC AUC Score: 0.5000\n",
      "RBF Kernel SVC - Test ROC AUC Score: 0.5000 \n"
     ]
    }
   ],
   "source": [
    "rbf_svc_auc_train = roc_auc_score(y_train, rbf_svc_grid.predict(X_reduced_train))\n",
    "rbf_svc_auc_test = roc_auc_score(y_test, rbf_svc_grid.predict(X_reduced_test))\n",
    "\n",
    "print('RBF Kernel SVC - Train ROC AUC Score: %.4f'%rbf_svc_auc_train)\n",
    "print('RBF Kernel SVC - Test ROC AUC Score: %.4f '%rbf_svc_auc_test)"
   ]
  },
  {
   "cell_type": "code",
   "execution_count": 141,
   "metadata": {},
   "outputs": [],
   "source": [
    "report_table  = report_table +[['RBF Kernel SVC', str(rbf_svc_grid.best_params_).replace('{','', ).replace(\"'\",'').replace('}',''), \n",
    "                                rbf_svc_accuracy_train, rbf_svc_accuracy_test,rbf_svc_auc_train,rbf_svc_auc_test]]"
   ]
  },
  {
   "cell_type": "markdown",
   "metadata": {},
   "source": [
    "### Decision Tree Classifier"
   ]
  },
  {
   "cell_type": "code",
   "execution_count": 144,
   "metadata": {},
   "outputs": [
    {
     "name": "stdout",
     "output_type": "stream",
     "text": [
      "Fitting 5 folds for each of 50 candidates, totalling 250 fits\n"
     ]
    },
    {
     "name": "stderr",
     "output_type": "stream",
     "text": [
      "[Parallel(n_jobs=-1)]: Using backend LokyBackend with 8 concurrent workers.\n",
      "[Parallel(n_jobs=-1)]: Done  16 tasks      | elapsed:    6.1s\n"
     ]
    },
    {
     "name": "stdout",
     "output_type": "stream",
     "text": [
      "cv=5\n",
      "Best parameters: {'max_depth': 4, 'max_features': 5}\n",
      "Best cross-validation score: 0.9708\n",
      "\n"
     ]
    },
    {
     "name": "stderr",
     "output_type": "stream",
     "text": [
      "[Parallel(n_jobs=-1)]: Done 250 out of 250 | elapsed:    6.8s finished\n",
      "C:\\Users\\josep\\Anaconda3\\lib\\site-packages\\sklearn\\model_selection\\_search.py:841: DeprecationWarning: The default of the `iid` parameter will change from True to False in version 0.22 and will be removed in 0.24. This will change numeric results when test-set sizes are unequal.\n",
      "  DeprecationWarning)\n"
     ]
    }
   ],
   "source": [
    "model = DecisionTreeClassifier()\n",
    "parameters = [{'max_depth':[1,2,3,4,5,6,7,8,9,10], 'max_features':[1,2,3,4,5]}]\n",
    "\n",
    "#cv =5\n",
    "dtree_grid = GridSearchCV(model, parameters, scoring='roc_auc', cv=5, n_jobs = -1, verbose = 3)\n",
    "dtree_grid.fit(X_reduced_train, y_train)\n",
    "print('cv=5')\n",
    "print(\"Best parameters: {}\".format(dtree_grid.best_params_))\n",
    "print(\"Best cross-validation score: {:.4f}\".format(dtree_grid.best_score_))\n",
    "print()"
   ]
  },
  {
   "cell_type": "code",
   "execution_count": 145,
   "metadata": {},
   "outputs": [],
   "source": [
    "dtree_result = pd.DataFrame(dtree_grid.cv_results_)\n",
    "dtree_result['parameters'] = dtree_result.params.apply(lambda x: str(x).replace('{','').replace('}',''))\n",
    "dtree_result['index'] = dtree_result.index"
   ]
  },
  {
   "cell_type": "code",
   "execution_count": 148,
   "metadata": {},
   "outputs": [
    {
     "data": {
      "image/png": "[encoded data removed]",
      "text/plain": [
       "<Figure size 720x432 with 1 Axes>"
      ]
     },
     "metadata": {
      "needs_background": "light"
     },
     "output_type": "display_data"
    },
    {
     "data": {
      "text/html": [
       "<div>\n",
       "<style scoped>\n",
       "    .dataframe tbody tr th:only-of-type {\n",
       "        vertical-align: middle;\n",
       "    }\n",
       "\n",
       "    .dataframe tbody tr th {\n",
       "        vertical-align: top;\n",
       "    }\n",
       "\n",
       "    .dataframe thead th {\n",
       "        text-align: right;\n",
       "    }\n",
       "</style>\n",
       "<table border=\"1\" class=\"dataframe\">\n",
       "  <thead>\n",
       "    <tr style=\"text-align: right;\">\n",
       "      <th></th>\n",
       "      <th>0</th>\n",
       "      <th>1</th>\n",
       "      <th>2</th>\n",
       "      <th>3</th>\n",
       "      <th>4</th>\n",
       "      <th>5</th>\n",
       "      <th>6</th>\n",
       "      <th>7</th>\n",
       "      <th>8</th>\n",
       "      <th>9</th>\n",
       "      <th>...</th>\n",
       "      <th>40</th>\n",
       "      <th>41</th>\n",
       "      <th>42</th>\n",
       "      <th>43</th>\n",
       "      <th>44</th>\n",
       "      <th>45</th>\n",
       "      <th>46</th>\n",
       "      <th>47</th>\n",
       "      <th>48</th>\n",
       "      <th>49</th>\n",
       "    </tr>\n",
       "  </thead>\n",
       "  <tbody>\n",
       "    <tr>\n",
       "      <th>index</th>\n",
       "      <td>0</td>\n",
       "      <td>1</td>\n",
       "      <td>2</td>\n",
       "      <td>3</td>\n",
       "      <td>4</td>\n",
       "      <td>5</td>\n",
       "      <td>6</td>\n",
       "      <td>7</td>\n",
       "      <td>8</td>\n",
       "      <td>9</td>\n",
       "      <td>...</td>\n",
       "      <td>40</td>\n",
       "      <td>41</td>\n",
       "      <td>42</td>\n",
       "      <td>43</td>\n",
       "      <td>44</td>\n",
       "      <td>45</td>\n",
       "      <td>46</td>\n",
       "      <td>47</td>\n",
       "      <td>48</td>\n",
       "      <td>49</td>\n",
       "    </tr>\n",
       "    <tr>\n",
       "      <th>parameters</th>\n",
       "      <td>'max_depth': 1, 'max_features': 1</td>\n",
       "      <td>'max_depth': 1, 'max_features': 2</td>\n",
       "      <td>'max_depth': 1, 'max_features': 3</td>\n",
       "      <td>'max_depth': 1, 'max_features': 4</td>\n",
       "      <td>'max_depth': 1, 'max_features': 5</td>\n",
       "      <td>'max_depth': 2, 'max_features': 1</td>\n",
       "      <td>'max_depth': 2, 'max_features': 2</td>\n",
       "      <td>'max_depth': 2, 'max_features': 3</td>\n",
       "      <td>'max_depth': 2, 'max_features': 4</td>\n",
       "      <td>'max_depth': 2, 'max_features': 5</td>\n",
       "      <td>...</td>\n",
       "      <td>'max_depth': 9, 'max_features': 1</td>\n",
       "      <td>'max_depth': 9, 'max_features': 2</td>\n",
       "      <td>'max_depth': 9, 'max_features': 3</td>\n",
       "      <td>'max_depth': 9, 'max_features': 4</td>\n",
       "      <td>'max_depth': 9, 'max_features': 5</td>\n",
       "      <td>'max_depth': 10, 'max_features': 1</td>\n",
       "      <td>'max_depth': 10, 'max_features': 2</td>\n",
       "      <td>'max_depth': 10, 'max_features': 3</td>\n",
       "      <td>'max_depth': 10, 'max_features': 4</td>\n",
       "      <td>'max_depth': 10, 'max_features': 5</td>\n",
       "    </tr>\n",
       "  </tbody>\n",
       "</table>\n",
       "<p>2 rows × 50 columns</p>\n",
       "</div>"
      ],
      "text/plain": [
       "                                           0   \\\n",
       "index                                       0   \n",
       "parameters  'max_depth': 1, 'max_features': 1   \n",
       "\n",
       "                                           1   \\\n",
       "index                                       1   \n",
       "parameters  'max_depth': 1, 'max_features': 2   \n",
       "\n",
       "                                           2   \\\n",
       "index                                       2   \n",
       "parameters  'max_depth': 1, 'max_features': 3   \n",
       "\n",
       "                                           3   \\\n",
       "index                                       3   \n",
       "parameters  'max_depth': 1, 'max_features': 4   \n",
       "\n",
       "                                           4   \\\n",
       "index                                       4   \n",
       "parameters  'max_depth': 1, 'max_features': 5   \n",
       "\n",
       "                                           5   \\\n",
       "index                                       5   \n",
       "parameters  'max_depth': 2, 'max_features': 1   \n",
       "\n",
       "                                           6   \\\n",
       "index                                       6   \n",
       "parameters  'max_depth': 2, 'max_features': 2   \n",
       "\n",
       "                                           7   \\\n",
       "index                                       7   \n",
       "parameters  'max_depth': 2, 'max_features': 3   \n",
       "\n",
       "                                           8   \\\n",
       "index                                       8   \n",
       "parameters  'max_depth': 2, 'max_features': 4   \n",
       "\n",
       "                                           9   ...  \\\n",
       "index                                       9  ...   \n",
       "parameters  'max_depth': 2, 'max_features': 5  ...   \n",
       "\n",
       "                                           40  \\\n",
       "index                                      40   \n",
       "parameters  'max_depth': 9, 'max_features': 1   \n",
       "\n",
       "                                           41  \\\n",
       "index                                      41   \n",
       "parameters  'max_depth': 9, 'max_features': 2   \n",
       "\n",
       "                                           42  \\\n",
       "index                                      42   \n",
       "parameters  'max_depth': 9, 'max_features': 3   \n",
       "\n",
       "                                           43  \\\n",
       "index                                      43   \n",
       "parameters  'max_depth': 9, 'max_features': 4   \n",
       "\n",
       "                                           44  \\\n",
       "index                                      44   \n",
       "parameters  'max_depth': 9, 'max_features': 5   \n",
       "\n",
       "                                            45  \\\n",
       "index                                       45   \n",
       "parameters  'max_depth': 10, 'max_features': 1   \n",
       "\n",
       "                                            46  \\\n",
       "index                                       46   \n",
       "parameters  'max_depth': 10, 'max_features': 2   \n",
       "\n",
       "                                            47  \\\n",
       "index                                       47   \n",
       "parameters  'max_depth': 10, 'max_features': 3   \n",
       "\n",
       "                                            48  \\\n",
       "index                                       48   \n",
       "parameters  'max_depth': 10, 'max_features': 4   \n",
       "\n",
       "                                            49  \n",
       "index                                       49  \n",
       "parameters  'max_depth': 10, 'max_features': 5  \n",
       "\n",
       "[2 rows x 50 columns]"
      ]
     },
     "execution_count": 148,
     "metadata": {},
     "output_type": "execute_result"
    }
   ],
   "source": [
    "grid_score_plot(dtree_result,'index','mean_train_score','mean_test_score',\n",
    "               'Grid Search Train Test Score Graph - Decision Tree','parameters','score', False)\n",
    "dtree_result[['index','parameters']].transpose()"
   ]
  },
  {
   "cell_type": "code",
   "execution_count": 149,
   "metadata": {},
   "outputs": [
    {
     "name": "stdout",
     "output_type": "stream",
     "text": [
      "Decision Tree Classofier - Train Accuracy: 0.9706\n",
      "Decision Tree Classifier - Test Accuracy: 0.9381 \n"
     ]
    }
   ],
   "source": [
    "dtree_accuracy_train = dtree_grid.best_estimator_.score(X_reduced_train, y_train)\n",
    "dtree_accuracy_test = dtree_grid.best_estimator_.score(X_reduced_test, y_test)\n",
    "\n",
    "print('Decision Tree Classofier - Train Accuracy: %.4f'%dtree_accuracy_train)\n",
    "print('Decision Tree Classifier - Test Accuracy: %.4f '%dtree_accuracy_test)"
   ]
  },
  {
   "cell_type": "code",
   "execution_count": 150,
   "metadata": {},
   "outputs": [
    {
     "name": "stdout",
     "output_type": "stream",
     "text": [
      "Decision Tree Classifier - Train ROC AUC Score: 0.9641\n",
      "Decision Tree Classifier - Test ROC AUC Score: 0.9178 \n"
     ]
    }
   ],
   "source": [
    "dtree_auc_train = roc_auc_score(y_train, dtree_grid.predict(X_reduced_train))\n",
    "dtree_auc_test = roc_auc_score(y_test, dtree_grid.predict(X_reduced_test))\n",
    "\n",
    "print('Decision Tree Classifier - Train ROC AUC Score: %.4f'%dtree_auc_train)\n",
    "print('Decision Tree Classifier - Test ROC AUC Score: %.4f '%dtree_auc_test)"
   ]
  },
  {
   "cell_type": "code",
   "execution_count": 151,
   "metadata": {},
   "outputs": [],
   "source": [
    "report_table  = report_table +[['Decision Tree', str(dtree_grid.best_params_).replace('{','', ).replace(\"'\",'').replace('}',''), \n",
    "                                dtree_accuracy_train, dtree_accuracy_test,dtree_auc_train,dtree_auc_test]]"
   ]
  },
  {
   "cell_type": "code",
   "execution_count": 152,
   "metadata": {},
   "outputs": [],
   "source": [
    "report = pd.DataFrame(report_table,columns = ['Model Name', 'Model Parameters', \n",
    "                                              'Train Accuracy', 'Test Accuracy', \n",
    "                                              'Train AUC Score', 'Test AUC Score'])"
   ]
  },
  {
   "cell_type": "code",
   "execution_count": 153,
   "metadata": {},
   "outputs": [],
   "source": [
    "report.index = report['Model Name']\n",
    "report.drop(['Model Name'],axis=1, inplace=True)"
   ]
  },
  {
   "cell_type": "code",
   "execution_count": 154,
   "metadata": {},
   "outputs": [
    {
     "data": {
      "text/html": [
       "<div>\n",
       "<style scoped>\n",
       "    .dataframe tbody tr th:only-of-type {\n",
       "        vertical-align: middle;\n",
       "    }\n",
       "\n",
       "    .dataframe tbody tr th {\n",
       "        vertical-align: top;\n",
       "    }\n",
       "\n",
       "    .dataframe thead th {\n",
       "        text-align: right;\n",
       "    }\n",
       "</style>\n",
       "<table border=\"1\" class=\"dataframe\">\n",
       "  <thead>\n",
       "    <tr style=\"text-align: right;\">\n",
       "      <th></th>\n",
       "      <th>Model Parameters</th>\n",
       "      <th>Train Accuracy</th>\n",
       "      <th>Test Accuracy</th>\n",
       "      <th>Train AUC Score</th>\n",
       "      <th>Test AUC Score</th>\n",
       "    </tr>\n",
       "    <tr>\n",
       "      <th>Model Name</th>\n",
       "      <th></th>\n",
       "      <th></th>\n",
       "      <th></th>\n",
       "      <th></th>\n",
       "      <th></th>\n",
       "    </tr>\n",
       "  </thead>\n",
       "  <tbody>\n",
       "    <tr>\n",
       "      <th>KNN Classification</th>\n",
       "      <td>n_neighbors: 7</td>\n",
       "      <td>0.963731</td>\n",
       "      <td>0.943299</td>\n",
       "      <td>0.957598</td>\n",
       "      <td>0.924658</td>\n",
       "    </tr>\n",
       "    <tr>\n",
       "      <th>Logistic Regression</th>\n",
       "      <td>C: 100, penalty: l2</td>\n",
       "      <td>0.967185</td>\n",
       "      <td>0.979381</td>\n",
       "      <td>0.964051</td>\n",
       "      <td>0.972603</td>\n",
       "    </tr>\n",
       "    <tr>\n",
       "      <th>Linear SVC</th>\n",
       "      <td>C: 1, loss: hinge, penalty: l2</td>\n",
       "      <td>0.970639</td>\n",
       "      <td>0.974227</td>\n",
       "      <td>0.965505</td>\n",
       "      <td>0.965753</td>\n",
       "    </tr>\n",
       "    <tr>\n",
       "      <th>RBF Kernel SVC</th>\n",
       "      <td>C: 0.001, gamma: 1</td>\n",
       "      <td>0.599309</td>\n",
       "      <td>0.623711</td>\n",
       "      <td>0.500000</td>\n",
       "      <td>0.500000</td>\n",
       "    </tr>\n",
       "    <tr>\n",
       "      <th>Decision Tree</th>\n",
       "      <td>max_depth: 4, max_features: 5</td>\n",
       "      <td>0.970639</td>\n",
       "      <td>0.938144</td>\n",
       "      <td>0.964076</td>\n",
       "      <td>0.917808</td>\n",
       "    </tr>\n",
       "  </tbody>\n",
       "</table>\n",
       "</div>"
      ],
      "text/plain": [
       "                                   Model Parameters  Train Accuracy  \\\n",
       "Model Name                                                            \n",
       "KNN Classification                   n_neighbors: 7        0.963731   \n",
       "Logistic Regression             C: 100, penalty: l2        0.967185   \n",
       "Linear SVC           C: 1, loss: hinge, penalty: l2        0.970639   \n",
       "RBF Kernel SVC                   C: 0.001, gamma: 1        0.599309   \n",
       "Decision Tree         max_depth: 4, max_features: 5        0.970639   \n",
       "\n",
       "                     Test Accuracy  Train AUC Score  Test AUC Score  \n",
       "Model Name                                                           \n",
       "KNN Classification        0.943299         0.957598        0.924658  \n",
       "Logistic Regression       0.979381         0.964051        0.972603  \n",
       "Linear SVC                0.974227         0.965505        0.965753  \n",
       "RBF Kernel SVC            0.623711         0.500000        0.500000  \n",
       "Decision Tree             0.938144         0.964076        0.917808  "
      ]
     },
     "execution_count": 154,
     "metadata": {},
     "output_type": "execute_result"
    }
   ],
   "source": [
    "report"
   ]
  },
  {
   "cell_type": "code",
   "execution_count": 156,
   "metadata": {},
   "outputs": [
    {
     "data": {
      "text/plain": [
       "<matplotlib.axes._subplots.AxesSubplot at 0x235c5664c50>"
      ]
     },
     "execution_count": 156,
     "metadata": {},
     "output_type": "execute_result"
    },
    {
     "data": {
      "image/png": "[encoded data removed]",
      "text/plain": [
       "<Figure size 432x288 with 1 Axes>"
      ]
     },
     "metadata": {
      "needs_background": "light"
     },
     "output_type": "display_data"
    }
   ],
   "source": [
    "sns.barplot(y =report.index, x = 'Test AUC Score', data= report)"
   ]
  },
  {
   "cell_type": "markdown",
   "metadata": {},
   "source": [
    "Train and test scores of Logistic Regression, Linear Support Vector Classifier and Decision Tree Classifier are on the higher end.\n",
    "For all the other models, the train and test scores post PCA have drastically fallen down.\n",
    "\n",
    "Logistic Regression Classifier is considered as the best model for the PCA applied dataset."
   ]
  },
  {
   "cell_type": "code",
   "execution_count": 157,
   "metadata": {},
   "outputs": [
    {
     "data": {
      "text/html": [
       "<div>\n",
       "<style scoped>\n",
       "    .dataframe tbody tr th:only-of-type {\n",
       "        vertical-align: middle;\n",
       "    }\n",
       "\n",
       "    .dataframe tbody tr th {\n",
       "        vertical-align: top;\n",
       "    }\n",
       "\n",
       "    .dataframe thead th {\n",
       "        text-align: right;\n",
       "    }\n",
       "</style>\n",
       "<table border=\"1\" class=\"dataframe\">\n",
       "  <thead>\n",
       "    <tr style=\"text-align: right;\">\n",
       "      <th></th>\n",
       "      <th>Model Parameters</th>\n",
       "      <th>Train Accuracy</th>\n",
       "      <th>Test Accuracy</th>\n",
       "      <th>Train AUC Score</th>\n",
       "      <th>Test AUC Score</th>\n",
       "    </tr>\n",
       "    <tr>\n",
       "      <th>Model Name</th>\n",
       "      <th></th>\n",
       "      <th></th>\n",
       "      <th></th>\n",
       "      <th></th>\n",
       "      <th></th>\n",
       "    </tr>\n",
       "  </thead>\n",
       "  <tbody>\n",
       "    <tr>\n",
       "      <th>K Neighbors Classifier</th>\n",
       "      <td>n_neighbors: 10</td>\n",
       "      <td>0.950092</td>\n",
       "      <td>0.939655</td>\n",
       "      <td>0.937998</td>\n",
       "      <td>0.926510</td>\n",
       "    </tr>\n",
       "    <tr>\n",
       "      <th>Logistic Regression</th>\n",
       "      <td>C: 10 , penalty: l1</td>\n",
       "      <td>0.994455</td>\n",
       "      <td>0.995690</td>\n",
       "      <td>0.993763</td>\n",
       "      <td>0.994624</td>\n",
       "    </tr>\n",
       "    <tr>\n",
       "      <th>Linear Support Vector Machine Classifier</th>\n",
       "      <td>C: 10, dual: False, loss: squared_hinge, penal...</td>\n",
       "      <td>0.998152</td>\n",
       "      <td>0.995690</td>\n",
       "      <td>0.997642</td>\n",
       "      <td>0.994624</td>\n",
       "    </tr>\n",
       "    <tr>\n",
       "      <th>RBF Kernelized Support Vector Machine Classifier</th>\n",
       "      <td>C: 100, gamma: 0.001</td>\n",
       "      <td>0.983364</td>\n",
       "      <td>0.982759</td>\n",
       "      <td>0.981290</td>\n",
       "      <td>0.978495</td>\n",
       "    </tr>\n",
       "    <tr>\n",
       "      <th>Decision Tree Classifier</th>\n",
       "      <td>max_depth: 5, max_features: 10</td>\n",
       "      <td>0.992606</td>\n",
       "      <td>0.995690</td>\n",
       "      <td>0.990566</td>\n",
       "      <td>0.994624</td>\n",
       "    </tr>\n",
       "  </tbody>\n",
       "</table>\n",
       "</div>"
      ],
      "text/plain": [
       "                                                                                   Model Parameters  \\\n",
       "Model Name                                                                                            \n",
       "K Neighbors Classifier                                                              n_neighbors: 10   \n",
       "Logistic Regression                                                             C: 10 , penalty: l1   \n",
       "Linear Support Vector Machine Classifier          C: 10, dual: False, loss: squared_hinge, penal...   \n",
       "RBF Kernelized Support Vector Machine Classifier                               C: 100, gamma: 0.001   \n",
       "Decision Tree Classifier                                             max_depth: 5, max_features: 10   \n",
       "\n",
       "                                                  Train Accuracy  \\\n",
       "Model Name                                                         \n",
       "K Neighbors Classifier                                  0.950092   \n",
       "Logistic Regression                                     0.994455   \n",
       "Linear Support Vector Machine Classifier                0.998152   \n",
       "RBF Kernelized Support Vector Machine Classifier        0.983364   \n",
       "Decision Tree Classifier                                0.992606   \n",
       "\n",
       "                                                  Test Accuracy  \\\n",
       "Model Name                                                        \n",
       "K Neighbors Classifier                                 0.939655   \n",
       "Logistic Regression                                    0.995690   \n",
       "Linear Support Vector Machine Classifier               0.995690   \n",
       "RBF Kernelized Support Vector Machine Classifier       0.982759   \n",
       "Decision Tree Classifier                               0.995690   \n",
       "\n",
       "                                                  Train AUC Score  \\\n",
       "Model Name                                                          \n",
       "K Neighbors Classifier                                   0.937998   \n",
       "Logistic Regression                                      0.993763   \n",
       "Linear Support Vector Machine Classifier                 0.997642   \n",
       "RBF Kernelized Support Vector Machine Classifier         0.981290   \n",
       "Decision Tree Classifier                                 0.990566   \n",
       "\n",
       "                                                  Test AUC Score  \n",
       "Model Name                                                        \n",
       "K Neighbors Classifier                                  0.926510  \n",
       "Logistic Regression                                     0.994624  \n",
       "Linear Support Vector Machine Classifier                0.994624  \n",
       "RBF Kernelized Support Vector Machine Classifier        0.978495  \n",
       "Decision Tree Classifier                                0.994624  "
      ]
     },
     "execution_count": 157,
     "metadata": {},
     "output_type": "execute_result"
    }
   ],
   "source": [
    "old_table"
   ]
  },
  {
   "cell_type": "markdown",
   "metadata": {},
   "source": [
    "## Deep Learning (Keras)"
   ]
  },
  {
   "cell_type": "code",
   "execution_count": 171,
   "metadata": {},
   "outputs": [],
   "source": [
    "from tensorflow.keras.models import Sequential\n",
    "from tensorflow.keras.layers import Dense\n",
    "from keras.wrappers.scikit_learn import KerasClassifier\n",
    "\n",
    "# Defining model\n",
    "model = Sequential()\n",
    "model.add(Dense(12, input_dim=30,activation='relu'))\n",
    "model.add(Dense(8, activation='relu'))\n",
    "model.add(Dense(1, activation='sigmoid'))\n",
    "    \n",
    "# Compiling model\n",
    "model.compile(loss='binary_crossentropy', optimizer='adam', metrics=['accuracy'])"
   ]
  },
  {
   "cell_type": "code",
   "execution_count": 172,
   "metadata": {},
   "outputs": [
    {
     "name": "stdout",
     "output_type": "stream",
     "text": [
      "Epoch 1/100\n",
      "579/579 [==============================] - 1s 2ms/sample - loss: 0.6380 - acc: 0.6839\n",
      "Epoch 2/100\n",
      "579/579 [==============================] - 0s 619us/sample - loss: 0.4194 - acc: 0.9016\n",
      "Epoch 3/100\n",
      "579/579 [==============================] - 0s 612us/sample - loss: 0.2666 - acc: 0.9378\n",
      "Epoch 4/100\n",
      "579/579 [==============================] - 0s 627us/sample - loss: 0.1849 - acc: 0.9603\n",
      "Epoch 5/100\n",
      "579/579 [==============================] - 0s 620us/sample - loss: 0.1442 - acc: 0.9655\n",
      "Epoch 6/100\n",
      "579/579 [==============================] - 0s 662us/sample - loss: 0.1232 - acc: 0.9620\n",
      "Epoch 7/100\n",
      "579/579 [==============================] - 0s 683us/sample - loss: 0.1077 - acc: 0.9689\n",
      "Epoch 8/100\n",
      "579/579 [==============================] - 0s 615us/sample - loss: 0.0985 - acc: 0.9689\n",
      "Epoch 9/100\n",
      "579/579 [==============================] - 0s 717us/sample - loss: 0.0904 - acc: 0.9706\n",
      "Epoch 10/100\n",
      "579/579 [==============================] - 0s 612us/sample - loss: 0.0884 - acc: 0.9706\n",
      "Epoch 11/100\n",
      "579/579 [==============================] - 0s 622us/sample - loss: 0.0839 - acc: 0.9689\n",
      "Epoch 12/100\n",
      "579/579 [==============================] - 0s 643us/sample - loss: 0.0809 - acc: 0.9620\n",
      "Epoch 13/100\n",
      "579/579 [==============================] - 0s 637us/sample - loss: 0.0791 - acc: 0.9724\n",
      "Epoch 14/100\n",
      "579/579 [==============================] - 0s 649us/sample - loss: 0.0783 - acc: 0.9724\n",
      "Epoch 15/100\n",
      "579/579 [==============================] - 0s 618us/sample - loss: 0.0746 - acc: 0.9689\n",
      "Epoch 16/100\n",
      "579/579 [==============================] - 0s 647us/sample - loss: 0.0721 - acc: 0.9724\n",
      "Epoch 17/100\n",
      "579/579 [==============================] - 0s 605us/sample - loss: 0.0711 - acc: 0.9741\n",
      "Epoch 18/100\n",
      "579/579 [==============================] - 0s 645us/sample - loss: 0.0678 - acc: 0.9741\n",
      "Epoch 19/100\n",
      "579/579 [==============================] - 0s 630us/sample - loss: 0.0645 - acc: 0.9775\n",
      "Epoch 20/100\n",
      "579/579 [==============================] - 0s 682us/sample - loss: 0.0654 - acc: 0.9775\n",
      "Epoch 21/100\n",
      "579/579 [==============================] - 0s 662us/sample - loss: 0.0651 - acc: 0.9741\n",
      "Epoch 22/100\n",
      "579/579 [==============================] - 0s 627us/sample - loss: 0.0621 - acc: 0.9775\n",
      "Epoch 23/100\n",
      "579/579 [==============================] - 0s 613us/sample - loss: 0.0627 - acc: 0.9775\n",
      "Epoch 24/100\n",
      "579/579 [==============================] - 0s 625us/sample - loss: 0.0589 - acc: 0.9775\n",
      "Epoch 25/100\n",
      "579/579 [==============================] - 0s 675us/sample - loss: 0.0581 - acc: 0.9775\n",
      "Epoch 26/100\n",
      "579/579 [==============================] - 0s 675us/sample - loss: 0.0586 - acc: 0.9775\n",
      "Epoch 27/100\n",
      "579/579 [==============================] - 0s 664us/sample - loss: 0.0563 - acc: 0.9793\n",
      "Epoch 28/100\n",
      "579/579 [==============================] - 0s 615us/sample - loss: 0.0544 - acc: 0.9758\n",
      "Epoch 29/100\n",
      "579/579 [==============================] - 0s 680us/sample - loss: 0.0539 - acc: 0.9775\n",
      "Epoch 30/100\n",
      "579/579 [==============================] - 0s 684us/sample - loss: 0.0519 - acc: 0.9775\n",
      "Epoch 31/100\n",
      "579/579 [==============================] - 0s 649us/sample - loss: 0.0513 - acc: 0.9827\n",
      "Epoch 32/100\n",
      "579/579 [==============================] - 0s 624us/sample - loss: 0.0505 - acc: 0.9793\n",
      "Epoch 33/100\n",
      "579/579 [==============================] - 0s 634us/sample - loss: 0.0511 - acc: 0.9758\n",
      "Epoch 34/100\n",
      "579/579 [==============================] - 0s 572us/sample - loss: 0.0510 - acc: 0.9810\n",
      "Epoch 35/100\n",
      "579/579 [==============================] - 0s 704us/sample - loss: 0.0482 - acc: 0.9827\n",
      "Epoch 36/100\n",
      "579/579 [==============================] - 0s 540us/sample - loss: 0.0468 - acc: 0.9827\n",
      "Epoch 37/100\n",
      "579/579 [==============================] - 0s 567us/sample - loss: 0.0460 - acc: 0.9845\n",
      "Epoch 38/100\n",
      "579/579 [==============================] - 0s 519us/sample - loss: 0.0461 - acc: 0.9810\n",
      "Epoch 39/100\n",
      "579/579 [==============================] - 0s 541us/sample - loss: 0.0442 - acc: 0.9810\n",
      "Epoch 40/100\n",
      "579/579 [==============================] - 0s 546us/sample - loss: 0.0449 - acc: 0.9827\n",
      "Epoch 41/100\n",
      "579/579 [==============================] - 0s 555us/sample - loss: 0.0443 - acc: 0.9827\n",
      "Epoch 42/100\n",
      "579/579 [==============================] - 0s 556us/sample - loss: 0.0428 - acc: 0.9845\n",
      "Epoch 43/100\n",
      "579/579 [==============================] - 0s 553us/sample - loss: 0.0427 - acc: 0.9775\n",
      "Epoch 44/100\n",
      "579/579 [==============================] - 0s 575us/sample - loss: 0.0414 - acc: 0.9845\n",
      "Epoch 45/100\n",
      "579/579 [==============================] - 0s 605us/sample - loss: 0.0399 - acc: 0.9845\n",
      "Epoch 46/100\n",
      "579/579 [==============================] - 0s 544us/sample - loss: 0.0392 - acc: 0.9862\n",
      "Epoch 47/100\n",
      "579/579 [==============================] - 0s 543us/sample - loss: 0.0390 - acc: 0.9862\n",
      "Epoch 48/100\n",
      "579/579 [==============================] - 0s 531us/sample - loss: 0.0398 - acc: 0.9845\n",
      "Epoch 49/100\n",
      "579/579 [==============================] - 0s 524us/sample - loss: 0.0369 - acc: 0.9862\n",
      "Epoch 50/100\n",
      "579/579 [==============================] - 0s 555us/sample - loss: 0.0360 - acc: 0.9862\n",
      "Epoch 51/100\n",
      "579/579 [==============================] - 0s 565us/sample - loss: 0.0364 - acc: 0.9845\n",
      "Epoch 52/100\n",
      "579/579 [==============================] - 0s 547us/sample - loss: 0.0366 - acc: 0.9862\n",
      "Epoch 53/100\n",
      "579/579 [==============================] - 0s 665us/sample - loss: 0.0347 - acc: 0.9914\n",
      "Epoch 54/100\n",
      "579/579 [==============================] - 0s 572us/sample - loss: 0.0339 - acc: 0.9862\n",
      "Epoch 55/100\n",
      "579/579 [==============================] - 0s 568us/sample - loss: 0.0337 - acc: 0.9896\n",
      "Epoch 56/100\n",
      "579/579 [==============================] - 0s 527us/sample - loss: 0.0330 - acc: 0.9879\n",
      "Epoch 57/100\n",
      "579/579 [==============================] - 0s 510us/sample - loss: 0.0325 - acc: 0.9879\n",
      "Epoch 58/100\n",
      "579/579 [==============================] - 0s 520us/sample - loss: 0.0331 - acc: 0.9862\n",
      "Epoch 59/100\n",
      "579/579 [==============================] - 0s 647us/sample - loss: 0.0328 - acc: 0.9896\n",
      "Epoch 60/100\n",
      "579/579 [==============================] - 0s 545us/sample - loss: 0.0316 - acc: 0.9862\n",
      "Epoch 61/100\n",
      "579/579 [==============================] - 0s 546us/sample - loss: 0.0302 - acc: 0.9896\n",
      "Epoch 62/100\n",
      "579/579 [==============================] - 0s 560us/sample - loss: 0.0308 - acc: 0.9862\n",
      "Epoch 63/100\n",
      "579/579 [==============================] - 0s 538us/sample - loss: 0.0290 - acc: 0.9896\n",
      "Epoch 64/100\n",
      "579/579 [==============================] - 0s 537us/sample - loss: 0.0309 - acc: 0.9845\n",
      "Epoch 65/100\n",
      "579/579 [==============================] - 0s 551us/sample - loss: 0.0306 - acc: 0.9896\n",
      "Epoch 66/100\n",
      "579/579 [==============================] - 0s 543us/sample - loss: 0.0280 - acc: 0.9931\n",
      "Epoch 67/100\n",
      "579/579 [==============================] - 0s 532us/sample - loss: 0.0292 - acc: 0.9931\n",
      "Epoch 68/100\n",
      "579/579 [==============================] - 0s 534us/sample - loss: 0.0277 - acc: 0.9914\n",
      "Epoch 69/100\n",
      "579/579 [==============================] - 0s 655us/sample - loss: 0.0286 - acc: 0.9896\n",
      "Epoch 70/100\n",
      "579/579 [==============================] - 0s 617us/sample - loss: 0.0269 - acc: 0.9914\n",
      "Epoch 71/100\n",
      "579/579 [==============================] - 0s 596us/sample - loss: 0.0264 - acc: 0.9931\n",
      "Epoch 72/100\n",
      "579/579 [==============================] - 0s 551us/sample - loss: 0.0269 - acc: 0.9914\n",
      "Epoch 73/100\n",
      "579/579 [==============================] - 0s 520us/sample - loss: 0.0267 - acc: 0.9931\n",
      "Epoch 74/100\n",
      "579/579 [==============================] - 0s 527us/sample - loss: 0.0251 - acc: 0.9896\n",
      "Epoch 75/100\n",
      "579/579 [==============================] - 0s 556us/sample - loss: 0.0256 - acc: 0.9896\n",
      "Epoch 76/100\n",
      "579/579 [==============================] - 0s 680us/sample - loss: 0.0235 - acc: 0.9948\n",
      "Epoch 77/100\n",
      "579/579 [==============================] - 0s 532us/sample - loss: 0.0231 - acc: 0.9931\n",
      "Epoch 78/100\n",
      "579/579 [==============================] - 0s 556us/sample - loss: 0.0240 - acc: 0.9914\n",
      "Epoch 79/100\n",
      "579/579 [==============================] - 0s 520us/sample - loss: 0.0232 - acc: 0.9948\n",
      "Epoch 80/100\n",
      "579/579 [==============================] - 0s 625us/sample - loss: 0.0237 - acc: 0.9896\n",
      "Epoch 81/100\n",
      "579/579 [==============================] - 0s 539us/sample - loss: 0.0228 - acc: 0.9914\n",
      "Epoch 82/100\n"
     ]
    },
    {
     "name": "stdout",
     "output_type": "stream",
     "text": [
      "579/579 [==============================] - 0s 601us/sample - loss: 0.0222 - acc: 0.9948\n",
      "Epoch 83/100\n",
      "579/579 [==============================] - 0s 698us/sample - loss: 0.0216 - acc: 0.9948\n",
      "Epoch 84/100\n",
      "579/579 [==============================] - 0s 739us/sample - loss: 0.0214 - acc: 0.9965\n",
      "Epoch 85/100\n",
      "579/579 [==============================] - 0s 684us/sample - loss: 0.0209 - acc: 0.9914\n",
      "Epoch 86/100\n",
      "579/579 [==============================] - 0s 623us/sample - loss: 0.0209 - acc: 0.9931\n",
      "Epoch 87/100\n",
      "579/579 [==============================] - 0s 622us/sample - loss: 0.0196 - acc: 0.9948\n",
      "Epoch 88/100\n",
      "579/579 [==============================] - 0s 668us/sample - loss: 0.0203 - acc: 0.9931\n",
      "Epoch 89/100\n",
      "579/579 [==============================] - 0s 692us/sample - loss: 0.0198 - acc: 0.9931\n",
      "Epoch 90/100\n",
      "579/579 [==============================] - 0s 668us/sample - loss: 0.0190 - acc: 0.9931\n",
      "Epoch 91/100\n",
      "579/579 [==============================] - 0s 677us/sample - loss: 0.0187 - acc: 0.9931\n",
      "Epoch 92/100\n",
      "579/579 [==============================] - 0s 644us/sample - loss: 0.0187 - acc: 0.9931\n",
      "Epoch 93/100\n",
      "579/579 [==============================] - 0s 620us/sample - loss: 0.0194 - acc: 0.9931\n",
      "Epoch 94/100\n",
      "579/579 [==============================] - 0s 669us/sample - loss: 0.0198 - acc: 0.9896\n",
      "Epoch 95/100\n",
      "579/579 [==============================] - 0s 692us/sample - loss: 0.0174 - acc: 0.9948\n",
      "Epoch 96/100\n",
      "579/579 [==============================] - 0s 622us/sample - loss: 0.0191 - acc: 0.9948\n",
      "Epoch 97/100\n",
      "579/579 [==============================] - 0s 603us/sample - loss: 0.0174 - acc: 0.9914\n",
      "Epoch 98/100\n",
      "579/579 [==============================] - 0s 696us/sample - loss: 0.0171 - acc: 0.9931\n",
      "Epoch 99/100\n",
      "579/579 [==============================] - 0s 694us/sample - loss: 0.0165 - acc: 0.9914\n",
      "Epoch 100/100\n",
      "579/579 [==============================] - 0s 644us/sample - loss: 0.0160 - acc: 0.9948\n"
     ]
    },
    {
     "data": {
      "text/plain": [
       "<tensorflow.python.keras.callbacks.History at 0x235e712af28>"
      ]
     },
     "execution_count": 172,
     "metadata": {},
     "output_type": "execute_result"
    }
   ],
   "source": [
    "# Fitting the model\n",
    "model.fit(X_train, y_train, epochs=100, batch_size=5)"
   ]
  },
  {
   "cell_type": "code",
   "execution_count": 176,
   "metadata": {},
   "outputs": [
    {
     "name": "stdout",
     "output_type": "stream",
     "text": [
      "194/194 [==============================] - 0s 93us/sample - loss: 0.0147 - acc: 1.0000\n"
     ]
    },
    {
     "data": {
      "text/plain": [
       "[0.014653323375372115, 1.0]"
      ]
     },
     "execution_count": 176,
     "metadata": {},
     "output_type": "execute_result"
    }
   ],
   "source": [
    "# evaluating the model\n",
    "model.evaluate(X_test, y_test)"
   ]
  },
  {
   "cell_type": "code",
   "execution_count": 177,
   "metadata": {},
   "outputs": [
    {
     "name": "stdout",
     "output_type": "stream",
     "text": [
      "_________________________________________________________________\n",
      "Layer (type)                 Output Shape              Param #   \n",
      "=================================================================\n",
      "dense_63 (Dense)             (None, 12)                372       \n",
      "_________________________________________________________________\n",
      "dense_64 (Dense)             (None, 8)                 104       \n",
      "_________________________________________________________________\n",
      "dense_65 (Dense)             (None, 1)                 9         \n",
      "=================================================================\n",
      "Total params: 485\n",
      "Trainable params: 485\n",
      "Non-trainable params: 0\n",
      "_________________________________________________________________\n"
     ]
    }
   ],
   "source": [
    "model.summary()"
   ]
  },
  {
   "cell_type": "markdown",
   "metadata": {},
   "source": [
    "## End"
   ]
  }
 ],
 "metadata": {
  "kernelspec": {
   "display_name": "Python 3",
   "language": "python",
   "name": "python3"
  },
  "language_info": {
   "codemirror_mode": {
    "name": "ipython",
    "version": 3
   },
   "file_extension": ".py",
   "mimetype": "text/x-python",
   "name": "python",
   "nbconvert_exporter": "python",
   "pygments_lexer": "ipython3",
   "version": "3.7.3"
  }
 },
 "nbformat": 4,
 "nbformat_minor": 2
}
