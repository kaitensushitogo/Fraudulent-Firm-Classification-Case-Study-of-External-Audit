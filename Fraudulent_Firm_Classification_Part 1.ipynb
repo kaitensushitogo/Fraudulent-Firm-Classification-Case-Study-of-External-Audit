{
 "cells": [
  {
   "cell_type": "markdown",
   "metadata": {},
   "source": [
    "---\n",
    "### Data Set Information:\n",
    "This dataset is taken from a research explained here. \n",
    "\n",
    "The goal of the research is to help the auditors by building a classification model that can predict the fraudulent firm on the basis the present and historical risk factors. The information about the sectors and the counts of firms are listed respectively as Irrigation (114), Public Health (77), Buildings and Roads (82), Forest (70), Corporate (47), Animal Husbandry (95), Communication (1), Electrical (4), Land (5), Science and Technology (3), Tourism (1), Fisheries (41), Industries (37), Agriculture (200).\n",
    "\n",
    "There are two csv files to present data. Please merge these two datasets into one dataframe. All the steps should be done in Python. Please don't make any changes in csv files. Consider ``Audit_Risk`` as target columns for regression tasks, and ``Risk`` as the target column for classification tasks. \n",
    "\n",
    "### Attribute Information:\n",
    "Many risk factors are examined from various areas like past records of audit office, audit-paras, environmental conditions reports, firm reputation summary, on-going issues report, profit-value records, loss-value records, follow-up reports etc. After in-depth interview with the auditors, important risk factors are evaluated and their probability of existence is calculated from the present and past records.\n",
    "\n",
    "\n",
    "### Relevant Papers:\n",
    "Hooda, Nishtha, Seema Bawa, and Prashant Singh Rana. 'Fraudulent Firm Classification: A Case Study of an External Audit.' Applied Artificial Intelligence 32.1 (2018): 48-64."
   ]
  },
  {
   "cell_type": "markdown",
   "metadata": {},
   "source": [
    "## Data Preparation"
   ]
  },
  {
   "cell_type": "code",
   "execution_count": 1,
   "metadata": {},
   "outputs": [],
   "source": [
    "# Environment Setup\n",
    "import pandas as pd\n",
    "import numpy as np\n",
    "import matplotlib.pyplot as plt\n",
    "import seaborn as sns\n",
    "import warnings\n",
    "warnings.filterwarnings('ignore')\n",
    "%matplotlib inline"
   ]
  },
  {
   "cell_type": "code",
   "execution_count": 2,
   "metadata": {},
   "outputs": [],
   "source": [
    "# Loading datasets\n",
    "audit_risk = pd.read_csv('audit_risk.csv')\n",
    "trial = pd.read_csv('trial.csv')"
   ]
  },
  {
   "cell_type": "code",
   "execution_count": 3,
   "metadata": {},
   "outputs": [
    {
     "name": "stdout",
     "output_type": "stream",
     "text": [
      "(776, 27)\n",
      "(776, 18)\n"
     ]
    }
   ],
   "source": [
    "# Exploring datasets\n",
    "print(audit_risk.shape)\n",
    "print(trial.shape)"
   ]
  },
  {
   "cell_type": "code",
   "execution_count": 4,
   "metadata": {},
   "outputs": [
    {
     "name": "stdout",
     "output_type": "stream",
     "text": [
      "<class 'pandas.core.frame.DataFrame'>\n",
      "RangeIndex: 776 entries, 0 to 775\n",
      "Data columns (total 27 columns):\n",
      "Sector_score      776 non-null float64\n",
      "LOCATION_ID       776 non-null object\n",
      "PARA_A            776 non-null float64\n",
      "Score_A           776 non-null float64\n",
      "Risk_A            776 non-null float64\n",
      "PARA_B            776 non-null float64\n",
      "Score_B           776 non-null float64\n",
      "Risk_B            776 non-null float64\n",
      "TOTAL             776 non-null float64\n",
      "numbers           776 non-null float64\n",
      "Score_B.1         776 non-null float64\n",
      "Risk_C            776 non-null float64\n",
      "Money_Value       775 non-null float64\n",
      "Score_MV          776 non-null float64\n",
      "Risk_D            776 non-null float64\n",
      "District_Loss     776 non-null int64\n",
      "PROB              776 non-null float64\n",
      "RiSk_E            776 non-null float64\n",
      "History           776 non-null int64\n",
      "Prob              776 non-null float64\n",
      "Risk_F            776 non-null float64\n",
      "Score             776 non-null float64\n",
      "Inherent_Risk     776 non-null float64\n",
      "CONTROL_RISK      776 non-null float64\n",
      "Detection_Risk    776 non-null float64\n",
      "Audit_Risk        776 non-null float64\n",
      "Risk              776 non-null int64\n",
      "dtypes: float64(23), int64(3), object(1)\n",
      "memory usage: 163.8+ KB\n"
     ]
    }
   ],
   "source": [
    "audit_risk.info()"
   ]
  },
  {
   "cell_type": "code",
   "execution_count": 5,
   "metadata": {},
   "outputs": [
    {
     "data": {
      "text/html": [
       "<div>\n",
       "<style scoped>\n",
       "    .dataframe tbody tr th:only-of-type {\n",
       "        vertical-align: middle;\n",
       "    }\n",
       "\n",
       "    .dataframe tbody tr th {\n",
       "        vertical-align: top;\n",
       "    }\n",
       "\n",
       "    .dataframe thead th {\n",
       "        text-align: right;\n",
       "    }\n",
       "</style>\n",
       "<table border=\"1\" class=\"dataframe\">\n",
       "  <thead>\n",
       "    <tr style=\"text-align: right;\">\n",
       "      <th></th>\n",
       "      <th>Sector_score</th>\n",
       "      <th>PARA_A</th>\n",
       "      <th>Score_A</th>\n",
       "      <th>Risk_A</th>\n",
       "      <th>PARA_B</th>\n",
       "      <th>Score_B</th>\n",
       "      <th>Risk_B</th>\n",
       "      <th>TOTAL</th>\n",
       "      <th>numbers</th>\n",
       "      <th>Score_B.1</th>\n",
       "      <th>...</th>\n",
       "      <th>RiSk_E</th>\n",
       "      <th>History</th>\n",
       "      <th>Prob</th>\n",
       "      <th>Risk_F</th>\n",
       "      <th>Score</th>\n",
       "      <th>Inherent_Risk</th>\n",
       "      <th>CONTROL_RISK</th>\n",
       "      <th>Detection_Risk</th>\n",
       "      <th>Audit_Risk</th>\n",
       "      <th>Risk</th>\n",
       "    </tr>\n",
       "  </thead>\n",
       "  <tbody>\n",
       "    <tr>\n",
       "      <th>count</th>\n",
       "      <td>776.000000</td>\n",
       "      <td>776.000000</td>\n",
       "      <td>776.000000</td>\n",
       "      <td>776.000000</td>\n",
       "      <td>776.000000</td>\n",
       "      <td>776.000000</td>\n",
       "      <td>776.000000</td>\n",
       "      <td>776.000000</td>\n",
       "      <td>776.000000</td>\n",
       "      <td>776.000000</td>\n",
       "      <td>...</td>\n",
       "      <td>776.000000</td>\n",
       "      <td>776.000000</td>\n",
       "      <td>776.000000</td>\n",
       "      <td>776.000000</td>\n",
       "      <td>776.000000</td>\n",
       "      <td>776.000000</td>\n",
       "      <td>776.000000</td>\n",
       "      <td>776.0</td>\n",
       "      <td>776.000000</td>\n",
       "      <td>776.000000</td>\n",
       "    </tr>\n",
       "    <tr>\n",
       "      <th>mean</th>\n",
       "      <td>20.184536</td>\n",
       "      <td>2.450194</td>\n",
       "      <td>0.351289</td>\n",
       "      <td>1.351029</td>\n",
       "      <td>10.799988</td>\n",
       "      <td>0.313144</td>\n",
       "      <td>6.334008</td>\n",
       "      <td>13.218481</td>\n",
       "      <td>5.067655</td>\n",
       "      <td>0.223711</td>\n",
       "      <td>...</td>\n",
       "      <td>0.519072</td>\n",
       "      <td>0.104381</td>\n",
       "      <td>0.216753</td>\n",
       "      <td>0.053608</td>\n",
       "      <td>2.702577</td>\n",
       "      <td>17.680612</td>\n",
       "      <td>0.572680</td>\n",
       "      <td>0.5</td>\n",
       "      <td>7.168158</td>\n",
       "      <td>0.393041</td>\n",
       "    </tr>\n",
       "    <tr>\n",
       "      <th>std</th>\n",
       "      <td>24.319017</td>\n",
       "      <td>5.678870</td>\n",
       "      <td>0.174055</td>\n",
       "      <td>3.440447</td>\n",
       "      <td>50.083624</td>\n",
       "      <td>0.169804</td>\n",
       "      <td>30.072845</td>\n",
       "      <td>51.312829</td>\n",
       "      <td>0.264449</td>\n",
       "      <td>0.080352</td>\n",
       "      <td>...</td>\n",
       "      <td>0.290312</td>\n",
       "      <td>0.531031</td>\n",
       "      <td>0.067987</td>\n",
       "      <td>0.305835</td>\n",
       "      <td>0.858923</td>\n",
       "      <td>54.740244</td>\n",
       "      <td>0.444581</td>\n",
       "      <td>0.0</td>\n",
       "      <td>38.667494</td>\n",
       "      <td>0.488741</td>\n",
       "    </tr>\n",
       "    <tr>\n",
       "      <th>min</th>\n",
       "      <td>1.850000</td>\n",
       "      <td>0.000000</td>\n",
       "      <td>0.200000</td>\n",
       "      <td>0.000000</td>\n",
       "      <td>0.000000</td>\n",
       "      <td>0.200000</td>\n",
       "      <td>0.000000</td>\n",
       "      <td>0.000000</td>\n",
       "      <td>5.000000</td>\n",
       "      <td>0.200000</td>\n",
       "      <td>...</td>\n",
       "      <td>0.400000</td>\n",
       "      <td>0.000000</td>\n",
       "      <td>0.200000</td>\n",
       "      <td>0.000000</td>\n",
       "      <td>2.000000</td>\n",
       "      <td>1.400000</td>\n",
       "      <td>0.400000</td>\n",
       "      <td>0.5</td>\n",
       "      <td>0.280000</td>\n",
       "      <td>0.000000</td>\n",
       "    </tr>\n",
       "    <tr>\n",
       "      <th>25%</th>\n",
       "      <td>2.370000</td>\n",
       "      <td>0.210000</td>\n",
       "      <td>0.200000</td>\n",
       "      <td>0.042000</td>\n",
       "      <td>0.000000</td>\n",
       "      <td>0.200000</td>\n",
       "      <td>0.000000</td>\n",
       "      <td>0.537500</td>\n",
       "      <td>5.000000</td>\n",
       "      <td>0.200000</td>\n",
       "      <td>...</td>\n",
       "      <td>0.400000</td>\n",
       "      <td>0.000000</td>\n",
       "      <td>0.200000</td>\n",
       "      <td>0.000000</td>\n",
       "      <td>2.000000</td>\n",
       "      <td>1.583500</td>\n",
       "      <td>0.400000</td>\n",
       "      <td>0.5</td>\n",
       "      <td>0.316700</td>\n",
       "      <td>0.000000</td>\n",
       "    </tr>\n",
       "    <tr>\n",
       "      <th>50%</th>\n",
       "      <td>3.890000</td>\n",
       "      <td>0.875000</td>\n",
       "      <td>0.200000</td>\n",
       "      <td>0.175000</td>\n",
       "      <td>0.405000</td>\n",
       "      <td>0.200000</td>\n",
       "      <td>0.081000</td>\n",
       "      <td>1.370000</td>\n",
       "      <td>5.000000</td>\n",
       "      <td>0.200000</td>\n",
       "      <td>...</td>\n",
       "      <td>0.400000</td>\n",
       "      <td>0.000000</td>\n",
       "      <td>0.200000</td>\n",
       "      <td>0.000000</td>\n",
       "      <td>2.400000</td>\n",
       "      <td>2.214000</td>\n",
       "      <td>0.400000</td>\n",
       "      <td>0.5</td>\n",
       "      <td>0.555600</td>\n",
       "      <td>0.000000</td>\n",
       "    </tr>\n",
       "    <tr>\n",
       "      <th>75%</th>\n",
       "      <td>55.570000</td>\n",
       "      <td>2.480000</td>\n",
       "      <td>0.600000</td>\n",
       "      <td>1.488000</td>\n",
       "      <td>4.160000</td>\n",
       "      <td>0.400000</td>\n",
       "      <td>1.840500</td>\n",
       "      <td>7.707500</td>\n",
       "      <td>5.000000</td>\n",
       "      <td>0.200000</td>\n",
       "      <td>...</td>\n",
       "      <td>0.400000</td>\n",
       "      <td>0.000000</td>\n",
       "      <td>0.200000</td>\n",
       "      <td>0.000000</td>\n",
       "      <td>3.250000</td>\n",
       "      <td>10.663500</td>\n",
       "      <td>0.400000</td>\n",
       "      <td>0.5</td>\n",
       "      <td>3.249900</td>\n",
       "      <td>1.000000</td>\n",
       "    </tr>\n",
       "    <tr>\n",
       "      <th>max</th>\n",
       "      <td>59.850000</td>\n",
       "      <td>85.000000</td>\n",
       "      <td>0.600000</td>\n",
       "      <td>51.000000</td>\n",
       "      <td>1264.630000</td>\n",
       "      <td>0.600000</td>\n",
       "      <td>758.778000</td>\n",
       "      <td>1268.910000</td>\n",
       "      <td>9.000000</td>\n",
       "      <td>0.600000</td>\n",
       "      <td>...</td>\n",
       "      <td>2.400000</td>\n",
       "      <td>9.000000</td>\n",
       "      <td>0.600000</td>\n",
       "      <td>5.400000</td>\n",
       "      <td>5.200000</td>\n",
       "      <td>801.262000</td>\n",
       "      <td>5.800000</td>\n",
       "      <td>0.5</td>\n",
       "      <td>961.514400</td>\n",
       "      <td>1.000000</td>\n",
       "    </tr>\n",
       "  </tbody>\n",
       "</table>\n",
       "<p>8 rows × 26 columns</p>\n",
       "</div>"
      ],
      "text/plain": [
       "       Sector_score      PARA_A     Score_A      Risk_A       PARA_B  \\\n",
       "count    776.000000  776.000000  776.000000  776.000000   776.000000   \n",
       "mean      20.184536    2.450194    0.351289    1.351029    10.799988   \n",
       "std       24.319017    5.678870    0.174055    3.440447    50.083624   \n",
       "min        1.850000    0.000000    0.200000    0.000000     0.000000   \n",
       "25%        2.370000    0.210000    0.200000    0.042000     0.000000   \n",
       "50%        3.890000    0.875000    0.200000    0.175000     0.405000   \n",
       "75%       55.570000    2.480000    0.600000    1.488000     4.160000   \n",
       "max       59.850000   85.000000    0.600000   51.000000  1264.630000   \n",
       "\n",
       "          Score_B      Risk_B        TOTAL     numbers   Score_B.1  ...  \\\n",
       "count  776.000000  776.000000   776.000000  776.000000  776.000000  ...   \n",
       "mean     0.313144    6.334008    13.218481    5.067655    0.223711  ...   \n",
       "std      0.169804   30.072845    51.312829    0.264449    0.080352  ...   \n",
       "min      0.200000    0.000000     0.000000    5.000000    0.200000  ...   \n",
       "25%      0.200000    0.000000     0.537500    5.000000    0.200000  ...   \n",
       "50%      0.200000    0.081000     1.370000    5.000000    0.200000  ...   \n",
       "75%      0.400000    1.840500     7.707500    5.000000    0.200000  ...   \n",
       "max      0.600000  758.778000  1268.910000    9.000000    0.600000  ...   \n",
       "\n",
       "           RiSk_E     History        Prob      Risk_F       Score  \\\n",
       "count  776.000000  776.000000  776.000000  776.000000  776.000000   \n",
       "mean     0.519072    0.104381    0.216753    0.053608    2.702577   \n",
       "std      0.290312    0.531031    0.067987    0.305835    0.858923   \n",
       "min      0.400000    0.000000    0.200000    0.000000    2.000000   \n",
       "25%      0.400000    0.000000    0.200000    0.000000    2.000000   \n",
       "50%      0.400000    0.000000    0.200000    0.000000    2.400000   \n",
       "75%      0.400000    0.000000    0.200000    0.000000    3.250000   \n",
       "max      2.400000    9.000000    0.600000    5.400000    5.200000   \n",
       "\n",
       "       Inherent_Risk  CONTROL_RISK  Detection_Risk  Audit_Risk        Risk  \n",
       "count     776.000000    776.000000           776.0  776.000000  776.000000  \n",
       "mean       17.680612      0.572680             0.5    7.168158    0.393041  \n",
       "std        54.740244      0.444581             0.0   38.667494    0.488741  \n",
       "min         1.400000      0.400000             0.5    0.280000    0.000000  \n",
       "25%         1.583500      0.400000             0.5    0.316700    0.000000  \n",
       "50%         2.214000      0.400000             0.5    0.555600    0.000000  \n",
       "75%        10.663500      0.400000             0.5    3.249900    1.000000  \n",
       "max       801.262000      5.800000             0.5  961.514400    1.000000  \n",
       "\n",
       "[8 rows x 26 columns]"
      ]
     },
     "execution_count": 5,
     "metadata": {},
     "output_type": "execute_result"
    }
   ],
   "source": [
    "audit_risk.describe()"
   ]
  },
  {
   "cell_type": "code",
   "execution_count": 6,
   "metadata": {},
   "outputs": [
    {
     "name": "stdout",
     "output_type": "stream",
     "text": [
      "<class 'pandas.core.frame.DataFrame'>\n",
      "RangeIndex: 776 entries, 0 to 775\n",
      "Data columns (total 18 columns):\n",
      "Sector_score     776 non-null float64\n",
      "LOCATION_ID      776 non-null object\n",
      "PARA_A           776 non-null float64\n",
      "SCORE_A          776 non-null int64\n",
      "PARA_B           776 non-null float64\n",
      "SCORE_B          776 non-null int64\n",
      "TOTAL            776 non-null float64\n",
      "numbers          776 non-null float64\n",
      "Marks            776 non-null int64\n",
      "Money_Value      775 non-null float64\n",
      "MONEY_Marks      776 non-null int64\n",
      "District         776 non-null int64\n",
      "Loss             776 non-null int64\n",
      "LOSS_SCORE       776 non-null int64\n",
      "History          776 non-null int64\n",
      "History_score    776 non-null int64\n",
      "Score            776 non-null float64\n",
      "Risk             776 non-null int64\n",
      "dtypes: float64(7), int64(10), object(1)\n",
      "memory usage: 109.2+ KB\n"
     ]
    }
   ],
   "source": [
    "trial.info()"
   ]
  },
  {
   "cell_type": "code",
   "execution_count": 7,
   "metadata": {},
   "outputs": [
    {
     "data": {
      "text/html": [
       "<div>\n",
       "<style scoped>\n",
       "    .dataframe tbody tr th:only-of-type {\n",
       "        vertical-align: middle;\n",
       "    }\n",
       "\n",
       "    .dataframe tbody tr th {\n",
       "        vertical-align: top;\n",
       "    }\n",
       "\n",
       "    .dataframe thead th {\n",
       "        text-align: right;\n",
       "    }\n",
       "</style>\n",
       "<table border=\"1\" class=\"dataframe\">\n",
       "  <thead>\n",
       "    <tr style=\"text-align: right;\">\n",
       "      <th></th>\n",
       "      <th>Sector_score</th>\n",
       "      <th>PARA_A</th>\n",
       "      <th>SCORE_A</th>\n",
       "      <th>PARA_B</th>\n",
       "      <th>SCORE_B</th>\n",
       "      <th>TOTAL</th>\n",
       "      <th>numbers</th>\n",
       "      <th>Marks</th>\n",
       "      <th>Money_Value</th>\n",
       "      <th>MONEY_Marks</th>\n",
       "      <th>District</th>\n",
       "      <th>Loss</th>\n",
       "      <th>LOSS_SCORE</th>\n",
       "      <th>History</th>\n",
       "      <th>History_score</th>\n",
       "      <th>Score</th>\n",
       "      <th>Risk</th>\n",
       "    </tr>\n",
       "  </thead>\n",
       "  <tbody>\n",
       "    <tr>\n",
       "      <th>count</th>\n",
       "      <td>776.000000</td>\n",
       "      <td>776.000000</td>\n",
       "      <td>776.000000</td>\n",
       "      <td>776.000000</td>\n",
       "      <td>776.000000</td>\n",
       "      <td>776.000000</td>\n",
       "      <td>776.000000</td>\n",
       "      <td>776.000000</td>\n",
       "      <td>775.000000</td>\n",
       "      <td>776.000000</td>\n",
       "      <td>776.000000</td>\n",
       "      <td>776.000000</td>\n",
       "      <td>776.000000</td>\n",
       "      <td>776.000000</td>\n",
       "      <td>776.000000</td>\n",
       "      <td>776.000000</td>\n",
       "      <td>776.000000</td>\n",
       "    </tr>\n",
       "    <tr>\n",
       "      <th>mean</th>\n",
       "      <td>20.184536</td>\n",
       "      <td>2.450194</td>\n",
       "      <td>3.512887</td>\n",
       "      <td>10.799988</td>\n",
       "      <td>3.131443</td>\n",
       "      <td>13.218481</td>\n",
       "      <td>5.067655</td>\n",
       "      <td>2.237113</td>\n",
       "      <td>14.137631</td>\n",
       "      <td>2.909794</td>\n",
       "      <td>2.505155</td>\n",
       "      <td>0.029639</td>\n",
       "      <td>2.061856</td>\n",
       "      <td>0.104381</td>\n",
       "      <td>2.167526</td>\n",
       "      <td>2.702577</td>\n",
       "      <td>0.626289</td>\n",
       "    </tr>\n",
       "    <tr>\n",
       "      <th>std</th>\n",
       "      <td>24.319017</td>\n",
       "      <td>5.678870</td>\n",
       "      <td>1.740549</td>\n",
       "      <td>50.083624</td>\n",
       "      <td>1.698042</td>\n",
       "      <td>51.312829</td>\n",
       "      <td>0.264449</td>\n",
       "      <td>0.803517</td>\n",
       "      <td>66.606519</td>\n",
       "      <td>1.597452</td>\n",
       "      <td>1.228678</td>\n",
       "      <td>0.184280</td>\n",
       "      <td>0.375080</td>\n",
       "      <td>0.531031</td>\n",
       "      <td>0.679869</td>\n",
       "      <td>0.858923</td>\n",
       "      <td>0.484100</td>\n",
       "    </tr>\n",
       "    <tr>\n",
       "      <th>min</th>\n",
       "      <td>1.850000</td>\n",
       "      <td>0.000000</td>\n",
       "      <td>2.000000</td>\n",
       "      <td>0.000000</td>\n",
       "      <td>2.000000</td>\n",
       "      <td>0.000000</td>\n",
       "      <td>5.000000</td>\n",
       "      <td>2.000000</td>\n",
       "      <td>0.000000</td>\n",
       "      <td>2.000000</td>\n",
       "      <td>2.000000</td>\n",
       "      <td>0.000000</td>\n",
       "      <td>2.000000</td>\n",
       "      <td>0.000000</td>\n",
       "      <td>2.000000</td>\n",
       "      <td>2.000000</td>\n",
       "      <td>0.000000</td>\n",
       "    </tr>\n",
       "    <tr>\n",
       "      <th>25%</th>\n",
       "      <td>2.370000</td>\n",
       "      <td>0.210000</td>\n",
       "      <td>2.000000</td>\n",
       "      <td>0.000000</td>\n",
       "      <td>2.000000</td>\n",
       "      <td>0.537500</td>\n",
       "      <td>5.000000</td>\n",
       "      <td>2.000000</td>\n",
       "      <td>0.000000</td>\n",
       "      <td>2.000000</td>\n",
       "      <td>2.000000</td>\n",
       "      <td>0.000000</td>\n",
       "      <td>2.000000</td>\n",
       "      <td>0.000000</td>\n",
       "      <td>2.000000</td>\n",
       "      <td>2.000000</td>\n",
       "      <td>0.000000</td>\n",
       "    </tr>\n",
       "    <tr>\n",
       "      <th>50%</th>\n",
       "      <td>3.890000</td>\n",
       "      <td>0.875000</td>\n",
       "      <td>2.000000</td>\n",
       "      <td>0.405000</td>\n",
       "      <td>2.000000</td>\n",
       "      <td>1.370000</td>\n",
       "      <td>5.000000</td>\n",
       "      <td>2.000000</td>\n",
       "      <td>0.090000</td>\n",
       "      <td>2.000000</td>\n",
       "      <td>2.000000</td>\n",
       "      <td>0.000000</td>\n",
       "      <td>2.000000</td>\n",
       "      <td>0.000000</td>\n",
       "      <td>2.000000</td>\n",
       "      <td>2.400000</td>\n",
       "      <td>1.000000</td>\n",
       "    </tr>\n",
       "    <tr>\n",
       "      <th>75%</th>\n",
       "      <td>55.570000</td>\n",
       "      <td>2.480000</td>\n",
       "      <td>6.000000</td>\n",
       "      <td>4.160000</td>\n",
       "      <td>4.000000</td>\n",
       "      <td>7.707500</td>\n",
       "      <td>5.000000</td>\n",
       "      <td>2.000000</td>\n",
       "      <td>5.595000</td>\n",
       "      <td>4.000000</td>\n",
       "      <td>2.000000</td>\n",
       "      <td>0.000000</td>\n",
       "      <td>2.000000</td>\n",
       "      <td>0.000000</td>\n",
       "      <td>2.000000</td>\n",
       "      <td>3.250000</td>\n",
       "      <td>1.000000</td>\n",
       "    </tr>\n",
       "    <tr>\n",
       "      <th>max</th>\n",
       "      <td>59.850000</td>\n",
       "      <td>85.000000</td>\n",
       "      <td>6.000000</td>\n",
       "      <td>1264.630000</td>\n",
       "      <td>6.000000</td>\n",
       "      <td>1268.910000</td>\n",
       "      <td>9.000000</td>\n",
       "      <td>6.000000</td>\n",
       "      <td>935.030000</td>\n",
       "      <td>6.000000</td>\n",
       "      <td>6.000000</td>\n",
       "      <td>2.000000</td>\n",
       "      <td>6.000000</td>\n",
       "      <td>9.000000</td>\n",
       "      <td>6.000000</td>\n",
       "      <td>5.200000</td>\n",
       "      <td>1.000000</td>\n",
       "    </tr>\n",
       "  </tbody>\n",
       "</table>\n",
       "</div>"
      ],
      "text/plain": [
       "       Sector_score      PARA_A     SCORE_A       PARA_B     SCORE_B  \\\n",
       "count    776.000000  776.000000  776.000000   776.000000  776.000000   \n",
       "mean      20.184536    2.450194    3.512887    10.799988    3.131443   \n",
       "std       24.319017    5.678870    1.740549    50.083624    1.698042   \n",
       "min        1.850000    0.000000    2.000000     0.000000    2.000000   \n",
       "25%        2.370000    0.210000    2.000000     0.000000    2.000000   \n",
       "50%        3.890000    0.875000    2.000000     0.405000    2.000000   \n",
       "75%       55.570000    2.480000    6.000000     4.160000    4.000000   \n",
       "max       59.850000   85.000000    6.000000  1264.630000    6.000000   \n",
       "\n",
       "             TOTAL     numbers       Marks  Money_Value  MONEY_Marks  \\\n",
       "count   776.000000  776.000000  776.000000   775.000000   776.000000   \n",
       "mean     13.218481    5.067655    2.237113    14.137631     2.909794   \n",
       "std      51.312829    0.264449    0.803517    66.606519     1.597452   \n",
       "min       0.000000    5.000000    2.000000     0.000000     2.000000   \n",
       "25%       0.537500    5.000000    2.000000     0.000000     2.000000   \n",
       "50%       1.370000    5.000000    2.000000     0.090000     2.000000   \n",
       "75%       7.707500    5.000000    2.000000     5.595000     4.000000   \n",
       "max    1268.910000    9.000000    6.000000   935.030000     6.000000   \n",
       "\n",
       "         District        Loss  LOSS_SCORE     History  History_score  \\\n",
       "count  776.000000  776.000000  776.000000  776.000000     776.000000   \n",
       "mean     2.505155    0.029639    2.061856    0.104381       2.167526   \n",
       "std      1.228678    0.184280    0.375080    0.531031       0.679869   \n",
       "min      2.000000    0.000000    2.000000    0.000000       2.000000   \n",
       "25%      2.000000    0.000000    2.000000    0.000000       2.000000   \n",
       "50%      2.000000    0.000000    2.000000    0.000000       2.000000   \n",
       "75%      2.000000    0.000000    2.000000    0.000000       2.000000   \n",
       "max      6.000000    2.000000    6.000000    9.000000       6.000000   \n",
       "\n",
       "            Score        Risk  \n",
       "count  776.000000  776.000000  \n",
       "mean     2.702577    0.626289  \n",
       "std      0.858923    0.484100  \n",
       "min      2.000000    0.000000  \n",
       "25%      2.000000    0.000000  \n",
       "50%      2.400000    1.000000  \n",
       "75%      3.250000    1.000000  \n",
       "max      5.200000    1.000000  "
      ]
     },
     "execution_count": 7,
     "metadata": {},
     "output_type": "execute_result"
    }
   ],
   "source": [
    "trial.describe()"
   ]
  },
  {
   "cell_type": "code",
   "execution_count": 8,
   "metadata": {},
   "outputs": [],
   "source": [
    "# Remove categorical values in the column of LOCATION_ID\n",
    "# Did not assign new values because they could be already one of the LOCATION_ID\n",
    "audit_risk = audit_risk[audit_risk.LOCATION_ID != 'LOHARU']\n",
    "audit_risk = audit_risk[audit_risk.LOCATION_ID != 'NUH']\n",
    "audit_risk = audit_risk[audit_risk.LOCATION_ID != 'SAFIDON']\n",
    "\n",
    "trial = trial[trial.LOCATION_ID != 'LOHARU']\n",
    "trial = trial[trial.LOCATION_ID != 'NUH']\n",
    "trial = trial[trial.LOCATION_ID != 'SAFIDON']"
   ]
  },
  {
   "cell_type": "code",
   "execution_count": 9,
   "metadata": {},
   "outputs": [],
   "source": [
    "# Changing dtype(object to integer)\n",
    "audit_risk['LOCATION_ID'] = pd.to_numeric(audit_risk['LOCATION_ID'])\n",
    "trial['LOCATION_ID'] = pd.to_numeric(trial['LOCATION_ID'])\n",
    "\n",
    "# Removed duplicated parameters with different scales in advance \n",
    "trial.drop(['Sector_score','LOCATION_ID','PARA_A','SCORE_A',\n",
    "            'PARA_B','SCORE_B','TOTAL','numbers','District','Money_Value','History','Score','Risk'], axis=1, inplace = True)"
   ]
  },
  {
   "cell_type": "code",
   "execution_count": 10,
   "metadata": {},
   "outputs": [
    {
     "name": "stdout",
     "output_type": "stream",
     "text": [
      "Money_Value       1\n",
      "Risk              0\n",
      "LOCATION_ID       0\n",
      "PARA_A            0\n",
      "Score_A           0\n",
      "Risk_A            0\n",
      "PARA_B            0\n",
      "Score_B           0\n",
      "Risk_B            0\n",
      "TOTAL             0\n",
      "numbers           0\n",
      "Score_B.1         0\n",
      "Risk_C            0\n",
      "Score_MV          0\n",
      "Audit_Risk        0\n",
      "Risk_D            0\n",
      "District_Loss     0\n",
      "PROB              0\n",
      "RiSk_E            0\n",
      "History           0\n",
      "Prob              0\n",
      "Risk_F            0\n",
      "Score             0\n",
      "Inherent_Risk     0\n",
      "CONTROL_RISK      0\n",
      "Detection_Risk    0\n",
      "Sector_score      0\n",
      "dtype: int64\n"
     ]
    }
   ],
   "source": [
    "# Dealing with missing values\n",
    "print(audit_risk.isnull().sum().sort_values(ascending = False))\n",
    "audit_risk['Money_Value'] = audit_risk.fillna(audit_risk['Money_Value'].mean()) #fill na with mean of the column"
   ]
  },
  {
   "cell_type": "code",
   "execution_count": 11,
   "metadata": {},
   "outputs": [
    {
     "data": {
      "text/plain": [
       "History_score    0\n",
       "LOSS_SCORE       0\n",
       "Loss             0\n",
       "MONEY_Marks      0\n",
       "Marks            0\n",
       "dtype: int64"
      ]
     },
     "execution_count": 11,
     "metadata": {},
     "output_type": "execute_result"
    }
   ],
   "source": [
    "trial.isnull().sum().sort_values(ascending = False)"
   ]
  },
  {
   "cell_type": "code",
   "execution_count": 12,
   "metadata": {},
   "outputs": [
    {
     "name": "stdout",
     "output_type": "stream",
     "text": [
      "(773, 27)\n",
      "(773, 5)\n"
     ]
    }
   ],
   "source": [
    "# Checking the size\n",
    "print(audit_risk.shape)\n",
    "print(trial.shape)"
   ]
  },
  {
   "cell_type": "code",
   "execution_count": 13,
   "metadata": {},
   "outputs": [
    {
     "data": {
      "text/plain": [
       "(773, 32)"
      ]
     },
     "execution_count": 13,
     "metadata": {},
     "output_type": "execute_result"
    }
   ],
   "source": [
    "# Merging datasets\n",
    "df = pd.concat([audit_risk, trial], axis=1)\n",
    "df.shape"
   ]
  },
  {
   "cell_type": "code",
   "execution_count": 14,
   "metadata": {},
   "outputs": [
    {
     "name": "stdout",
     "output_type": "stream",
     "text": [
      "<class 'pandas.core.frame.DataFrame'>\n",
      "Int64Index: 773 entries, 0 to 775\n",
      "Data columns (total 32 columns):\n",
      "Sector_score      773 non-null float64\n",
      "LOCATION_ID       773 non-null int64\n",
      "PARA_A            773 non-null float64\n",
      "Score_A           773 non-null float64\n",
      "Risk_A            773 non-null float64\n",
      "PARA_B            773 non-null float64\n",
      "Score_B           773 non-null float64\n",
      "Risk_B            773 non-null float64\n",
      "TOTAL             773 non-null float64\n",
      "numbers           773 non-null float64\n",
      "Score_B.1         773 non-null float64\n",
      "Risk_C            773 non-null float64\n",
      "Money_Value       773 non-null float64\n",
      "Score_MV          773 non-null float64\n",
      "Risk_D            773 non-null float64\n",
      "District_Loss     773 non-null int64\n",
      "PROB              773 non-null float64\n",
      "RiSk_E            773 non-null float64\n",
      "History           773 non-null int64\n",
      "Prob              773 non-null float64\n",
      "Risk_F            773 non-null float64\n",
      "Score             773 non-null float64\n",
      "Inherent_Risk     773 non-null float64\n",
      "CONTROL_RISK      773 non-null float64\n",
      "Detection_Risk    773 non-null float64\n",
      "Audit_Risk        773 non-null float64\n",
      "Risk              773 non-null int64\n",
      "Marks             773 non-null int64\n",
      "MONEY_Marks       773 non-null int64\n",
      "Loss              773 non-null int64\n",
      "LOSS_SCORE        773 non-null int64\n",
      "History_score     773 non-null int64\n",
      "dtypes: float64(23), int64(9)\n",
      "memory usage: 199.3 KB\n"
     ]
    }
   ],
   "source": [
    "df.info()"
   ]
  },
  {
   "cell_type": "code",
   "execution_count": 15,
   "metadata": {},
   "outputs": [
    {
     "data": {
      "text/plain": [
       "<matplotlib.axes._subplots.AxesSubplot at 0x1f4786a0a58>"
      ]
     },
     "execution_count": 15,
     "metadata": {},
     "output_type": "execute_result"
    },
    {
     "data": {
      "image/png": "[encoded data removed]",
      "text/plain": [
       "<Figure size 864x576 with 2 Axes>"
      ]
     },
     "metadata": {
      "needs_background": "light"
     },
     "output_type": "display_data"
    }
   ],
   "source": [
    "# Correlation within variables\n",
    "plt.figure(figsize=(12,8))\n",
    "sns.heatmap(df.drop(['Detection_Risk'], axis=1).corr(), cmap = 'coolwarm')"
   ]
  },
  {
   "cell_type": "code",
   "execution_count": 16,
   "metadata": {},
   "outputs": [
    {
     "data": {
      "text/html": [
       "<div>\n",
       "<style scoped>\n",
       "    .dataframe tbody tr th:only-of-type {\n",
       "        vertical-align: middle;\n",
       "    }\n",
       "\n",
       "    .dataframe tbody tr th {\n",
       "        vertical-align: top;\n",
       "    }\n",
       "\n",
       "    .dataframe thead th {\n",
       "        text-align: right;\n",
       "    }\n",
       "</style>\n",
       "<table border=\"1\" class=\"dataframe\">\n",
       "  <thead>\n",
       "    <tr style=\"text-align: right;\">\n",
       "      <th></th>\n",
       "      <th>Correlation</th>\n",
       "    </tr>\n",
       "  </thead>\n",
       "  <tbody>\n",
       "    <tr>\n",
       "      <th>TOTAL</th>\n",
       "      <td>0.888086</td>\n",
       "    </tr>\n",
       "    <tr>\n",
       "      <th>PARA_B</th>\n",
       "      <td>0.887780</td>\n",
       "    </tr>\n",
       "    <tr>\n",
       "      <th>Risk_B</th>\n",
       "      <td>0.887556</td>\n",
       "    </tr>\n",
       "    <tr>\n",
       "      <th>Inherent_Risk</th>\n",
       "      <td>0.750873</td>\n",
       "    </tr>\n",
       "    <tr>\n",
       "      <th>History_score</th>\n",
       "      <td>0.431217</td>\n",
       "    </tr>\n",
       "    <tr>\n",
       "      <th>Prob</th>\n",
       "      <td>0.431217</td>\n",
       "    </tr>\n",
       "    <tr>\n",
       "      <th>CONTROL_RISK</th>\n",
       "      <td>0.357872</td>\n",
       "    </tr>\n",
       "    <tr>\n",
       "      <th>Risk_D</th>\n",
       "      <td>0.334091</td>\n",
       "    </tr>\n",
       "    <tr>\n",
       "      <th>Score</th>\n",
       "      <td>0.332883</td>\n",
       "    </tr>\n",
       "    <tr>\n",
       "      <th>History</th>\n",
       "      <td>0.329682</td>\n",
       "    </tr>\n",
       "    <tr>\n",
       "      <th>Risk_F</th>\n",
       "      <td>0.327669</td>\n",
       "    </tr>\n",
       "    <tr>\n",
       "      <th>MONEY_Marks</th>\n",
       "      <td>0.291531</td>\n",
       "    </tr>\n",
       "    <tr>\n",
       "      <th>Score_MV</th>\n",
       "      <td>0.291531</td>\n",
       "    </tr>\n",
       "    <tr>\n",
       "      <th>Marks</th>\n",
       "      <td>0.259593</td>\n",
       "    </tr>\n",
       "    <tr>\n",
       "      <th>Score_B.1</th>\n",
       "      <td>0.259593</td>\n",
       "    </tr>\n",
       "    <tr>\n",
       "      <th>Risk_C</th>\n",
       "      <td>0.249884</td>\n",
       "    </tr>\n",
       "    <tr>\n",
       "      <th>Risk_A</th>\n",
       "      <td>0.221400</td>\n",
       "    </tr>\n",
       "    <tr>\n",
       "      <th>numbers</th>\n",
       "      <td>0.221326</td>\n",
       "    </tr>\n",
       "    <tr>\n",
       "      <th>PARA_A</th>\n",
       "      <td>0.219582</td>\n",
       "    </tr>\n",
       "    <tr>\n",
       "      <th>Risk</th>\n",
       "      <td>0.216845</td>\n",
       "    </tr>\n",
       "    <tr>\n",
       "      <th>Score_B</th>\n",
       "      <td>0.207708</td>\n",
       "    </tr>\n",
       "    <tr>\n",
       "      <th>RiSk_E</th>\n",
       "      <td>0.202779</td>\n",
       "    </tr>\n",
       "    <tr>\n",
       "      <th>Score_A</th>\n",
       "      <td>0.201556</td>\n",
       "    </tr>\n",
       "    <tr>\n",
       "      <th>District_Loss</th>\n",
       "      <td>0.199220</td>\n",
       "    </tr>\n",
       "    <tr>\n",
       "      <th>LOSS_SCORE</th>\n",
       "      <td>0.073724</td>\n",
       "    </tr>\n",
       "    <tr>\n",
       "      <th>PROB</th>\n",
       "      <td>0.073724</td>\n",
       "    </tr>\n",
       "    <tr>\n",
       "      <th>Loss</th>\n",
       "      <td>0.049199</td>\n",
       "    </tr>\n",
       "    <tr>\n",
       "      <th>LOCATION_ID</th>\n",
       "      <td>-0.085276</td>\n",
       "    </tr>\n",
       "    <tr>\n",
       "      <th>Money_Value</th>\n",
       "      <td>-0.092576</td>\n",
       "    </tr>\n",
       "    <tr>\n",
       "      <th>Sector_score</th>\n",
       "      <td>-0.092576</td>\n",
       "    </tr>\n",
       "  </tbody>\n",
       "</table>\n",
       "</div>"
      ],
      "text/plain": [
       "               Correlation\n",
       "TOTAL             0.888086\n",
       "PARA_B            0.887780\n",
       "Risk_B            0.887556\n",
       "Inherent_Risk     0.750873\n",
       "History_score     0.431217\n",
       "Prob              0.431217\n",
       "CONTROL_RISK      0.357872\n",
       "Risk_D            0.334091\n",
       "Score             0.332883\n",
       "History           0.329682\n",
       "Risk_F            0.327669\n",
       "MONEY_Marks       0.291531\n",
       "Score_MV          0.291531\n",
       "Marks             0.259593\n",
       "Score_B.1         0.259593\n",
       "Risk_C            0.249884\n",
       "Risk_A            0.221400\n",
       "numbers           0.221326\n",
       "PARA_A            0.219582\n",
       "Risk              0.216845\n",
       "Score_B           0.207708\n",
       "RiSk_E            0.202779\n",
       "Score_A           0.201556\n",
       "District_Loss     0.199220\n",
       "LOSS_SCORE        0.073724\n",
       "PROB              0.073724\n",
       "Loss              0.049199\n",
       "LOCATION_ID      -0.085276\n",
       "Money_Value      -0.092576\n",
       "Sector_score     -0.092576"
      ]
     },
     "execution_count": 16,
     "metadata": {},
     "output_type": "execute_result"
    }
   ],
   "source": [
    "# Correlation with target variables\n",
    "cor = pd.DataFrame(df.drop(\"Audit_Risk\", axis=1).apply(lambda x: x.corr(df.Audit_Risk)).sort_values(ascending = False)).rename(columns = {0:'Correlation'})\n",
    "cor.dropna()"
   ]
  },
  {
   "cell_type": "markdown",
   "metadata": {},
   "source": [
    "### Data Modeling"
   ]
  },
  {
   "cell_type": "markdown",
   "metadata": {},
   "source": [
    "#### Classification Models Setup"
   ]
  },
  {
   "cell_type": "code",
   "execution_count": 17,
   "metadata": {},
   "outputs": [],
   "source": [
    "from sklearn.linear_model import LogisticRegression\n",
    "from sklearn.tree import DecisionTreeClassifier\n",
    "from sklearn.neighbors import KNeighborsClassifier\n",
    "from sklearn.svm import SVC, LinearSVC\n",
    "from sklearn.model_selection import train_test_split\n",
    "from sklearn.preprocessing import StandardScaler\n",
    "from sklearn.model_selection import GridSearchCV\n",
    "from sklearn.metrics import roc_auc_score,classification_report"
   ]
  },
  {
   "cell_type": "code",
   "execution_count": 18,
   "metadata": {},
   "outputs": [],
   "source": [
    "clf_X = df.drop(['Audit_Risk','Risk'], axis=1)\n",
    "clf_y = df['Risk']"
   ]
  },
  {
   "cell_type": "code",
   "execution_count": 19,
   "metadata": {},
   "outputs": [],
   "source": [
    "# Splitting training and test data\n",
    "X_train_org, X_test_org, y_train, y_test = train_test_split(clf_X, clf_y, test_size = 0.3, random_state = 101)\n",
    "\n",
    "# Scaling data\n",
    "scaler = StandardScaler()\n",
    "X_train = scaler.fit_transform(X_train_org)\n",
    "X_test = scaler.transform(X_test_org)"
   ]
  },
  {
   "cell_type": "code",
   "execution_count": 20,
   "metadata": {},
   "outputs": [],
   "source": [
    "# GridSearch Plot\n",
    "def grid_score_plot(df,col,train,test,title, xlabel,ylabel,annot=True):\n",
    "    fig = plt.figure(figsize=(10,6))\n",
    "    x=len(df[col])\n",
    "    x_label=df[col].unique()\n",
    "    ax = fig.add_subplot(111, facecolor='white')\n",
    "    ax.plot(df[col], df[train], c ='b', linewidth=2, alpha=0.6, label='Train ROC Score',marker='o')\n",
    "    ax.plot(df[col], df[test], c ='r', linewidth=2, alpha=0.6, label='Test ROC Score', marker='o')\n",
    "    ax.legend()\n",
    "    if(annot==True):\n",
    "        for i,j in zip(df[col],round(df[train],3)):\n",
    "            ax.annotate(str(j),xy=(i,j),color='gray')\n",
    "        for i,j in zip(df[col],round(df[test],3)):\n",
    "            ax.annotate(str(j),xy=(i,j),color='gray')\n",
    "    ax.set_title(title, fontsize=20)\n",
    "    ax.set_xlabel(xlabel, fontsize=10)\n",
    "    ax.set_ylabel(ylabel, fontsize=10)\n",
    "    plt.grid(zorder=0)\n",
    "    plt.show()"
   ]
  },
  {
   "cell_type": "markdown",
   "metadata": {},
   "source": [
    "#### Classification Model (1) - KNN Classification"
   ]
  },
  {
   "cell_type": "code",
   "execution_count": 21,
   "metadata": {},
   "outputs": [
    {
     "name": "stdout",
     "output_type": "stream",
     "text": [
      "Fitting 5 folds for each of 10 candidates, totalling 50 fits\n"
     ]
    },
    {
     "name": "stderr",
     "output_type": "stream",
     "text": [
      "[Parallel(n_jobs=-1)]: Using backend LokyBackend with 8 concurrent workers.\n",
      "[Parallel(n_jobs=-1)]: Done  16 tasks      | elapsed:    7.0s\n"
     ]
    },
    {
     "name": "stdout",
     "output_type": "stream",
     "text": [
      "cv=5\n",
      "Best parameters: {'n_neighbors': 10}\n",
      "Best cross-validation score: 0.9914\n",
      "\n"
     ]
    },
    {
     "name": "stderr",
     "output_type": "stream",
     "text": [
      "[Parallel(n_jobs=-1)]: Done  50 out of  50 | elapsed:    7.3s finished\n"
     ]
    }
   ],
   "source": [
    "knn = KNeighborsClassifier()\n",
    "parameters = {'n_neighbors':np.arange(1,11,1)}\n",
    "\n",
    "#cv =5\n",
    "knn_grid_search = GridSearchCV(knn, parameters, scoring ='roc_auc', cv=5, n_jobs = -1, verbose = 3)\n",
    "knn_grid_search.fit(X_train, y_train)\n",
    "print('cv=5')\n",
    "print(\"Best parameters: {}\".format(knn_grid_search.best_params_))\n",
    "print(\"Best cross-validation score: {:.4f}\".format(knn_grid_search.best_score_))\n",
    "print()\n"
   ]
  },
  {
   "cell_type": "code",
   "execution_count": 22,
   "metadata": {},
   "outputs": [],
   "source": [
    "knn_result = pd.DataFrame(knn_grid_search.cv_results_)"
   ]
  },
  {
   "cell_type": "code",
   "execution_count": 23,
   "metadata": {},
   "outputs": [
    {
     "data": {
      "image/png": "[encoded data removed]",
      "text/plain": [
       "<Figure size 432x288 with 1 Axes>"
      ]
     },
     "metadata": {
      "needs_background": "light"
     },
     "output_type": "display_data"
    }
   ],
   "source": [
    "plt.plot(np.arange(1,11,1), knn_result['mean_test_score'] )\n",
    "plt.xlabel('Number of Neighbors')\n",
    "plt.ylabel('Cross-Validated Accuracy')\n",
    "plt.grid()\n",
    "plt.show()                          #Get the highest accuracy when k=10"
   ]
  },
  {
   "cell_type": "code",
   "execution_count": 24,
   "metadata": {},
   "outputs": [
    {
     "data": {
      "image/png": "[encoded data removed]",
      "text/plain": [
       "<Figure size 720x432 with 1 Axes>"
      ]
     },
     "metadata": {
      "needs_background": "light"
     },
     "output_type": "display_data"
    }
   ],
   "source": [
    "grid_score_plot(knn_result,'param_n_neighbors','mean_train_score','mean_test_score',\n",
    "                'Grid Search Train Test Score Graph - KNN','n_neighbors','score')"
   ]
  },
  {
   "cell_type": "code",
   "execution_count": 25,
   "metadata": {},
   "outputs": [
    {
     "name": "stdout",
     "output_type": "stream",
     "text": [
      "KNN Classifier - Train Accuracy: 0.9501\n",
      "KNN Classifier - Test Accuracy: 0.9397 \n"
     ]
    }
   ],
   "source": [
    "knnclf_accuracy_train = knn_grid_search.best_estimator_.score(X_train, y_train)\n",
    "knnclf_accuracy_test = knn_grid_search.best_estimator_.score(X_test, y_test)\n",
    "\n",
    "print('KNN Classifier - Train Accuracy: %.4f'%knnclf_accuracy_train)\n",
    "print('KNN Classifier - Test Accuracy: %.4f '%knnclf_accuracy_test)"
   ]
  },
  {
   "cell_type": "code",
   "execution_count": 26,
   "metadata": {},
   "outputs": [
    {
     "name": "stdout",
     "output_type": "stream",
     "text": [
      "KNN Classifier - Train ROC AUC Score: 0.9380\n",
      "KNN Classifier - Test ROC AUC Score: 0.9265 \n"
     ]
    }
   ],
   "source": [
    "knnclf_auc_train = roc_auc_score(y_train, knn_grid_search.predict(X_train))\n",
    "knnclf_auc_test = roc_auc_score(y_test, knn_grid_search.predict(X_test))\n",
    "\n",
    "print('KNN Classifier - Train ROC AUC Score: %.4f'%knnclf_auc_train)\n",
    "print('KNN Classifier - Test ROC AUC Score: %.4f '%knnclf_auc_test)"
   ]
  },
  {
   "cell_type": "code",
   "execution_count": 27,
   "metadata": {},
   "outputs": [
    {
     "name": "stdout",
     "output_type": "stream",
     "text": [
      "              precision    recall  f1-score   support\n",
      "\n",
      "           0       0.91      0.99      0.95       139\n",
      "           1       0.99      0.86      0.92        93\n",
      "\n",
      "   micro avg       0.94      0.94      0.94       232\n",
      "   macro avg       0.95      0.93      0.94       232\n",
      "weighted avg       0.94      0.94      0.94       232\n",
      "\n"
     ]
    }
   ],
   "source": [
    "pred = knn_grid_search.predict(X_test)\n",
    "print(classification_report(y_test, pred))"
   ]
  },
  {
   "cell_type": "code",
   "execution_count": 28,
   "metadata": {},
   "outputs": [],
   "source": [
    "report_table =[['KNN Classification', str(knn_grid_search.best_params_).replace('{','', ).replace(\"'\",'').replace('}',''),\n",
    "                (knnclf_accuracy_train), (knnclf_accuracy_test), (knnclf_auc_train),(knnclf_auc_test)]]"
   ]
  },
  {
   "cell_type": "markdown",
   "metadata": {},
   "source": [
    "#### Classification Model (2) - Logistic Regression"
   ]
  },
  {
   "cell_type": "code",
   "execution_count": 29,
   "metadata": {},
   "outputs": [
    {
     "name": "stdout",
     "output_type": "stream",
     "text": [
      "Fitting 5 folds for each of 12 candidates, totalling 60 fits\n"
     ]
    },
    {
     "name": "stderr",
     "output_type": "stream",
     "text": [
      "[Parallel(n_jobs=-1)]: Using backend LokyBackend with 8 concurrent workers.\n",
      "[Parallel(n_jobs=-1)]: Done  16 tasks      | elapsed:    0.2s\n",
      "[Parallel(n_jobs=-1)]: Done  24 out of  60 | elapsed:    0.3s remaining:    0.4s\n"
     ]
    },
    {
     "name": "stdout",
     "output_type": "stream",
     "text": [
      "cv=5\n",
      "Best parameters: {'C': 10, 'penalty': 'l1'}\n",
      "Best cross-validation score: 0.9981\n",
      "\n"
     ]
    },
    {
     "name": "stderr",
     "output_type": "stream",
     "text": [
      "[Parallel(n_jobs=-1)]: Done  60 out of  60 | elapsed:    9.2s finished\n"
     ]
    }
   ],
   "source": [
    "model = LogisticRegression(random_state=101)\n",
    "parameters = {'C':[0.001, 0.01, 0.1, 1, 10, 100],\n",
    "              'penalty': ['l1', 'l2']}\n",
    "\n",
    "#cv =5\n",
    "log_grid_search = GridSearchCV(model, parameters, cv=5, scoring='roc_auc', n_jobs = -1,verbose=3)\n",
    "log_grid_search.fit(X_train, y_train)\n",
    "print('cv=5')\n",
    "print(\"Best parameters: {}\".format(log_grid_search.best_params_))\n",
    "print(\"Best cross-validation score: {:.4f}\".format(log_grid_search.best_score_))\n",
    "print()\n"
   ]
  },
  {
   "cell_type": "code",
   "execution_count": 30,
   "metadata": {},
   "outputs": [],
   "source": [
    "log_result = pd.DataFrame(log_grid_search.cv_results_)"
   ]
  },
  {
   "cell_type": "code",
   "execution_count": 31,
   "metadata": {},
   "outputs": [],
   "source": [
    "log_result['parameters'] = log_result.params.apply(lambda x: str(x).replace('{','').replace('}',''))\n",
    "log_result['index'] = log_result.index"
   ]
  },
  {
   "cell_type": "code",
   "execution_count": 32,
   "metadata": {},
   "outputs": [
    {
     "data": {
      "image/png": "[encoded data removed]",
      "text/plain": [
       "<Figure size 720x432 with 1 Axes>"
      ]
     },
     "metadata": {
      "needs_background": "light"
     },
     "output_type": "display_data"
    },
    {
     "data": {
      "text/html": [
       "<div>\n",
       "<style scoped>\n",
       "    .dataframe tbody tr th:only-of-type {\n",
       "        vertical-align: middle;\n",
       "    }\n",
       "\n",
       "    .dataframe tbody tr th {\n",
       "        vertical-align: top;\n",
       "    }\n",
       "\n",
       "    .dataframe thead th {\n",
       "        text-align: right;\n",
       "    }\n",
       "</style>\n",
       "<table border=\"1\" class=\"dataframe\">\n",
       "  <thead>\n",
       "    <tr style=\"text-align: right;\">\n",
       "      <th></th>\n",
       "      <th>0</th>\n",
       "      <th>1</th>\n",
       "      <th>2</th>\n",
       "      <th>3</th>\n",
       "      <th>4</th>\n",
       "      <th>5</th>\n",
       "      <th>6</th>\n",
       "      <th>7</th>\n",
       "      <th>8</th>\n",
       "      <th>9</th>\n",
       "      <th>10</th>\n",
       "      <th>11</th>\n",
       "    </tr>\n",
       "  </thead>\n",
       "  <tbody>\n",
       "    <tr>\n",
       "      <th>index</th>\n",
       "      <td>0</td>\n",
       "      <td>1</td>\n",
       "      <td>2</td>\n",
       "      <td>3</td>\n",
       "      <td>4</td>\n",
       "      <td>5</td>\n",
       "      <td>6</td>\n",
       "      <td>7</td>\n",
       "      <td>8</td>\n",
       "      <td>9</td>\n",
       "      <td>10</td>\n",
       "      <td>11</td>\n",
       "    </tr>\n",
       "    <tr>\n",
       "      <th>parameters</th>\n",
       "      <td>'C': 0.001, 'penalty': 'l1'</td>\n",
       "      <td>'C': 0.001, 'penalty': 'l2'</td>\n",
       "      <td>'C': 0.01, 'penalty': 'l1'</td>\n",
       "      <td>'C': 0.01, 'penalty': 'l2'</td>\n",
       "      <td>'C': 0.1, 'penalty': 'l1'</td>\n",
       "      <td>'C': 0.1, 'penalty': 'l2'</td>\n",
       "      <td>'C': 1, 'penalty': 'l1'</td>\n",
       "      <td>'C': 1, 'penalty': 'l2'</td>\n",
       "      <td>'C': 10, 'penalty': 'l1'</td>\n",
       "      <td>'C': 10, 'penalty': 'l2'</td>\n",
       "      <td>'C': 100, 'penalty': 'l1'</td>\n",
       "      <td>'C': 100, 'penalty': 'l2'</td>\n",
       "    </tr>\n",
       "  </tbody>\n",
       "</table>\n",
       "</div>"
      ],
      "text/plain": [
       "                                     0                            1   \\\n",
       "index                                 0                            1   \n",
       "parameters  'C': 0.001, 'penalty': 'l1'  'C': 0.001, 'penalty': 'l2'   \n",
       "\n",
       "                                    2                           3   \\\n",
       "index                                2                           3   \n",
       "parameters  'C': 0.01, 'penalty': 'l1'  'C': 0.01, 'penalty': 'l2'   \n",
       "\n",
       "                                   4                          5   \\\n",
       "index                               4                          5   \n",
       "parameters  'C': 0.1, 'penalty': 'l1'  'C': 0.1, 'penalty': 'l2'   \n",
       "\n",
       "                                 6                        7   \\\n",
       "index                             6                        7   \n",
       "parameters  'C': 1, 'penalty': 'l1'  'C': 1, 'penalty': 'l2'   \n",
       "\n",
       "                                  8                         9   \\\n",
       "index                              8                         9   \n",
       "parameters  'C': 10, 'penalty': 'l1'  'C': 10, 'penalty': 'l2'   \n",
       "\n",
       "                                   10                         11  \n",
       "index                              10                         11  \n",
       "parameters  'C': 100, 'penalty': 'l1'  'C': 100, 'penalty': 'l2'  "
      ]
     },
     "execution_count": 32,
     "metadata": {},
     "output_type": "execute_result"
    }
   ],
   "source": [
    "grid_score_plot(log_result,'index','mean_train_score','mean_test_score',\n",
    "               'Grid Search Train Test Score Graph - Logistic Regression','Parameters','score')\n",
    "log_result[['index','parameters']].transpose()"
   ]
  },
  {
   "cell_type": "code",
   "execution_count": 33,
   "metadata": {},
   "outputs": [
    {
     "name": "stdout",
     "output_type": "stream",
     "text": [
      "Logistic Regression Classifier - Train Accuracy: 0.9945\n",
      "Logistic Regression Classifier - Test Accuracy: 0.9957 \n"
     ]
    }
   ],
   "source": [
    "logistic_accuracy_train = log_grid_search.best_estimator_.score(X_train, y_train)\n",
    "logistic_accuracy_test = log_grid_search.best_estimator_.score(X_test, y_test)\n",
    "\n",
    "print('Logistic Regression Classifier - Train Accuracy: %.4f'%logistic_accuracy_train)\n",
    "print('Logistic Regression Classifier - Test Accuracy: %.4f '%logistic_accuracy_test)"
   ]
  },
  {
   "cell_type": "code",
   "execution_count": 34,
   "metadata": {},
   "outputs": [
    {
     "name": "stdout",
     "output_type": "stream",
     "text": [
      "Logstic Regression - Train ROC AUC Score: 0.9938\n",
      "Logistic Regression - Test ROC AUC Score: 0.9946 \n"
     ]
    }
   ],
   "source": [
    "logistic_auc_train = roc_auc_score(y_train, log_grid_search.predict(X_train))\n",
    "logistic_auc_test = roc_auc_score(y_test, log_grid_search.predict(X_test))\n",
    "\n",
    "print('Logstic Regression - Train ROC AUC Score: %.4f'%logistic_auc_train)\n",
    "print('Logistic Regression - Test ROC AUC Score: %.4f '%logistic_auc_test)"
   ]
  },
  {
   "cell_type": "code",
   "execution_count": 35,
   "metadata": {},
   "outputs": [
    {
     "name": "stdout",
     "output_type": "stream",
     "text": [
      "              precision    recall  f1-score   support\n",
      "\n",
      "           0       0.99      1.00      1.00       139\n",
      "           1       1.00      0.99      0.99        93\n",
      "\n",
      "   micro avg       1.00      1.00      1.00       232\n",
      "   macro avg       1.00      0.99      1.00       232\n",
      "weighted avg       1.00      1.00      1.00       232\n",
      "\n"
     ]
    }
   ],
   "source": [
    "pred = log_grid_search.predict(X_test)\n",
    "print(classification_report(y_test, pred))"
   ]
  },
  {
   "cell_type": "code",
   "execution_count": 36,
   "metadata": {},
   "outputs": [],
   "source": [
    "report_table = report_table + [['Logistic Regression', str(log_grid_search.best_params_).replace('{','', ).replace(\"'\",'').replace('}',''), \n",
    "                                logistic_accuracy_train, logistic_accuracy_test, logistic_auc_train,logistic_auc_test]]"
   ]
  },
  {
   "cell_type": "markdown",
   "metadata": {},
   "source": [
    "#### Classification Model (3) - Linear Support Vector Machine"
   ]
  },
  {
   "cell_type": "code",
   "execution_count": 37,
   "metadata": {},
   "outputs": [
    {
     "name": "stdout",
     "output_type": "stream",
     "text": [
      "Fitting 5 folds for each of 18 candidates, totalling 90 fits\n"
     ]
    },
    {
     "name": "stderr",
     "output_type": "stream",
     "text": [
      "[Parallel(n_jobs=-1)]: Using backend LokyBackend with 8 concurrent workers.\n",
      "[Parallel(n_jobs=-1)]: Done  16 tasks      | elapsed:    0.2s\n",
      "[Parallel(n_jobs=-1)]: Done  44 out of  90 | elapsed:    0.3s remaining:    0.3s\n"
     ]
    },
    {
     "name": "stdout",
     "output_type": "stream",
     "text": [
      "cv=5\n",
      "Best parameters: {'C': 10, 'dual': False, 'loss': 'squared_hinge', 'penalty': 'l1'}\n",
      "Best cross-validation score: 0.9834\n",
      "\n"
     ]
    },
    {
     "name": "stderr",
     "output_type": "stream",
     "text": [
      "[Parallel(n_jobs=-1)]: Done  90 out of  90 | elapsed:    0.9s finished\n"
     ]
    }
   ],
   "source": [
    "model = LinearSVC()\n",
    "parameters = [{'C':[0.001, 0.01, 0.1, 1, 10, 100], 'penalty':['l2'],'loss':['hinge','squared_hinge']},\n",
    "              {'C':[0.001, 0.01, 0.1, 1, 10, 100], 'penalty':['l1'], 'dual':[False], 'loss':['squared_hinge']}]\n",
    "\n",
    "#cv =5\n",
    "lin_svc_grid = GridSearchCV(model, parameters, cv=5, n_jobs = -1, verbose=3)\n",
    "lin_svc_grid.fit(X_train, y_train)\n",
    "print('cv=5')\n",
    "print(\"Best parameters: {}\".format(lin_svc_grid.best_params_))\n",
    "print(\"Best cross-validation score: {:.4f}\".format(lin_svc_grid.best_score_))\n",
    "print()\n"
   ]
  },
  {
   "cell_type": "code",
   "execution_count": 38,
   "metadata": {},
   "outputs": [],
   "source": [
    "lin_svc_result = pd.DataFrame(lin_svc_grid.cv_results_)"
   ]
  },
  {
   "cell_type": "code",
   "execution_count": 39,
   "metadata": {},
   "outputs": [
    {
     "data": {
      "image/png": "[encoded data removed]",
      "text/plain": [
       "<Figure size 720x432 with 1 Axes>"
      ]
     },
     "metadata": {
      "needs_background": "light"
     },
     "output_type": "display_data"
    }
   ],
   "source": [
    "grid_score_plot(lin_svc_result,'param_C','mean_train_score','mean_test_score',\n",
    "               'Grid Search Train Test Score Graph - Linear SVC','parameters: C' ,'score')"
   ]
  },
  {
   "cell_type": "code",
   "execution_count": 40,
   "metadata": {},
   "outputs": [
    {
     "name": "stdout",
     "output_type": "stream",
     "text": [
      "Linear SVC - Train Accuracy: 0.9982\n",
      "Linear SVC - Test Accuracy: 0.9957 \n"
     ]
    }
   ],
   "source": [
    "lsvc_accuracy_train = lin_svc_grid.best_estimator_.score(X_train, y_train)\n",
    "lsvc_accuracy_test = lin_svc_grid.best_estimator_.score(X_test, y_test) \n",
    "\n",
    "print('Linear SVC - Train Accuracy: %.4f'%lsvc_accuracy_train)\n",
    "print('Linear SVC - Test Accuracy: %.4f '%lsvc_accuracy_test)"
   ]
  },
  {
   "cell_type": "code",
   "execution_count": 41,
   "metadata": {},
   "outputs": [
    {
     "name": "stdout",
     "output_type": "stream",
     "text": [
      "Linear SVC - Train ROC AUC Score: 0.9976\n",
      "Linear SVC - Test ROC AUC Score: 0.9946 \n"
     ]
    }
   ],
   "source": [
    "lsvc_auc_train = roc_auc_score(y_train, lin_svc_grid.predict(X_train))\n",
    "lsvc_auc_test = roc_auc_score(y_test, lin_svc_grid.predict(X_test))\n",
    "\n",
    "print('Linear SVC - Train ROC AUC Score: %.4f'%lsvc_auc_train)\n",
    "print('Linear SVC - Test ROC AUC Score: %.4f '%lsvc_auc_test)"
   ]
  },
  {
   "cell_type": "code",
   "execution_count": 42,
   "metadata": {},
   "outputs": [
    {
     "name": "stdout",
     "output_type": "stream",
     "text": [
      "              precision    recall  f1-score   support\n",
      "\n",
      "           0       0.99      1.00      1.00       139\n",
      "           1       1.00      0.99      0.99        93\n",
      "\n",
      "   micro avg       1.00      1.00      1.00       232\n",
      "   macro avg       1.00      0.99      1.00       232\n",
      "weighted avg       1.00      1.00      1.00       232\n",
      "\n"
     ]
    }
   ],
   "source": [
    "pred = lin_svc_grid.predict(X_test)\n",
    "print(classification_report(y_test, pred))"
   ]
  },
  {
   "cell_type": "code",
   "execution_count": 43,
   "metadata": {},
   "outputs": [],
   "source": [
    "report_table = report_table + [['Linear SVC', str(lin_svc_grid.best_params_).replace('{','', ).replace(\"'\",'').replace('}',''), \n",
    "                                lsvc_accuracy_train, lsvc_accuracy_test, lsvc_auc_train,lsvc_auc_test]]"
   ]
  },
  {
   "cell_type": "markdown",
   "metadata": {},
   "source": [
    "#### Classification Model (4) - rbf Kernelized Support Vector Machine"
   ]
  },
  {
   "cell_type": "code",
   "execution_count": 44,
   "metadata": {},
   "outputs": [
    {
     "name": "stdout",
     "output_type": "stream",
     "text": [
      "Fitting 5 folds for each of 36 candidates, totalling 180 fits\n"
     ]
    },
    {
     "name": "stderr",
     "output_type": "stream",
     "text": [
      "[Parallel(n_jobs=-1)]: Using backend LokyBackend with 8 concurrent workers.\n",
      "[Parallel(n_jobs=-1)]: Done  16 tasks      | elapsed:    0.2s\n"
     ]
    },
    {
     "name": "stdout",
     "output_type": "stream",
     "text": [
      "cv=5\n",
      "Best parameters: {'C': 100, 'gamma': 0.001}\n",
      "Best cross-validation score: 0.9972\n",
      "\n"
     ]
    },
    {
     "name": "stderr",
     "output_type": "stream",
     "text": [
      "[Parallel(n_jobs=-1)]: Done 180 out of 180 | elapsed:    1.8s finished\n"
     ]
    }
   ],
   "source": [
    "model = SVC(kernel='rbf')\n",
    "parameters = [{'C':[0.001, 0.01, 0.1, 1, 10, 100], 'gamma':[0.001,0.01,0.1,1,10,100]}]\n",
    "\n",
    "#cv =5\n",
    "rbf_svc_grid = GridSearchCV(model, parameters, scoring = 'roc_auc',cv=5, n_jobs = -1, verbose=3)\n",
    "rbf_svc_grid.fit(X_train, y_train)\n",
    "print('cv=5')\n",
    "print(\"Best parameters: {}\".format(rbf_svc_grid.best_params_))\n",
    "print(\"Best cross-validation score: {:.4f}\".format(rbf_svc_grid.best_score_))\n",
    "print()\n"
   ]
  },
  {
   "cell_type": "code",
   "execution_count": 45,
   "metadata": {},
   "outputs": [],
   "source": [
    "rbf_svc_result = pd.DataFrame(rbf_svc_grid.cv_results_)\n",
    "rbf_svc_result['parameters'] = rbf_svc_result.params.apply(lambda x: str(x).replace('{','').replace('}',''))\n",
    "rbf_svc_result['index'] = rbf_svc_result.index"
   ]
  },
  {
   "cell_type": "code",
   "execution_count": 46,
   "metadata": {},
   "outputs": [
    {
     "data": {
      "image/png": "[encoded data removed]",
      "text/plain": [
       "<Figure size 720x432 with 1 Axes>"
      ]
     },
     "metadata": {
      "needs_background": "light"
     },
     "output_type": "display_data"
    },
    {
     "data": {
      "text/html": [
       "<div>\n",
       "<style scoped>\n",
       "    .dataframe tbody tr th:only-of-type {\n",
       "        vertical-align: middle;\n",
       "    }\n",
       "\n",
       "    .dataframe tbody tr th {\n",
       "        vertical-align: top;\n",
       "    }\n",
       "\n",
       "    .dataframe thead th {\n",
       "        text-align: right;\n",
       "    }\n",
       "</style>\n",
       "<table border=\"1\" class=\"dataframe\">\n",
       "  <thead>\n",
       "    <tr style=\"text-align: right;\">\n",
       "      <th></th>\n",
       "      <th>0</th>\n",
       "      <th>1</th>\n",
       "      <th>2</th>\n",
       "      <th>3</th>\n",
       "      <th>4</th>\n",
       "      <th>5</th>\n",
       "      <th>6</th>\n",
       "      <th>7</th>\n",
       "      <th>8</th>\n",
       "      <th>9</th>\n",
       "      <th>...</th>\n",
       "      <th>26</th>\n",
       "      <th>27</th>\n",
       "      <th>28</th>\n",
       "      <th>29</th>\n",
       "      <th>30</th>\n",
       "      <th>31</th>\n",
       "      <th>32</th>\n",
       "      <th>33</th>\n",
       "      <th>34</th>\n",
       "      <th>35</th>\n",
       "    </tr>\n",
       "  </thead>\n",
       "  <tbody>\n",
       "    <tr>\n",
       "      <th>index</th>\n",
       "      <td>0</td>\n",
       "      <td>1</td>\n",
       "      <td>2</td>\n",
       "      <td>3</td>\n",
       "      <td>4</td>\n",
       "      <td>5</td>\n",
       "      <td>6</td>\n",
       "      <td>7</td>\n",
       "      <td>8</td>\n",
       "      <td>9</td>\n",
       "      <td>...</td>\n",
       "      <td>26</td>\n",
       "      <td>27</td>\n",
       "      <td>28</td>\n",
       "      <td>29</td>\n",
       "      <td>30</td>\n",
       "      <td>31</td>\n",
       "      <td>32</td>\n",
       "      <td>33</td>\n",
       "      <td>34</td>\n",
       "      <td>35</td>\n",
       "    </tr>\n",
       "    <tr>\n",
       "      <th>parameters</th>\n",
       "      <td>'C': 0.001, 'gamma': 0.001</td>\n",
       "      <td>'C': 0.001, 'gamma': 0.01</td>\n",
       "      <td>'C': 0.001, 'gamma': 0.1</td>\n",
       "      <td>'C': 0.001, 'gamma': 1</td>\n",
       "      <td>'C': 0.001, 'gamma': 10</td>\n",
       "      <td>'C': 0.001, 'gamma': 100</td>\n",
       "      <td>'C': 0.01, 'gamma': 0.001</td>\n",
       "      <td>'C': 0.01, 'gamma': 0.01</td>\n",
       "      <td>'C': 0.01, 'gamma': 0.1</td>\n",
       "      <td>'C': 0.01, 'gamma': 1</td>\n",
       "      <td>...</td>\n",
       "      <td>'C': 10, 'gamma': 0.1</td>\n",
       "      <td>'C': 10, 'gamma': 1</td>\n",
       "      <td>'C': 10, 'gamma': 10</td>\n",
       "      <td>'C': 10, 'gamma': 100</td>\n",
       "      <td>'C': 100, 'gamma': 0.001</td>\n",
       "      <td>'C': 100, 'gamma': 0.01</td>\n",
       "      <td>'C': 100, 'gamma': 0.1</td>\n",
       "      <td>'C': 100, 'gamma': 1</td>\n",
       "      <td>'C': 100, 'gamma': 10</td>\n",
       "      <td>'C': 100, 'gamma': 100</td>\n",
       "    </tr>\n",
       "  </tbody>\n",
       "</table>\n",
       "<p>2 rows × 36 columns</p>\n",
       "</div>"
      ],
      "text/plain": [
       "                                    0                          1   \\\n",
       "index                                0                          1   \n",
       "parameters  'C': 0.001, 'gamma': 0.001  'C': 0.001, 'gamma': 0.01   \n",
       "\n",
       "                                  2                       3   \\\n",
       "index                              2                       3   \n",
       "parameters  'C': 0.001, 'gamma': 0.1  'C': 0.001, 'gamma': 1   \n",
       "\n",
       "                                 4                         5   \\\n",
       "index                             4                         5   \n",
       "parameters  'C': 0.001, 'gamma': 10  'C': 0.001, 'gamma': 100   \n",
       "\n",
       "                                   6                         7   \\\n",
       "index                               6                         7   \n",
       "parameters  'C': 0.01, 'gamma': 0.001  'C': 0.01, 'gamma': 0.01   \n",
       "\n",
       "                                 8                      9   ...  \\\n",
       "index                             8                      9  ...   \n",
       "parameters  'C': 0.01, 'gamma': 0.1  'C': 0.01, 'gamma': 1  ...   \n",
       "\n",
       "                               26                   27                    28  \\\n",
       "index                          26                   27                    28   \n",
       "parameters  'C': 10, 'gamma': 0.1  'C': 10, 'gamma': 1  'C': 10, 'gamma': 10   \n",
       "\n",
       "                               29                        30  \\\n",
       "index                          29                        30   \n",
       "parameters  'C': 10, 'gamma': 100  'C': 100, 'gamma': 0.001   \n",
       "\n",
       "                                 31                      32  \\\n",
       "index                            31                      32   \n",
       "parameters  'C': 100, 'gamma': 0.01  'C': 100, 'gamma': 0.1   \n",
       "\n",
       "                              33                     34  \\\n",
       "index                         33                     34   \n",
       "parameters  'C': 100, 'gamma': 1  'C': 100, 'gamma': 10   \n",
       "\n",
       "                                35  \n",
       "index                           35  \n",
       "parameters  'C': 100, 'gamma': 100  \n",
       "\n",
       "[2 rows x 36 columns]"
      ]
     },
     "execution_count": 46,
     "metadata": {},
     "output_type": "execute_result"
    }
   ],
   "source": [
    "grid_score_plot(rbf_svc_result,'index','mean_train_score','mean_test_score',\n",
    "               'Grid Search Train Test Score Graph - RBF kernel SVC','parameters','score')\n",
    "rbf_svc_result[['index','parameters']].transpose()"
   ]
  },
  {
   "cell_type": "code",
   "execution_count": 47,
   "metadata": {},
   "outputs": [
    {
     "name": "stdout",
     "output_type": "stream",
     "text": [
      "RBF SVC - Train Accuracy: 0.9834\n",
      "RBF SVC - Test Accuracy: 0.9828 \n"
     ]
    }
   ],
   "source": [
    "rbf_svc_accuracy_train = rbf_svc_grid.best_estimator_.score(X_train, y_train)\n",
    "rbf_svc_accuracy_test = rbf_svc_grid.best_estimator_.score(X_test, y_test)\n",
    "\n",
    "print('RBF SVC - Train Accuracy: %.4f'%rbf_svc_accuracy_train)\n",
    "print('RBF SVC - Test Accuracy: %.4f '%rbf_svc_accuracy_test)"
   ]
  },
  {
   "cell_type": "code",
   "execution_count": 48,
   "metadata": {},
   "outputs": [
    {
     "name": "stdout",
     "output_type": "stream",
     "text": [
      "RBF Kernel SVC - Train ROC AUC Score: 0.9813\n",
      "RBF Kernel SVC - Test ROC AUC Score: 0.9785 \n"
     ]
    }
   ],
   "source": [
    "rbf_svc_auc_train = roc_auc_score(y_train, rbf_svc_grid.predict(X_train))\n",
    "rbf_svc_auc_test = roc_auc_score(y_test, rbf_svc_grid.predict(X_test))\n",
    "\n",
    "print('RBF Kernel SVC - Train ROC AUC Score: %.4f'%rbf_svc_auc_train)\n",
    "print('RBF Kernel SVC - Test ROC AUC Score: %.4f '%rbf_svc_auc_test)"
   ]
  },
  {
   "cell_type": "code",
   "execution_count": 49,
   "metadata": {},
   "outputs": [
    {
     "name": "stdout",
     "output_type": "stream",
     "text": [
      "              precision    recall  f1-score   support\n",
      "\n",
      "           0       0.97      1.00      0.99       139\n",
      "           1       1.00      0.96      0.98        93\n",
      "\n",
      "   micro avg       0.98      0.98      0.98       232\n",
      "   macro avg       0.99      0.98      0.98       232\n",
      "weighted avg       0.98      0.98      0.98       232\n",
      "\n"
     ]
    }
   ],
   "source": [
    "pred = rbf_svc_grid.predict(X_test)\n",
    "print(classification_report(y_test, pred))"
   ]
  },
  {
   "cell_type": "code",
   "execution_count": 50,
   "metadata": {},
   "outputs": [],
   "source": [
    "report_table  = report_table +[['RBF Kernel SVC', str(rbf_svc_grid.best_params_).replace('{','', ).replace(\"'\",'').replace('}',''), \n",
    "                                rbf_svc_accuracy_train, rbf_svc_accuracy_test,rbf_svc_auc_train,rbf_svc_auc_test]]"
   ]
  },
  {
   "cell_type": "markdown",
   "metadata": {},
   "source": [
    "#### Classfication Model (5) - Decision Tree Classification"
   ]
  },
  {
   "cell_type": "code",
   "execution_count": 51,
   "metadata": {},
   "outputs": [
    {
     "name": "stdout",
     "output_type": "stream",
     "text": [
      "Fitting 5 folds for each of 100 candidates, totalling 500 fits\n"
     ]
    },
    {
     "name": "stderr",
     "output_type": "stream",
     "text": [
      "[Parallel(n_jobs=-1)]: Using backend LokyBackend with 8 concurrent workers.\n",
      "[Parallel(n_jobs=-1)]: Done  16 tasks      | elapsed:    0.1s\n"
     ]
    },
    {
     "name": "stdout",
     "output_type": "stream",
     "text": [
      "cv=5\n",
      "Best parameters: {'max_depth': 5, 'max_features': 10}\n",
      "Best cross-validation score: 0.9954\n",
      "\n"
     ]
    },
    {
     "name": "stderr",
     "output_type": "stream",
     "text": [
      "[Parallel(n_jobs=-1)]: Done 500 out of 500 | elapsed:    1.4s finished\n",
      "C:\\Users\\josep\\Anaconda3\\lib\\site-packages\\sklearn\\model_selection\\_search.py:841: DeprecationWarning: The default of the `iid` parameter will change from True to False in version 0.22 and will be removed in 0.24. This will change numeric results when test-set sizes are unequal.\n",
      "  DeprecationWarning)\n"
     ]
    }
   ],
   "source": [
    "model = DecisionTreeClassifier()\n",
    "parameters = [{'max_depth':[1,2,3,4,5,6,7,8,9,10], 'max_features':[1,2,3,4,5,6,7,8,9,10]}]\n",
    "\n",
    "#cv =5\n",
    "dtree_grid = GridSearchCV(model, parameters, scoring='roc_auc', cv=5, n_jobs = -1, verbose = 3)\n",
    "dtree_grid.fit(X_train, y_train)\n",
    "print('cv=5')\n",
    "print(\"Best parameters: {}\".format(dtree_grid.best_params_))\n",
    "print(\"Best cross-validation score: {:.4f}\".format(dtree_grid.best_score_))\n",
    "print()"
   ]
  },
  {
   "cell_type": "code",
   "execution_count": 52,
   "metadata": {},
   "outputs": [],
   "source": [
    "dtree_result = pd.DataFrame(dtree_grid.cv_results_)\n",
    "dtree_result['parameters'] = dtree_result.params.apply(lambda x: str(x).replace('{','').replace('}',''))\n",
    "dtree_result['index'] = dtree_result.index"
   ]
  },
  {
   "cell_type": "code",
   "execution_count": 53,
   "metadata": {},
   "outputs": [
    {
     "data": {
      "image/png": "[encoded data removed]",
      "text/plain": [
       "<Figure size 720x432 with 1 Axes>"
      ]
     },
     "metadata": {
      "needs_background": "light"
     },
     "output_type": "display_data"
    },
    {
     "data": {
      "text/html": [
       "<div>\n",
       "<style scoped>\n",
       "    .dataframe tbody tr th:only-of-type {\n",
       "        vertical-align: middle;\n",
       "    }\n",
       "\n",
       "    .dataframe tbody tr th {\n",
       "        vertical-align: top;\n",
       "    }\n",
       "\n",
       "    .dataframe thead th {\n",
       "        text-align: right;\n",
       "    }\n",
       "</style>\n",
       "<table border=\"1\" class=\"dataframe\">\n",
       "  <thead>\n",
       "    <tr style=\"text-align: right;\">\n",
       "      <th></th>\n",
       "      <th>0</th>\n",
       "      <th>1</th>\n",
       "      <th>2</th>\n",
       "      <th>3</th>\n",
       "      <th>4</th>\n",
       "      <th>5</th>\n",
       "      <th>6</th>\n",
       "      <th>7</th>\n",
       "      <th>8</th>\n",
       "      <th>9</th>\n",
       "      <th>...</th>\n",
       "      <th>90</th>\n",
       "      <th>91</th>\n",
       "      <th>92</th>\n",
       "      <th>93</th>\n",
       "      <th>94</th>\n",
       "      <th>95</th>\n",
       "      <th>96</th>\n",
       "      <th>97</th>\n",
       "      <th>98</th>\n",
       "      <th>99</th>\n",
       "    </tr>\n",
       "  </thead>\n",
       "  <tbody>\n",
       "    <tr>\n",
       "      <th>index</th>\n",
       "      <td>0</td>\n",
       "      <td>1</td>\n",
       "      <td>2</td>\n",
       "      <td>3</td>\n",
       "      <td>4</td>\n",
       "      <td>5</td>\n",
       "      <td>6</td>\n",
       "      <td>7</td>\n",
       "      <td>8</td>\n",
       "      <td>9</td>\n",
       "      <td>...</td>\n",
       "      <td>90</td>\n",
       "      <td>91</td>\n",
       "      <td>92</td>\n",
       "      <td>93</td>\n",
       "      <td>94</td>\n",
       "      <td>95</td>\n",
       "      <td>96</td>\n",
       "      <td>97</td>\n",
       "      <td>98</td>\n",
       "      <td>99</td>\n",
       "    </tr>\n",
       "    <tr>\n",
       "      <th>parameters</th>\n",
       "      <td>'max_depth': 1, 'max_features': 1</td>\n",
       "      <td>'max_depth': 1, 'max_features': 2</td>\n",
       "      <td>'max_depth': 1, 'max_features': 3</td>\n",
       "      <td>'max_depth': 1, 'max_features': 4</td>\n",
       "      <td>'max_depth': 1, 'max_features': 5</td>\n",
       "      <td>'max_depth': 1, 'max_features': 6</td>\n",
       "      <td>'max_depth': 1, 'max_features': 7</td>\n",
       "      <td>'max_depth': 1, 'max_features': 8</td>\n",
       "      <td>'max_depth': 1, 'max_features': 9</td>\n",
       "      <td>'max_depth': 1, 'max_features': 10</td>\n",
       "      <td>...</td>\n",
       "      <td>'max_depth': 10, 'max_features': 1</td>\n",
       "      <td>'max_depth': 10, 'max_features': 2</td>\n",
       "      <td>'max_depth': 10, 'max_features': 3</td>\n",
       "      <td>'max_depth': 10, 'max_features': 4</td>\n",
       "      <td>'max_depth': 10, 'max_features': 5</td>\n",
       "      <td>'max_depth': 10, 'max_features': 6</td>\n",
       "      <td>'max_depth': 10, 'max_features': 7</td>\n",
       "      <td>'max_depth': 10, 'max_features': 8</td>\n",
       "      <td>'max_depth': 10, 'max_features': 9</td>\n",
       "      <td>'max_depth': 10, 'max_features': 10</td>\n",
       "    </tr>\n",
       "  </tbody>\n",
       "</table>\n",
       "<p>2 rows × 100 columns</p>\n",
       "</div>"
      ],
      "text/plain": [
       "                                           0   \\\n",
       "index                                       0   \n",
       "parameters  'max_depth': 1, 'max_features': 1   \n",
       "\n",
       "                                           1   \\\n",
       "index                                       1   \n",
       "parameters  'max_depth': 1, 'max_features': 2   \n",
       "\n",
       "                                           2   \\\n",
       "index                                       2   \n",
       "parameters  'max_depth': 1, 'max_features': 3   \n",
       "\n",
       "                                           3   \\\n",
       "index                                       3   \n",
       "parameters  'max_depth': 1, 'max_features': 4   \n",
       "\n",
       "                                           4   \\\n",
       "index                                       4   \n",
       "parameters  'max_depth': 1, 'max_features': 5   \n",
       "\n",
       "                                           5   \\\n",
       "index                                       5   \n",
       "parameters  'max_depth': 1, 'max_features': 6   \n",
       "\n",
       "                                           6   \\\n",
       "index                                       6   \n",
       "parameters  'max_depth': 1, 'max_features': 7   \n",
       "\n",
       "                                           7   \\\n",
       "index                                       7   \n",
       "parameters  'max_depth': 1, 'max_features': 8   \n",
       "\n",
       "                                           8   \\\n",
       "index                                       8   \n",
       "parameters  'max_depth': 1, 'max_features': 9   \n",
       "\n",
       "                                            9   ...  \\\n",
       "index                                        9  ...   \n",
       "parameters  'max_depth': 1, 'max_features': 10  ...   \n",
       "\n",
       "                                            90  \\\n",
       "index                                       90   \n",
       "parameters  'max_depth': 10, 'max_features': 1   \n",
       "\n",
       "                                            91  \\\n",
       "index                                       91   \n",
       "parameters  'max_depth': 10, 'max_features': 2   \n",
       "\n",
       "                                            92  \\\n",
       "index                                       92   \n",
       "parameters  'max_depth': 10, 'max_features': 3   \n",
       "\n",
       "                                            93  \\\n",
       "index                                       93   \n",
       "parameters  'max_depth': 10, 'max_features': 4   \n",
       "\n",
       "                                            94  \\\n",
       "index                                       94   \n",
       "parameters  'max_depth': 10, 'max_features': 5   \n",
       "\n",
       "                                            95  \\\n",
       "index                                       95   \n",
       "parameters  'max_depth': 10, 'max_features': 6   \n",
       "\n",
       "                                            96  \\\n",
       "index                                       96   \n",
       "parameters  'max_depth': 10, 'max_features': 7   \n",
       "\n",
       "                                            97  \\\n",
       "index                                       97   \n",
       "parameters  'max_depth': 10, 'max_features': 8   \n",
       "\n",
       "                                            98  \\\n",
       "index                                       98   \n",
       "parameters  'max_depth': 10, 'max_features': 9   \n",
       "\n",
       "                                             99  \n",
       "index                                        99  \n",
       "parameters  'max_depth': 10, 'max_features': 10  \n",
       "\n",
       "[2 rows x 100 columns]"
      ]
     },
     "execution_count": 53,
     "metadata": {},
     "output_type": "execute_result"
    }
   ],
   "source": [
    "grid_score_plot(dtree_result,'index','mean_train_score','mean_test_score',\n",
    "               'Grid Search Train Test Score Graph - Decision Tree','parameters','score', False)\n",
    "dtree_result[['index','parameters']].transpose()"
   ]
  },
  {
   "cell_type": "code",
   "execution_count": 54,
   "metadata": {},
   "outputs": [
    {
     "name": "stdout",
     "output_type": "stream",
     "text": [
      "Decision Tree Classofier - Train Accuracy: 0.9926\n",
      "Decision Tree Classifier - Test Accuracy: 0.9957 \n"
     ]
    }
   ],
   "source": [
    "dtree_accuracy_train = dtree_grid.best_estimator_.score(X_train, y_train)\n",
    "dtree_accuracy_test = dtree_grid.best_estimator_.score(X_test, y_test)\n",
    "\n",
    "print('Decision Tree Classofier - Train Accuracy: %.4f'%dtree_accuracy_train)\n",
    "print('Decision Tree Classifier - Test Accuracy: %.4f '%dtree_accuracy_test)"
   ]
  },
  {
   "cell_type": "code",
   "execution_count": 55,
   "metadata": {},
   "outputs": [
    {
     "name": "stdout",
     "output_type": "stream",
     "text": [
      "Decision Tree Classifier - Train ROC AUC Score: 0.9906\n",
      "Decision Tree Classifier - Test ROC AUC Score: 0.9946 \n"
     ]
    }
   ],
   "source": [
    "dtree_auc_train = roc_auc_score(y_train, dtree_grid.predict(X_train))\n",
    "dtree_auc_test = roc_auc_score(y_test, dtree_grid.predict(X_test))\n",
    "\n",
    "print('Decision Tree Classifier - Train ROC AUC Score: %.4f'%dtree_auc_train)\n",
    "print('Decision Tree Classifier - Test ROC AUC Score: %.4f '%dtree_auc_test)"
   ]
  },
  {
   "cell_type": "code",
   "execution_count": 56,
   "metadata": {},
   "outputs": [
    {
     "name": "stdout",
     "output_type": "stream",
     "text": [
      "              precision    recall  f1-score   support\n",
      "\n",
      "           0       0.99      1.00      1.00       139\n",
      "           1       1.00      0.99      0.99        93\n",
      "\n",
      "   micro avg       1.00      1.00      1.00       232\n",
      "   macro avg       1.00      0.99      1.00       232\n",
      "weighted avg       1.00      1.00      1.00       232\n",
      "\n"
     ]
    }
   ],
   "source": [
    "pred = dtree_grid.predict(X_test)\n",
    "print(classification_report(y_test, pred))"
   ]
  },
  {
   "cell_type": "code",
   "execution_count": 57,
   "metadata": {},
   "outputs": [],
   "source": [
    "report_table  = report_table +[['Decision Tree', str(dtree_grid.best_params_).replace('{','', ).replace(\"'\",'').replace('}',''), \n",
    "                                dtree_accuracy_train, dtree_accuracy_test,dtree_auc_train,dtree_auc_test]]"
   ]
  },
  {
   "cell_type": "code",
   "execution_count": 58,
   "metadata": {},
   "outputs": [],
   "source": [
    "report = pd.DataFrame(report_table,columns = ['Model Name', 'Model Parameters', \n",
    "                                              'Train Accuracy', 'Test Accuracy', \n",
    "                                              'Train AUC Score', 'Test AUC Score'])"
   ]
  },
  {
   "cell_type": "code",
   "execution_count": 59,
   "metadata": {},
   "outputs": [],
   "source": [
    "report.index = report['Model Name']\n",
    "report.drop(['Model Name'],axis=1, inplace=True)"
   ]
  },
  {
   "cell_type": "code",
   "execution_count": 62,
   "metadata": {},
   "outputs": [
    {
     "data": {
      "text/html": [
       "<div>\n",
       "<style scoped>\n",
       "    .dataframe tbody tr th:only-of-type {\n",
       "        vertical-align: middle;\n",
       "    }\n",
       "\n",
       "    .dataframe tbody tr th {\n",
       "        vertical-align: top;\n",
       "    }\n",
       "\n",
       "    .dataframe thead th {\n",
       "        text-align: right;\n",
       "    }\n",
       "</style>\n",
       "<table border=\"1\" class=\"dataframe\">\n",
       "  <thead>\n",
       "    <tr style=\"text-align: right;\">\n",
       "      <th></th>\n",
       "      <th>Model Parameters</th>\n",
       "      <th>Train Accuracy</th>\n",
       "      <th>Test Accuracy</th>\n",
       "      <th>Train AUC Score</th>\n",
       "      <th>Test AUC Score</th>\n",
       "    </tr>\n",
       "    <tr>\n",
       "      <th>Model Name</th>\n",
       "      <th></th>\n",
       "      <th></th>\n",
       "      <th></th>\n",
       "      <th></th>\n",
       "      <th></th>\n",
       "    </tr>\n",
       "  </thead>\n",
       "  <tbody>\n",
       "    <tr>\n",
       "      <th>KNN Classification</th>\n",
       "      <td>n_neighbors: 10</td>\n",
       "      <td>0.950092</td>\n",
       "      <td>0.939655</td>\n",
       "      <td>0.937998</td>\n",
       "      <td>0.926510</td>\n",
       "    </tr>\n",
       "    <tr>\n",
       "      <th>Logistic Regression</th>\n",
       "      <td>C: 10, penalty: l1</td>\n",
       "      <td>0.994455</td>\n",
       "      <td>0.995690</td>\n",
       "      <td>0.993763</td>\n",
       "      <td>0.994624</td>\n",
       "    </tr>\n",
       "    <tr>\n",
       "      <th>Linear SVC</th>\n",
       "      <td>C: 10, dual: False, loss: squared_hinge, penal...</td>\n",
       "      <td>0.998152</td>\n",
       "      <td>0.995690</td>\n",
       "      <td>0.997642</td>\n",
       "      <td>0.994624</td>\n",
       "    </tr>\n",
       "    <tr>\n",
       "      <th>RBF Kernel SVC</th>\n",
       "      <td>C: 100, gamma: 0.001</td>\n",
       "      <td>0.983364</td>\n",
       "      <td>0.982759</td>\n",
       "      <td>0.981290</td>\n",
       "      <td>0.978495</td>\n",
       "    </tr>\n",
       "    <tr>\n",
       "      <th>Decision Tree</th>\n",
       "      <td>max_depth: 5, max_features: 10</td>\n",
       "      <td>0.992606</td>\n",
       "      <td>0.995690</td>\n",
       "      <td>0.990566</td>\n",
       "      <td>0.994624</td>\n",
       "    </tr>\n",
       "  </tbody>\n",
       "</table>\n",
       "</div>"
      ],
      "text/plain": [
       "                                                      Model Parameters  \\\n",
       "Model Name                                                               \n",
       "KNN Classification                                     n_neighbors: 10   \n",
       "Logistic Regression                                 C: 10, penalty: l1   \n",
       "Linear SVC           C: 10, dual: False, loss: squared_hinge, penal...   \n",
       "RBF Kernel SVC                                    C: 100, gamma: 0.001   \n",
       "Decision Tree                           max_depth: 5, max_features: 10   \n",
       "\n",
       "                     Train Accuracy  Test Accuracy  Train AUC Score  \\\n",
       "Model Name                                                            \n",
       "KNN Classification         0.950092       0.939655         0.937998   \n",
       "Logistic Regression        0.994455       0.995690         0.993763   \n",
       "Linear SVC                 0.998152       0.995690         0.997642   \n",
       "RBF Kernel SVC             0.983364       0.982759         0.981290   \n",
       "Decision Tree              0.992606       0.995690         0.990566   \n",
       "\n",
       "                     Test AUC Score  \n",
       "Model Name                           \n",
       "KNN Classification         0.926510  \n",
       "Logistic Regression        0.994624  \n",
       "Linear SVC                 0.994624  \n",
       "RBF Kernel SVC             0.978495  \n",
       "Decision Tree              0.994624  "
      ]
     },
     "execution_count": 62,
     "metadata": {},
     "output_type": "execute_result"
    }
   ],
   "source": [
    "report"
   ]
  },
  {
   "cell_type": "code",
   "execution_count": 64,
   "metadata": {},
   "outputs": [
    {
     "data": {
      "text/plain": [
       "<matplotlib.axes._subplots.AxesSubplot at 0x1f479b9bda0>"
      ]
     },
     "execution_count": 64,
     "metadata": {},
     "output_type": "execute_result"
    },
    {
     "data": {
      "image/png": "[encoded data removed]",
      "text/plain": [
       "<Figure size 432x288 with 1 Axes>"
      ]
     },
     "metadata": {
      "needs_background": "light"
     },
     "output_type": "display_data"
    }
   ],
   "source": [
    "sns.barplot(y =report.index, x = 'Test AUC Score', data= report)"
   ]
  },
  {
   "cell_type": "markdown",
   "metadata": {},
   "source": [
    "### Conclusion"
   ]
  },
  {
   "cell_type": "markdown",
   "metadata": {},
   "source": [
    "All five models give fine results.(KNN, Logistic Regression, Linear SVC, RBF kernel SVC and Decision Tree) \n",
    "<br/>\n",
    "Since Linear SVC is computationally expensive, <br/>  with the same accuracy, Logistic Regression can be a better model due to its explainability and simplicity.  "
   ]
  },
  {
   "cell_type": "code",
   "execution_count": 65,
   "metadata": {},
   "outputs": [],
   "source": [
    "X_train_final, X_test_final, y_train_final, y_test_final = train_test_split(clf_X,clf_y, shuffle=True, random_state=101)"
   ]
  },
  {
   "cell_type": "code",
   "execution_count": 152,
   "metadata": {},
   "outputs": [],
   "source": [
    "scaler = StandardScaler()\n",
    "scaled_X_train_final = scaler.fit_transform(X_train_final)\n",
    "scaled_X_test_final = scaler.transform(X_test_final)"
   ]
  },
  {
   "cell_type": "code",
   "execution_count": 173,
   "metadata": {},
   "outputs": [],
   "source": [
    "from sklearn.metrics import accuracy_score, precision_score,recall_score,f1_score,roc_auc_score, confusion_matrix\n",
    "import scikitplot\n",
    "from scikitplot.metrics import plot_confusion_matrix\n",
    "\n",
    "def metrics(model,y_test,y_pred):\n",
    "    metrics = {'Accuracy Score':accuracy_score(y_test, y_pred),\n",
    "                'Precision Score':precision_score(y_test, y_pred),\n",
    "                'Recall Score':recall_score(y_test, y_pred),\n",
    "                'F1 Score': f1_score(y_test, y_pred),\n",
    "                'ROC AUC Score':roc_auc_score(y_test, y_pred) \n",
    "                }\n",
    "    \n",
    "    metrics_tbl = pd.DataFrame.from_dict(metrics, orient='index',columns=['Scores'])\n",
    "    plot_confusion_matrix(y_test_final, y_pred_final)\n",
    "    return metrics_tbl"
   ]
  },
  {
   "cell_type": "code",
   "execution_count": 154,
   "metadata": {},
   "outputs": [],
   "source": [
    "log_reg = LogisticRegression(C=10, penalty='l1').fit(scaled_X_train_final, y_train_final)\n",
    "y_pred_final = log_reg.predict(scaled_X_test_final)"
   ]
  },
  {
   "cell_type": "markdown",
   "metadata": {},
   "source": [
    "### Report"
   ]
  },
  {
   "cell_type": "markdown",
   "metadata": {},
   "source": [
    "#### (1) Confusion Metrics"
   ]
  },
  {
   "cell_type": "code",
   "execution_count": 157,
   "metadata": {},
   "outputs": [
    {
     "data": {
      "image/png": "[encoded data removed]",
      "text/plain": [
       "<Figure size 432x288 with 2 Axes>"
      ]
     },
     "metadata": {
      "needs_background": "light"
     },
     "output_type": "display_data"
    }
   ],
   "source": [
    "df_metrics = metrics(log_reg, y_test_final, y_pred_final)"
   ]
  },
  {
   "cell_type": "markdown",
   "metadata": {},
   "source": [
    "#### (2) Metric Table"
   ]
  },
  {
   "cell_type": "code",
   "execution_count": 177,
   "metadata": {},
   "outputs": [
    {
     "data": {
      "text/html": [
       "<div>\n",
       "<style scoped>\n",
       "    .dataframe tbody tr th:only-of-type {\n",
       "        vertical-align: middle;\n",
       "    }\n",
       "\n",
       "    .dataframe tbody tr th {\n",
       "        vertical-align: top;\n",
       "    }\n",
       "\n",
       "    .dataframe thead th {\n",
       "        text-align: right;\n",
       "    }\n",
       "</style>\n",
       "<table border=\"1\" class=\"dataframe\">\n",
       "  <thead>\n",
       "    <tr style=\"text-align: right;\">\n",
       "      <th></th>\n",
       "      <th>Scores</th>\n",
       "    </tr>\n",
       "  </thead>\n",
       "  <tbody>\n",
       "    <tr>\n",
       "      <th>Accuracy Score</th>\n",
       "      <td>0.994845</td>\n",
       "    </tr>\n",
       "    <tr>\n",
       "      <th>Precision Score</th>\n",
       "      <td>1.000000</td>\n",
       "    </tr>\n",
       "    <tr>\n",
       "      <th>Recall Score</th>\n",
       "      <td>0.987654</td>\n",
       "    </tr>\n",
       "    <tr>\n",
       "      <th>F1 Score</th>\n",
       "      <td>0.993789</td>\n",
       "    </tr>\n",
       "    <tr>\n",
       "      <th>ROC AUC Score</th>\n",
       "      <td>0.993827</td>\n",
       "    </tr>\n",
       "  </tbody>\n",
       "</table>\n",
       "</div>"
      ],
      "text/plain": [
       "                   Scores\n",
       "Accuracy Score   0.994845\n",
       "Precision Score  1.000000\n",
       "Recall Score     0.987654\n",
       "F1 Score         0.993789\n",
       "ROC AUC Score    0.993827"
      ]
     },
     "execution_count": 177,
     "metadata": {},
     "output_type": "execute_result"
    }
   ],
   "source": [
    "df_metrics"
   ]
  }
 ],
 "metadata": {
  "kernelspec": {
   "display_name": "Python 3",
   "language": "python",
   "name": "python3"
  },
  "language_info": {
   "codemirror_mode": {
    "name": "ipython",
    "version": 3
   },
   "file_extension": ".py",
   "mimetype": "text/x-python",
   "name": "python",
   "nbconvert_exporter": "python",
   "pygments_lexer": "ipython3",
   "version": "3.7.3"
  }
 },
 "nbformat": 4,
 "nbformat_minor": 2
}
